{
 "cells": [
  {
   "cell_type": "code",
   "execution_count": 1,
   "metadata": {
    "collapsed": false
   },
   "outputs": [],
   "source": [
    "import os\n",
    "import numpy as np \n",
    "import matplotlib.pyplot as plt\n",
    "from matplotlib_venn import venn2"
   ]
  },
  {
   "cell_type": "markdown",
   "metadata": {},
   "source": [
    "Introduce all necessary functions:\n",
    "    - reading the SDSS-CRTS cross-matched catalogue \n",
    "    - make cuts in the available objecs according to selection criteria "
   ]
  },
  {
   "cell_type": "code",
   "execution_count": 2,
   "metadata": {
    "collapsed": false
   },
   "outputs": [
    {
     "name": "stdout",
     "output_type": "stream",
     "text": [
      "Zipping CRTS-SDSS quasars catalog from  CRTS_SDSS_cross_matched_qso_DB_QSO_catalog.txt  ...\n",
      "Read in  7601 , quasars from CRTS\n",
      "zipping CRTS-SDSS stars catalog...\n"
     ]
    }
   ],
   "source": [
    "def get_qso_catalog(catalog):\n",
    "    if catalog == 's82drw':\n",
    "        File = 'CRTS_SDSS_cross_matched_qso_s82drw_catalog.txt'\n",
    "    if catalog == 'DB_QSO':\n",
    "        File = 'CRTS_SDSS_cross_matched_qso_DB_QSO_catalog.txt'\n",
    "    colnames = open(File,'r').read().splitlines()[0][1:].split()\n",
    "    datatable = np.genfromtxt(File, dtype=str)\n",
    "    qso_catalog = {}\n",
    "    print 'Zipping CRTS-SDSS quasars catalog from ', File, ' ...'\n",
    "    for label, column in zip(colnames, datatable.T):\n",
    "        qso_catalog[label] = column\n",
    "    \n",
    "    qso_names = np.genfromtxt('CRTS_SDSS_cross_matched_qso_names.txt', dtype=str)    \n",
    "    for i in range(len(qso_names)):\n",
    "        qso_names[i] = qso_names[i][4:-4]\n",
    "    print 'Read in ', len(qso_catalog['redshift']), ', quasars from CRTS'\n",
    "    return  colnames, qso_catalog, qso_names\n",
    "    \n",
    "def get_stars_catalog():\n",
    "    File = 'CRTS_SDSS_cross_matched_stars_catalog.txt'\n",
    "    colnames = open(File,'r').read().splitlines()[0][1:].split()\n",
    "    datatable = np.genfromtxt(File)\n",
    "    stars_catalog = {}\n",
    "    print 'zipping CRTS-SDSS stars catalog...'\n",
    "    for label, column in zip(colnames, datatable.T):\n",
    "        stars_catalog[label] = column\n",
    "        \n",
    "    return  colnames, stars_catalog\n",
    "\n",
    "cols1, qso_cat, qso_names = get_qso_catalog(catalog='DB_QSO') \n",
    "cols2 , star_cat= get_stars_catalog()\n",
    "\n",
    "# Perform cuts \n",
    "def cut_qso(qso_cat=qso_cat, qso_names=qso_names, mMin=-9, mMax=19, \n",
    "            mErrMin = -9, mErrMax = 0.3,cut_mag='r', report_mag = 'r'):\n",
    "\n",
    "    mask_mag = (qso_cat[cut_mag].astype(float) > mMin) * (qso_cat[cut_mag].astype(float) < mMax) \n",
    "    mask_err = (qso_cat['CRTS_avg_e'].astype(float) > mErrMin) * (qso_cat['CRTS_avg_e'].astype(float) < mErrMax)\n",
    "    mask = mask_mag * mask_err \n",
    "    qso_id = qso_names[mask]\n",
    "    qso_mags = qso_cat[report_mag][mask]\n",
    "    print '\\n These cuts reduced the number of qso  in the sample from', \\\n",
    "          len(qso_cat['redshift']), ' to ', len(qso_id)\n",
    "    return  qso_id\n",
    "\n",
    "def cut_stars(star_cat=star_cat, mMin=-9, mMax=19, mErrMin = -9, \n",
    "              mErrMax = 0.3, gi_Min = -1, gi_Max=1 , cut_mag='r_mMed',\n",
    "              report_mag = 'r_mMed'):\n",
    "\n",
    "    mask_mag = (star_cat[cut_mag] > mMin) * (star_cat[cut_mag] < mMax) \n",
    "    mask_err = (star_cat['CRTS_Merr'] > mErrMin) * (star_cat['CRTS_Merr'] < mErrMax)\n",
    "    SDSS_gi = star_cat['g_mMed'] - star_cat['i_mMed']\n",
    "    mask_color = (SDSS_gi > gi_Min ) * (SDSS_gi < gi_Max)\n",
    "    mask = mask_mag * mask_err * mask_color\n",
    "    star_id_f = star_cat['crts_id'][mask]\n",
    "    star_mags = star_cat[report_mag][mask]\n",
    "    # convert floats to strings without comma and zeros\n",
    "    star_id = np.array([\"{:.0f}\".format(name) for name in star_id_f])\n",
    "    print '\\n These cuts reduced the number of stars  in the sample from', \\\n",
    "          len(star_cat['CRTS_M']), ' to ', len(star_id)\n",
    "    return  star_id\n"
   ]
  },
  {
   "cell_type": "markdown",
   "metadata": {},
   "source": [
    "Introduce xi, ei reading functions"
   ]
  },
  {
   "cell_type": "markdown",
   "metadata": {},
   "source": [
    "## 1) Use SDSS g-mag, read 18-18.5 files only "
   ]
  },
  {
   "cell_type": "code",
   "execution_count": 41,
   "metadata": {
    "collapsed": false
   },
   "outputs": [
    {
     "name": "stdout",
     "output_type": "stream",
     "text": [
      "\n",
      "Using now only lightcurves with SDSS  17.000000< g < 18.000000\n",
      "\n",
      " Reporting SDSS g  \n",
      "\n",
      " These cuts reduced the number of stars  in the sample from 47787  to  2628\n",
      "\n",
      " These cuts reduced the number of stars  in the sample from 47787  to  1528\n",
      "\n",
      " These cuts reduced the number of qso  in the sample from 7601  to  127\n",
      "\n",
      "Using now only lightcurves with SDSS  17.000000< r < 18.000000\n",
      "\n",
      " Reporting SDSS r  \n",
      "\n",
      " These cuts reduced the number of stars  in the sample from 47787  to  2795\n",
      "\n",
      " These cuts reduced the number of stars  in the sample from 47787  to  2993\n",
      "\n",
      " These cuts reduced the number of qso  in the sample from 7601  to  185\n"
     ]
    }
   ],
   "source": [
    "Min = 17\n",
    "Max = 18\n",
    "magnitudes = ['g','r']\n",
    "\n",
    "objects_in_cut = {}\n",
    "\n",
    "for mag in magnitudes : \n",
    "    cut_mag = mag\n",
    "    report_mag = mag\n",
    "    \n",
    "    print('\\nUsing now only lightcurves with SDSS  %f< %s < %f' % (Min, cut_mag, Max))\n",
    "    print('\\n Reporting SDSS %s  '% report_mag)\n",
    "\n",
    "    good_ids_S_blue = cut_stars(mMin = Min, mMax=Max, mErrMax = 0.3, gi_Min = -1,\n",
    "                                              gi_Max=1, cut_mag=cut_mag + '_mMed', \n",
    "                                              report_mag=report_mag + '_mMed')\n",
    "    \n",
    "    good_ids_S_red = cut_stars(mMin = Min, mMax=Max, mErrMax = 0.3, gi_Min = 1, \n",
    "                                           gi_Max=3, cut_mag=cut_mag + '_mMed', \n",
    "                                           report_mag=report_mag + '_mMed')\n",
    "    \n",
    "    good_ids_QSO = cut_qso(mMin = Min, mMax=Max, mErrMax = 0.3, \n",
    "                                               cut_mag=cut_mag,report_mag=report_mag)\n",
    "    objects_in_cut[mag] = {'starsB':good_ids_S_blue, 'starsR':good_ids_S_red, \n",
    "                           'qso':good_ids_QSO}\n",
    "    "
   ]
  },
  {
   "cell_type": "markdown",
   "metadata": {},
   "source": [
    "## 2) Check what's the overlap : Venn diagrams "
   ]
  },
  {
   "cell_type": "code",
   "execution_count": 42,
   "metadata": {
    "collapsed": false
   },
   "outputs": [
    {
     "data": {
      "image/png": "[encoded data removed]",
      "text/plain": [
       "<matplotlib.figure.Figure at 0x1054c48d0>"
      ]
     },
     "metadata": {},
     "output_type": "display_data"
    }
   ],
   "source": [
    "%matplotlib inline\n",
    "# This shows the number of objects in each category \n",
    "f, ax = plt.subplots(2,2, figsize=(8,8))\n",
    "a = ax.ravel()\n",
    "objects = objects_in_cut['g'].keys()\n",
    "for i in range(len(objects)):\n",
    "    a[i].set_title(objects[i])\n",
    "    venn2([set(objects_in_cut['g'][objects[i]]),\n",
    "           set(objects_in_cut['r'][objects[i]])], \n",
    "          ('g', 'r'), ax=a[i] )\n"
   ]
  },
  {
   "cell_type": "markdown",
   "metadata": {},
   "source": [
    "## 3) Make g, r, gr bins, and merged versions\n"
   ]
  },
  {
   "cell_type": "code",
   "execution_count": 43,
   "metadata": {
    "collapsed": false
   },
   "outputs": [],
   "source": [
    "bins = {}\n",
    "#bin_types = ['g','r','gr', 'r_cut', 'g_cut']\n",
    "bin_types = ['r_cut', 'g_cut']\n",
    "objects = objects_in_cut['g'].keys()\n",
    "\n",
    "# first need to explicitly initialize the dictionaries \n",
    "for b in bin_types:\n",
    "    bins[b] = {}\n",
    "    \n",
    "for obj in objects : \n",
    "    #bins['g'][obj] = np.setdiff1d(objects_in_cut['g'][obj], objects_in_cut['r'][obj])\n",
    "    #bins['r'][obj] =  np.setdiff1d(objects_in_cut['r'][obj], objects_in_cut['g'][obj])\n",
    "    #bins['gr'][obj] =  np.intersect1d(objects_in_cut['g'][obj], objects_in_cut['r'][obj])\n",
    "    bins['r_cut'][obj] = objects_in_cut['r'][obj]\n",
    "    bins['g_cut'][obj] = objects_in_cut['g'][obj]\n"
   ]
  },
  {
   "cell_type": "code",
   "execution_count": null,
   "metadata": {
    "collapsed": true
   },
   "outputs": [],
   "source": []
  },
  {
   "cell_type": "code",
   "execution_count": 139,
   "metadata": {
    "collapsed": false
   },
   "outputs": [],
   "source": [
    "# Show that all the numbers agree with Venn diagrams above \n",
    "#for b in bin_types:\n",
    "#    print '\\n For bin', b\n",
    "#    for obj in objects :\n",
    "#        print obj, len(bins[b][obj])"
   ]
  },
  {
   "cell_type": "markdown",
   "metadata": {},
   "source": [
    "## 4) Read in xi, ei for objects in bins, selecting log(tau) < 1.7 "
   ]
  },
  {
   "cell_type": "code",
   "execution_count": 44,
   "metadata": {
    "collapsed": true
   },
   "outputs": [],
   "source": [
    "# inside the main loop : get tau, delflx from a master file, either qso or star\n",
    "def add_tau_delflx(File, inDir, data, fc):\n",
    "    # read in storage arrays\n",
    "    delflx = data[0]  \n",
    "    tau = data[1]\n",
    "    err = data[2]\n",
    "    master_acc_list = data[3]   \n",
    "    \n",
    "    # grab the object name \n",
    "    master_name = File[3:-4]\n",
    "    \n",
    "    # read in the i-th master file \n",
    "    master =  np.genfromtxt(inDir+File, dtype=str)\n",
    "    \n",
    "    # read in tau,  del_mag,  del_mag_err for quasars on the list \n",
    "    delflx = np.append(delflx, master[:,0].astype(float))\n",
    "    tau = np.append(tau, master[:,1].astype(float))\n",
    "    \n",
    "    if fc is not None :  # correct new master rows only if  asked for \n",
    "        err = np.append(err, master[:,2].astype(float)*fc)\n",
    "    else:                # otherwise read in without any correction\n",
    "        err = np.append(err, master[:,2].astype(float))\n",
    "    master_names  = np.append(master_acc_list, np.array(len(master[:,0])*[master_name]))\n",
    "    \n",
    "    return delflx, tau, err, master_names\n",
    "    \n",
    "def read_xi_ei(inDirStars, good_ids_S_blue, good_ids_S_red, inDirQSO,\n",
    "                 good_ids_QSO, xi_ei_data=None, fc=None):\n",
    "                     \n",
    "    inDir_S       = inDirStars\n",
    "    good_ids_S_blue    = good_ids_S_blue\n",
    "    good_ids_S_red    = good_ids_S_red\n",
    "    inDir_Q       = inDirQSO\n",
    "      \n",
    "    \n",
    "    # Read the Stellar Master file names \n",
    "    masterFiles_S = os.listdir(inDir_S)\n",
    "    masterFilesS1 = [name[3:-4] for name in masterFiles_S]\n",
    "    \n",
    "    good_masterSB = np.array(masterFiles_S)[np.in1d(masterFilesS1, good_ids_S_blue)]\n",
    "    good_masterSR = np.array(masterFiles_S)[np.in1d(masterFilesS1, good_ids_S_red)]\n",
    "    \n",
    "    # Read the QSO Master file names \n",
    "    masterFiles_Q = os.listdir(inDir_Q)\n",
    "    masterFilesQ1 = [name[3:-4] for name in masterFiles_Q]\n",
    "    good_masterQ = np.array(masterFiles_Q)[np.in1d(masterFilesQ1, good_ids_QSO)]\n",
    "    \n",
    "\n",
    "  \n",
    "    # If no previous read-in xi, ei exists, initialize arrays    \n",
    "    if xi_ei_data is None : \n",
    "        print 'making new delflx, tau, xi arrays'\n",
    "        delflx_S      = np.empty(0,dtype=float)\n",
    "        tau_S         = np.empty(0,dtype=float)\n",
    "        err_S         = np.empty(0,dtype=float)\n",
    "        master_acc_list_S = np.empty(0, dtype=str)\n",
    "    \n",
    "        \n",
    "       \n",
    "        delflx_Q      = np.empty(0,dtype=float)\n",
    "        tau_Q         = np.empty(0,dtype=float)\n",
    "        err_Q         = np.empty(0,dtype=float)\n",
    "        master_acc_list_Q = np.empty(0, dtype=str)\n",
    "        \n",
    "        # Initialize the data structures to which more and more delta_t and delta_mag\n",
    "        # are addded from each consecutive master file \n",
    "        qso_data = [delflx_Q, tau_Q, err_Q, master_acc_list_Q] \n",
    "        star_data_blue = [delflx_S, tau_S, err_S, master_acc_list_S]\n",
    "        star_data_red  = [delflx_S, tau_S, err_S, master_acc_list_S]\n",
    "        \n",
    "    else:\n",
    "        print 'using existing xi ei arrays'\n",
    "        qso_data = xi_ei_data[0]\n",
    "        star_data_blue = xi_ei_data[1]\n",
    "        star_data_red = xi_ei_data[2]\n",
    "        \n",
    "    print('\\n')\n",
    "    c = 0\n",
    "    for File in good_masterQ: #  len(masterFiles_Q)\n",
    "        #print 'Reading in ', File\n",
    "        \n",
    "        qso_data = add_tau_delflx(File,inDir_Q, qso_data, fc)\n",
    "        c += 1 \n",
    "        if c % 5 == 0:\n",
    "            pers = (100.0*c) / float(len(good_masterQ))\n",
    "            print('\\r----- Already read %d%% of qso'%pers),\n",
    "    \n",
    "    print('\\n')\n",
    "    c = 0                   \n",
    "    for File in good_masterSB:    # [:len(good_masterQ)]\n",
    "        #print 'Reading in ', File\n",
    "        star_data_blue = add_tau_delflx(File, inDir_S,star_data_blue, fc)\n",
    "        c += 1 \n",
    "        if c % 5 == 0:\n",
    "            pers = (100.0*c) / float(len(good_masterSB))\n",
    "            print('\\r----- Already read %d%% of Blue Stars'%pers),  \n",
    "    print('\\n')\n",
    "    c = 0                         \n",
    "    for File in good_masterSR:   # [:len(good_masterQ)]\n",
    "        #print 'Reading in ', File\n",
    "        star_data_red = add_tau_delflx(File, inDir_S, star_data_red, fc)      \n",
    "        c += 1               \n",
    "        if c % 5 == 0:\n",
    "            pers = (100.0*c) / float(len(good_masterSR))\n",
    "            print('\\r----- Already read %d%% of Red Stars'%pers),          \n",
    "                     \n",
    "    print('returning xi, ei for ... %d objects'%len(good_masterQ))\n",
    "                            \n",
    "    return  qso_data, star_data_blue, star_data_red"
   ]
  },
  {
   "cell_type": "code",
   "execution_count": 45,
   "metadata": {
    "collapsed": false
   },
   "outputs": [
    {
     "name": "stdout",
     "output_type": "stream",
     "text": [
      "\n",
      "Reading in  xi, ei  for bin  r_cut\n",
      "making new delflx, tau, xi arrays\n",
      "\n",
      "\n",
      "----- Already read 100% of qso \n",
      "\n",
      "----- Already read 100% of Blue Stars \n",
      "\n",
      "----- Already read 99% of Red Stars returning xi, ei for ... 185 objects\n",
      "\n",
      "Reading in  xi, ei  for bin  g_cut\n",
      "making new delflx, tau, xi arrays\n",
      "\n",
      "\n",
      "----- Already read 98% of qso \n",
      "\n",
      "----- Already read 99% of Blue Stars \n",
      "\n",
      "----- Already read 99% of Red Stars returning xi, ei for ... 127 objects\n"
     ]
    }
   ],
   "source": [
    "inDirStars   = 'sf_file_per_LC/star/'\n",
    "inDirQSO = 'sf_file_per_LC/qso/'\n",
    "\n",
    "out_dic = {}\n",
    "\n",
    "for b in bins.keys():\n",
    "    print '\\nReading in  xi, ei  for bin ', b\n",
    "    out_dic[b] = {}   # initialize the dic \n",
    "    \n",
    "    good_ids_S_blue = bins[b]['starsB']\n",
    "    good_ids_S_red = bins[b]['starsR']\n",
    "    good_ids_QSO = bins[b]['qso']\n",
    "    \n",
    "    qso, starB, starR = read_xi_ei(inDirStars, good_ids_S_blue, good_ids_S_red, inDirQSO,\n",
    "                  good_ids_QSO,xi_ei_data=None, fc=None)\n",
    "\n",
    "    # put into a dictionary : makes it more explicit \n",
    "    out_dic[b] = {'starsB': starB, 'starsR': starR, 'qso':qso}\n",
    "    "
   ]
  },
  {
   "cell_type": "code",
   "execution_count": 121,
   "metadata": {
    "collapsed": false
   },
   "outputs": [],
   "source": [
    "# For some objects some bins are empty: I hope this does not throw an exception in read_xi_ei.\n",
    "# Otherwise need to modify the code to allow for that \n",
    "\n",
    "#for key in bins.keys():\n",
    "#    for obj in bins['g'].keys() :\n",
    "#        print len(bins[key][obj])\n"
   ]
  },
  {
   "cell_type": "code",
   "execution_count": 46,
   "metadata": {
    "collapsed": false
   },
   "outputs": [
    {
     "name": "stdout",
     "output_type": "stream",
     "text": [
      "\n",
      " Selecting sample log(tau) < 1.7 for bin r_cut  for  qso\n",
      "Before log(tau) cut we have 185 objects\n",
      "After log(tau) cut we have 185 objects\n",
      "\n",
      " Selecting sample log(tau) < 1.7 for bin r_cut  for  starsB\n",
      "Before log(tau) cut we have 2795 objects\n",
      "After log(tau) cut we have 2795 objects\n",
      "\n",
      " Selecting sample log(tau) < 1.7 for bin r_cut  for  starsR\n",
      "Before log(tau) cut we have 2993 objects\n",
      "After log(tau) cut we have 2993 objects\n",
      "\n",
      " Selecting sample log(tau) < 1.7 for bin g_cut  for  qso\n",
      "Before log(tau) cut we have 127 objects\n",
      "After log(tau) cut we have 127 objects\n",
      "\n",
      " Selecting sample log(tau) < 1.7 for bin g_cut  for  starsB\n",
      "Before log(tau) cut we have 2628 objects\n",
      "After log(tau) cut we have 2628 objects\n",
      "\n",
      " Selecting sample log(tau) < 1.7 for bin g_cut  for  starsR\n",
      "Before log(tau) cut we have 1528 objects\n",
      "After log(tau) cut we have 1528 objects\n"
     ]
    }
   ],
   "source": [
    "# Select   log(tau) < 1.7 from each set of xi,ei  \n",
    "\n",
    "out_dic_cut = {}\n",
    "\n",
    "for b in out_dic.keys():\n",
    "    out_dic_cut[b] = {}\n",
    "    \n",
    "    for obj in out_dic[b].keys() : \n",
    "        \n",
    "        print '\\n Selecting sample log(tau) < 1.7 for bin', b, ' for ', obj\n",
    "        \n",
    "        xi  = out_dic[b][obj][0]\n",
    "        tau = out_dic[b][obj][1]\n",
    "        ei  = out_dic[b][obj][2]\n",
    "        n   = out_dic[b][obj][3]\n",
    "        \n",
    "        # make log(tau) cut\n",
    "        print('Before log(tau) cut we have %d objects'% len(np.unique(n)))\n",
    "        \n",
    "        mask_tau = np.log10(tau)<1.7\n",
    "        \n",
    "        print('After log(tau) cut we have %d objects'% len(np.unique(n[mask_tau])))\n",
    "        \n",
    "        # save xi,ei,tau, n  that satisfy the cut \n",
    "        out_dic_cut[b][obj] = [xi, tau, ei, n]\n",
    "        "
   ]
  },
  {
   "cell_type": "markdown",
   "metadata": {},
   "source": [
    "## 5) Calculate descriptive statistics per bin  per sample"
   ]
  },
  {
   "cell_type": "code",
   "execution_count": null,
   "metadata": {
    "collapsed": true
   },
   "outputs": [],
   "source": [
    "## Statistics to calculate : \n",
    "## median CRTS mag,  median CRTS avg err ,  median CRTS ei error"
   ]
  },
  {
   "cell_type": "code",
   "execution_count": 47,
   "metadata": {
    "collapsed": false
   },
   "outputs": [
    {
     "name": "stdout",
     "output_type": "stream",
     "text": [
      "\n",
      " b= r_cut\n",
      "obj= qso\n",
      "185\n",
      "obj= starsB\n",
      "2795\n",
      "obj= starsR\n",
      "2993\n",
      "\n",
      " b= g_cut\n",
      "obj= qso\n",
      "127\n",
      "obj= starsB\n",
      "2628\n",
      "obj= starsR\n",
      "1528\n"
     ]
    }
   ],
   "source": [
    "# Figure out what objects are in the log(tau) < 1.7 samples : make new lists of names, \n",
    "# similar to making bins in the first place \n",
    "\n",
    "# Now grab unique names of objects that appear in my samples\n",
    "new_bins = {}\n",
    "for b in out_dic_cut.keys():\n",
    "    new_bins[b] = {}\n",
    "    print '\\n b=', b\n",
    "    for obj in out_dic_cut[b].keys():\n",
    "        print 'obj=', obj\n",
    "        uniq_names = np.unique(out_dic_cut[b][obj][3]) \n",
    "        new_bins[b][obj] = uniq_names\n",
    "        print len(uniq_names)\n",
    "        \n",
    "    "
   ]
  },
  {
   "cell_type": "code",
   "execution_count": 29,
   "metadata": {
    "collapsed": false
   },
   "outputs": [],
   "source": [
    "# Grab mean lightcurve magnitude from CRTS for each object in the sample : \n",
    "#qso_cat.keys()  'CRTS_avg_m'\n",
    "#star_cat.keys() 'CRTS_M'\n",
    "\n",
    "# Grab also mean lightcurve error from CRTS for each object in the sample :\n",
    "#qso_cat.keys()  'CRTS_avg_e'\n",
    "#star_cat.keys() 'CRTS_Merr'\n"
   ]
  },
  {
   "cell_type": "code",
   "execution_count": 35,
   "metadata": {
    "collapsed": false
   },
   "outputs": [
    {
     "data": {
      "text/plain": [
       "0"
      ]
     },
     "execution_count": 35,
     "metadata": {},
     "output_type": "execute_result"
    }
   ],
   "source": [
    "#np.sum(np.in1d(new_bins['g']['starsB'], new_bins['g']['starsR']))"
   ]
  },
  {
   "cell_type": "code",
   "execution_count": 48,
   "metadata": {
    "collapsed": false
   },
   "outputs": [
    {
     "name": "stdout",
     "output_type": "stream",
     "text": [
      "\n",
      "b= r_cut\n",
      "obj= qso\n",
      "obj= starsB\n",
      "obj= starsR\n",
      "\n",
      "b= g_cut\n",
      "obj= qso\n",
      "obj= starsB\n",
      "obj= starsR\n"
     ]
    }
   ],
   "source": [
    "# Grab lightcurve - averaged properties , averaged over all objects \n",
    "# of a given type in my sample \n",
    "\n",
    "new_bins_props = {}\n",
    "new_bins_arrays = {}\n",
    "\n",
    "for b in new_bins.keys():\n",
    "    print '\\nb=', b\n",
    "    new_bins_props[b] = {}\n",
    "    new_bins_arrays[b] = {}\n",
    "    \n",
    "    for obj in new_bins[b].keys():\n",
    "        print 'obj=', obj\n",
    "        if obj == 'qso' : \n",
    "            CRTS_avg_err = [qso_cat['CRTS_avg_e'][qso_cat['CRTS_id']==qso][0] for qso\n",
    "                           in new_bins[b][obj]]\n",
    "            CRTS_avg_mag = [qso_cat['CRTS_avg_m'][qso_cat['CRTS_id']==qso][0] for qso\n",
    "                           in new_bins[b][obj]]\n",
    "            \n",
    "        else : \n",
    "            \n",
    "            CRTS_avg_err = [star_cat['CRTS_Merr'][star_cat['crts_id']== float(star)][0] for star\n",
    "                           in new_bins[b][obj]]\n",
    "            CRTS_avg_mag = [star_cat['CRTS_M'][star_cat['crts_id']==float(star)][0] for star\n",
    "                           in new_bins[b][obj]]\n",
    "        \n",
    "        # change into floats and arrays \n",
    "        arr1 = np.array(CRTS_avg_err).astype(float)\n",
    "        arr2 = np.array(CRTS_avg_mag).astype(float)\n",
    "        new_bins_arrays[b][obj] = {'CRTS_avg_err' : arr1,\n",
    "                                   'CRTS_avg_mag' : arr2}\n",
    "        \n",
    "        med_avg_err = np.median(arr1)\n",
    "        med_avg_mag = np.median(arr2) \n",
    "        \n",
    "        new_bins_props[b][obj] = {'median_CRTS_avg_err':med_avg_err, \n",
    "                                 'median_CRTS_avg_mag':med_avg_mag\n",
    "                                }"
   ]
  },
  {
   "cell_type": "code",
   "execution_count": 49,
   "metadata": {
    "collapsed": false
   },
   "outputs": [
    {
     "name": "stdout",
     "output_type": "stream",
     "text": [
      "\n",
      "r_cut\n",
      "\n",
      "g_cut\n"
     ]
    }
   ],
   "source": [
    "# Grab magnitude difference quantities, corresponding to individual delta_mag,  \n",
    "# delta_mag_err, delta_tau  points in my sample \n",
    "\n",
    "for b in new_bins.keys():\n",
    "    print '\\n', b\n",
    "    for obj in new_bins[b].keys():\n",
    "        \n",
    "        # Grab  delta_magnitude and corresponding errors from lightcurve points \n",
    "        # added in quadrature \n",
    "        ei = out_dic_cut[b][obj][2]\n",
    "        mi = out_dic_cut[b][obj][0]\n",
    "        \n",
    "        # Calculate median  ei  for each bin\n",
    "        new_bins_props[b][obj]['median_CRTS_ei'] =  np.median(ei)\n",
    "        \n",
    "        # Calculate robust standard deviation for delta mag \n",
    "        if len(mi) > 0 : \n",
    "            \n",
    "            new_bins_props[b][obj]['stdev_robust_mi'] = 0.7414 *(np.percentile(mi,75) - np.percentile(mi,25))\n",
    "        else : \n",
    "            new_bins_props[b][obj]['stdev_robust_mi'] = np.nan\n",
    "            \n",
    "        # Calculate robust standard deviation for chi_ij = (delta_mag_ij / error_ij)\n",
    "        if len(mi) > 0 and len(ei) > 0 : \n",
    "            chi = mi / ei \n",
    "            new_bins_props[b][obj]['stdev_robust_chi'] = 0.7414 *(np.percentile(chi,75) - np.percentile(chi,25))\n",
    "        else : \n",
    "            new_bins_props[b][obj]['stdev_robust_chi'] = np.nan"
   ]
  },
  {
   "cell_type": "code",
   "execution_count": 108,
   "metadata": {
    "collapsed": false
   },
   "outputs": [],
   "source": [
    "#for b in new_bins_props.keys():\n",
    "#    print '\\nbin', b \n",
    "#    for obj in new_bins_props[b].keys():\n",
    "#        print '\\n', obj \n",
    "#        print new_bins_props[b][obj]"
   ]
  },
  {
   "cell_type": "markdown",
   "metadata": {},
   "source": [
    "## 6) Save all results to a file, and print them to the screen "
   ]
  },
  {
   "cell_type": "code",
   "execution_count": 25,
   "metadata": {
    "collapsed": false
   },
   "outputs": [
    {
     "data": {
      "text/plain": [
       "'{0:8s}|{1:8}|{2:8}|{3:8}'"
      ]
     },
     "execution_count": 25,
     "metadata": {},
     "output_type": "execute_result"
    }
   ],
   "source": [
    "temp_head"
   ]
  },
  {
   "cell_type": "code",
   "execution_count": 50,
   "metadata": {
    "collapsed": false
   },
   "outputs": [
    {
     "name": "stdout",
     "output_type": "stream",
     "text": [
      "        median_CRTS_ei\n",
      "    \n",
      "        |r_cut   |g_cut   \n",
      "qso     |   0.143|   0.139\n",
      "starsB  |   0.070|   0.060\n",
      "starsR  |   0.067|   0.053\n",
      "    \n",
      "        stdev_robust_mi\n",
      "    \n",
      "        |r_cut   |g_cut   \n",
      "qso     |   0.305|   0.305\n",
      "starsB  |   0.063|   0.047\n",
      "starsR  |   0.058|   0.035\n",
      "    \n",
      "        median_CRTS_avg_mag\n",
      "    \n",
      "        |r_cut   |g_cut   \n",
      "qso     |  17.578|  17.392\n",
      "starsB  |  17.436|  16.944\n",
      "starsR  |  17.356|  16.386\n",
      "    \n",
      "        stdev_robust_chi\n",
      "    \n",
      "        |r_cut   |g_cut   \n",
      "qso     |   1.991|   2.027\n",
      "starsB  |   0.909|   0.775\n",
      "starsR  |   0.870|   0.671\n",
      "    \n",
      "        median_CRTS_avg_err\n",
      "    \n",
      "        |r_cut   |g_cut   \n",
      "qso     |   0.050|   0.048\n",
      "starsB  |   0.050|   0.043\n",
      "starsR  |   0.048|   0.037\n",
      "    \n",
      "Saved all to a file CRTS_17-18_mag_r_cutg_cut.txt\n"
     ]
    }
   ],
   "source": [
    "# save to a file \n",
    "pre = ''\n",
    "for b in bin_types:\n",
    "    pre += b\n",
    "    \n",
    "savefile = 'CRTS_'+str(Min)+'-'+str(Max)+'_mag_'+pre+'.txt'\n",
    "f = open(savefile,\"w\")\n",
    "\n",
    "# loop over all lines to display\n",
    "for prop in new_bins_props[b][obj].keys():\n",
    "\n",
    "    data = [[],[],[]]\n",
    "\n",
    "    i = 0\n",
    "    for obj in new_bins_props[b].keys():\n",
    "        data[i].append(obj)\n",
    "        for b in new_bins_props.keys():\n",
    "            data[i].append(new_bins_props[b][obj][prop])\n",
    "        i += 1\n",
    "\n",
    "    # assume that your data rows are tuples\n",
    "    temp_head = \"{0:8s}|{1:8}|{2:8}\" # column widths: 8, 10, 15, 7, 10\n",
    "    temp_lines = \"{0:8s}|{1:8.3f}|{2:8.3f}\"\n",
    "    \n",
    "    \n",
    "    \n",
    "    s_title = '        ' +  prop\n",
    "    print s_title\n",
    "    f.write(s_title+'\\n')\n",
    "    \n",
    "    s_sep = '    '\n",
    "    print s_sep\n",
    "    f.write(s_sep+'\\n')\n",
    "\n",
    "    s_head = temp_head.format(\" \", \"r_cut\", \"g_cut\")\n",
    "    print  s_head\n",
    "    f.write(s_head+'\\n')\n",
    "    \n",
    "    for rec in data: \n",
    "        s_line  = temp_lines.format(*rec)\n",
    "        print s_line\n",
    "        f.write(s_line+'\\n')\n",
    "    print '    '\n",
    "    f.write('   '+'\\n')\n",
    "\n",
    "# At the end, close the file \n",
    "f.close()\n",
    "print 'Saved all to a file', savefile  "
   ]
  },
  {
   "cell_type": "code",
   "execution_count": 135,
   "metadata": {
    "collapsed": false
   },
   "outputs": [
    {
     "data": {
      "image/png": "[encoded data removed]",
      "text/plain": [
       "<matplotlib.figure.Figure at 0x105301510>"
      ]
     },
     "metadata": {},
     "output_type": "display_data"
    }
   ],
   "source": [
    "%matplotlib inline \n",
    "fig = plt.figure()\n",
    "ax = fig.add_subplot(111)\n",
    "ax.set_ylabel('N')\n",
    "nbins = 50\n",
    "colors = ['black','red','blue']\n",
    "for i in range(len(new_bins_arrays['r'].keys())):\n",
    "    obj = new_bins_arrays['r'].keys()[i]\n",
    "    hist1, bin_edges = np.histogram(new_bins_arrays['r'][obj]['CRTS_avg_err'], bins=nbins, density=True)\n",
    "    bin_centres1 = (bin_edges[:-1] + bin_edges[1:])/2\n",
    "    ax.plot(bin_centres1, hist1, color = colors[i], ls = 'steps', label=obj)\n",
    "\n",
    "ax.legend()\n",
    "plt.savefig(str(Min)+'-'+str(Max)+'_test_r_bin-CRTS_avg_err_.png')\n"
   ]
  },
  {
   "cell_type": "code",
   "execution_count": null,
   "metadata": {
    "collapsed": true
   },
   "outputs": [],
   "source": []
  }
 ],
 "metadata": {
  "kernelspec": {
   "display_name": "Python 2",
   "language": "python",
   "name": "python2"
  },
  "language_info": {
   "codemirror_mode": {
    "name": "ipython",
    "version": 2
   },
   "file_extension": ".py",
   "mimetype": "text/x-python",
   "name": "python",
   "nbconvert_exporter": "python",
   "pygments_lexer": "ipython2",
   "version": "2.7.10"
  }
 },
 "nbformat": 4,
 "nbformat_minor": 0
}
