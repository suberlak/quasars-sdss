{
 "cells": [
  {
   "cell_type": "markdown",
   "metadata": {},
   "source": [
    "Investigate whether the QSO are handled correctly  : if the values calculated for a given lightcurve are actually carried on with that lightcurve \n",
    "    "
   ]
  },
  {
   "cell_type": "code",
   "execution_count": 3,
   "metadata": {
    "collapsed": true
   },
   "outputs": [],
   "source": [
    "\n",
    "import numpy as np\n",
    "import os\n",
    "\n",
    "def load_sdss_qso(catalog = 'DB_QSO'):\n",
    "    '''\n",
    "    DB_QSO  : DB_QSO_S82.dat, with SDSS ugriz, for 9258 objects\n",
    "    '''\n",
    "   \n",
    "    if catalog == 'DB_QSO' : \n",
    "        # note : ra and dec in degrees\n",
    "        File = 'DB_QSO_S82.dat'\n",
    "        datatable = np.genfromtxt(File)\n",
    "        colnames = ['dbID', 'ra', 'dec', 'SDR5ID', 'M_i', 'M_i_corr', 'redshift',\n",
    "                   'mass_BH', 'Lbol', 'u', 'g', 'r', 'i', 'z', 'Au']\n",
    "        data_quasars = {}\n",
    "        print 'zipping quasars...'\n",
    "        for label, column in zip(colnames, datatable.T):\n",
    "            data_quasars[label] = column\n",
    "        \n",
    "        print 'I read in data for ', len(data_quasars['ra']), ' SDSS quasars'\n",
    "        print 'From catalog ', File\n",
    "        return data_quasars\n",
    "              \n",
    "def load_crts_qso(inDir):\n",
    "    # load names of quasars, which already contain ra and dec infor \n",
    "    CRTS_qso  = os.listdir(inDir)\n",
    "    print '\\nI loaded names of ', len(CRTS_qso), ' CRTS quasars'\n",
    "    return CRTS_qso\n",
    "\n",
    "crts_dirs = ['../QSO_CRTS_processed_err_w/','../stars_CRTS_proc_err_w_good/']\n"
   ]
  },
  {
   "cell_type": "code",
   "execution_count": 41,
   "metadata": {
    "collapsed": true
   },
   "outputs": [],
   "source": [
    "def get_ra_dec_CRTS(ra_hms, dec_hms):\n",
    "    \"\"\"\n",
    "    Extracting RA, DEC information from the QSO  name for the CRTS case \n",
    "    \"\"\"\n",
    "    \n",
    "    dec_hms_split = np.empty(0, dtype=str)\n",
    "    for i in range(0,len(dec_hms)):\n",
    "        dec_hms_split = np.append(dec_hms_split,  dec_hms[i][0:3]+' '+dec_hms[i][3:5]+' '+dec_hms[i][5:9])\n",
    "    \n",
    "    \n",
    "    ra_hms_split = np.empty(0, dtype=str)\n",
    "    for i in range(0,len(ra_hms)):\n",
    "        ra_hms_split = np.append(ra_hms_split, ra_hms[i][0:2]+' '+ ra_hms[i][2:4] + ' ' + ra_hms[i][4:9])\n",
    "    return ra_hms_split, dec_hms_split\n",
    "     \n",
    "def HMS2deg(ra='', dec=''):\n",
    "    \"\"\"\n",
    "    From http://www.bdnyc.org/2012/10/15/decimal-deg-to-hms/  \n",
    "    Converting  ra and dec from h:m:s   and deg:m:s  to  degrees.decimal \n",
    "    I assume they are using ICRS coordinates \n",
    "    \"\"\"\n",
    "    RA, DEC, rs, ds = '', '', 1, 1\n",
    "    if dec:\n",
    "        D, M, S = [float(i) for i in dec.split()]\n",
    "        if str(D)[0] == '-':\n",
    "            ds, D = -1, abs(D)\n",
    "        deg = D + (M/60) + (S/3600)\n",
    "        DEC = '{0}'.format(deg*ds)\n",
    "      \n",
    "    if ra:\n",
    "        H, M, S = [float(i) for i in ra.split()]\n",
    "        if str(H)[0] == '-':\n",
    "            rs, H = -1, abs(H)\n",
    "        deg = (H*15) + (M/4) + (S/240)\n",
    "        RA = '{0}'.format(deg*rs)\n",
    "      \n",
    "    if ra and dec:\n",
    "        return (RA, DEC)\n",
    "    else:\n",
    "        return RA or DEC\n",
    "    \n",
    "    \n",
    "def convert_to_deg(ra_split, dec_split):\n",
    "    '''\n",
    "    Converts ra and dec from h:m:s  extracted from the quasar name with \n",
    "    get_ra_dec_CRTS()  to  degrees.decimal , using HMS2deg() function\n",
    "    '''\n",
    "    ra_deg  =   np.empty(0, dtype=float)\n",
    "    dec_deg =   np.empty(0, dtype=float)\n",
    "    \n",
    "    for i in range(0,len(dec_split)):\n",
    "        dec_deg = np.append(dec_deg,float(HMS2deg(dec=dec_split[i])))\n",
    "    \n",
    "    \n",
    "    for i in range(0,len(ra_split)):\n",
    "        ra_deg = np.append(ra_deg,float(HMS2deg(ra=ra_split[i])))\n",
    "    return ra_deg , dec_deg\n",
    "    \n",
    "\n",
    "def match_catalogs(cat1_ra, cat1_dec, cat2_ra, cat2_dec):\n",
    "    from astropy import units as u\n",
    "    from astropy.coordinates import SkyCoord\n",
    "    cat1 = SkyCoord(ra=cat1_ra*u.degree, dec=cat1_dec*u.degree)\n",
    "    cat2 = SkyCoord(ra=cat2_ra*u.degree, dec=cat2_dec*u.degree)\n",
    "    idx, sep2d, dist3d = cat1.match_to_catalog_sky(cat2)\n",
    "    #np.savez(archive_file, SDSS_matching_rows = idx, matched_radius=sep2d ) \n",
    "    return idx, sep2d \n"
   ]
  },
  {
   "cell_type": "code",
   "execution_count": 39,
   "metadata": {
    "collapsed": false
   },
   "outputs": [
    {
     "name": "stdout",
     "output_type": "stream",
     "text": [
      "\n",
      "I loaded names of  7601  CRTS quasars\n",
      "zipping quasars...\n",
      "I read in data for  9258  SDSS quasars\n",
      "From catalog  DB_QSO_S82.dat\n"
     ]
    }
   ],
   "source": [
    "# load names from CRTS \n",
    "DIR = crts_dirs[0]\n",
    "crts_qso_names = load_crts_qso(DIR)\n",
    "\n",
    "# load data from SDSS\n",
    "sdss_qso_data =  load_sdss_qso()\n"
   ]
  },
  {
   "cell_type": "code",
   "execution_count": 11,
   "metadata": {
    "collapsed": false
   },
   "outputs": [
    {
     "name": "stdout",
     "output_type": "stream",
     "text": [
      "- Computing average mag, err , extracting ra, dec for 7601 points\n",
      "----- Already read 99% of QSO \n"
     ]
    }
   ],
   "source": [
    "length= len(crts_qso_names)\n",
    "print '- Computing average mag, err , extracting ra, dec for %i points' % length\n",
    "\n",
    "avg_mag=[]\n",
    "avg_err=[]\n",
    "ra_ls =[]\n",
    "dec_ls=[]\n",
    "mjd_span = []\n",
    "mjd_uniq_N = []\n",
    "N_rows = []        \n",
    "c=0\n",
    "for i in range(length):\n",
    "    file = str(crts_qso_names[i])\n",
    "    #print '\\nCRTS quasars file ',i, 'out of',  length\n",
    "    mjd,flx4,err = np.loadtxt(DIR+'%s' % (file),usecols=(0,1,2),unpack=True)\n",
    "\n",
    "    # 1) Average brightness per LC\n",
    "    avg_mag.append(np.mean(flx4))\n",
    "\n",
    "    # 2) Average error per LC\n",
    "    avg_err.append(np.mean(err))\n",
    "\n",
    "    # 3) Delta_MJD : span in days between final and first day\n",
    "    mjd_span.append(int(mjd.max()-mjd.min()))  \n",
    "\n",
    "    # 4) N_MJD : number of days (i.e. taking the integer part of mjd \n",
    "    # date and picking only those that are unique)\n",
    "    unique_mjds = np.unique([int(day) for day in mjd])\n",
    "    mjd_uniq_N.append(len(unique_mjds))  # number of days observed \n",
    "\n",
    "    # 5) N_rows : number of rows per LC \n",
    "    N_rows.append(len(mjd))\n",
    "\n",
    "    # 6) CRTS  ra and dec for that object ( no  need to pull ra, dec \n",
    "    # from a separate file, matching by name, because the qso name\n",
    "    # already includes that... )\n",
    "    ra_ls.append(file[4:13])\n",
    "    dec_ls.append(file[13:-4])\n",
    "    c += 1 \n",
    "    if c % 5 == 0:\n",
    "            pers = (100.0*c) / float(length)\n",
    "            print('\\r----- Already read %d%% of QSO '%pers), "
   ]
  },
  {
   "cell_type": "code",
   "execution_count": 14,
   "metadata": {
    "collapsed": false
   },
   "outputs": [
    {
     "data": {
      "text/plain": [
       "0.053901886792452829"
      ]
     },
     "execution_count": 14,
     "metadata": {},
     "output_type": "execute_result"
    }
   ],
   "source": [
    "avg_err[0]"
   ]
  },
  {
   "cell_type": "code",
   "execution_count": 16,
   "metadata": {
    "collapsed": false
   },
   "outputs": [
    {
     "data": {
      "text/plain": [
       "'out_001053.56+000642.9.txt'"
      ]
     },
     "execution_count": 16,
     "metadata": {},
     "output_type": "execute_result"
    }
   ],
   "source": [
    "crts_qso_names[0]"
   ]
  },
  {
   "cell_type": "code",
   "execution_count": 17,
   "metadata": {
    "collapsed": false
   },
   "outputs": [
    {
     "data": {
      "text/plain": [
       "'001053.56'"
      ]
     },
     "execution_count": 17,
     "metadata": {},
     "output_type": "execute_result"
    }
   ],
   "source": [
    "ra_ls[0]"
   ]
  },
  {
   "cell_type": "code",
   "execution_count": 18,
   "metadata": {
    "collapsed": false
   },
   "outputs": [
    {
     "data": {
      "text/plain": [
       "'+000642.9'"
      ]
     },
     "execution_count": 18,
     "metadata": {},
     "output_type": "execute_result"
    }
   ],
   "source": [
    "dec_ls[0]"
   ]
  },
  {
   "cell_type": "code",
   "execution_count": 19,
   "metadata": {
    "collapsed": true
   },
   "outputs": [],
   "source": [
    "# Split CRTS  ra, dec from hms to h m s \n",
    "ra_hms_split, dec_hms_split = get_ra_dec_CRTS(ra_ls, dec_ls)\n",
    "# Convert CRTS  ra, dec from hms to deg  \n",
    "ra_deg_CRTS, dec_deg_CRTS = convert_to_deg(ra_hms_split, dec_hms_split)\n"
   ]
  },
  {
   "cell_type": "code",
   "execution_count": 21,
   "metadata": {
    "collapsed": false
   },
   "outputs": [
    {
     "data": {
      "text/plain": [
       "array(['+00 06 42.9', '-00 31 33.2', '-00 18 30.1', ..., '+00 03 29.8',\n",
       "       '+00 32 27.8', '+00 30 56.4'], \n",
       "      dtype='|S11')"
      ]
     },
     "execution_count": 21,
     "metadata": {},
     "output_type": "execute_result"
    }
   ],
   "source": [
    "dec_hms_split"
   ]
  },
  {
   "cell_type": "code",
   "execution_count": 22,
   "metadata": {
    "collapsed": false
   },
   "outputs": [
    {
     "data": {
      "text/plain": [
       "array([   2.72316667,    2.71229167,    2.69995833, ...,  359.41179167,\n",
       "        359.40816667,  359.401125  ])"
      ]
     },
     "execution_count": 22,
     "metadata": {},
     "output_type": "execute_result"
    }
   ],
   "source": [
    "ra_deg_CRTS"
   ]
  },
  {
   "cell_type": "code",
   "execution_count": 23,
   "metadata": {
    "collapsed": false
   },
   "outputs": [
    {
     "data": {
      "text/plain": [
       "array([ 0.11191667, -0.52588889, -0.30836111, ...,  0.05827778,\n",
       "        0.54105556,  0.51566667])"
      ]
     },
     "execution_count": 23,
     "metadata": {},
     "output_type": "execute_result"
    }
   ],
   "source": [
    "dec_deg_CRTS"
   ]
  },
  {
   "cell_type": "code",
   "execution_count": 38,
   "metadata": {
    "collapsed": false
   },
   "outputs": [],
   "source": [
    "#from astropy.coordinates import SkyCoord\n",
    "#from astropy import units as u\n",
    "#ra_deg = []\n",
    "#dec_deg = [] \n",
    "#for i in range(len(ra_hms_split)): \n",
    "#    a = SkyCoord(ra_hms_split[i]+dec_hms_split[i], unit=(u.hourangle, u.deg))\n",
    "#    ra_deg.append(a.ra.deg)\n",
    "#    dec_deg.append(a.dec.deg)"
   ]
  },
  {
   "cell_type": "code",
   "execution_count": 42,
   "metadata": {
    "collapsed": false
   },
   "outputs": [
    {
     "name": "stdout",
     "output_type": "stream",
     "text": [
      "\n",
      "- Computing the SDSS matching rows to CRTS quasars\n"
     ]
    }
   ],
   "source": [
    "print '\\n- Computing the SDSS matching rows to CRTS quasars'\n",
    "SDSS_matching_rows , matched_radius= match_catalogs(cat1_ra=ra_deg_CRTS, \n",
    "                                                    cat1_dec=dec_deg_CRTS, \n",
    "                                                    cat2_ra= sdss_qso_data['ra'], \n",
    "                                                    cat2_dec=sdss_qso_data['dec']) "
   ]
  },
  {
   "cell_type": "code",
   "execution_count": 43,
   "metadata": {
    "collapsed": true
   },
   "outputs": [],
   "source": [
    "crts_qso_names_radec = [name[4:-4] for name in crts_qso_names] "
   ]
  },
  {
   "cell_type": "code",
   "execution_count": 44,
   "metadata": {
    "collapsed": false
   },
   "outputs": [
    {
     "data": {
      "text/plain": [
       "'001053.56+000642.9'"
      ]
     },
     "execution_count": 44,
     "metadata": {},
     "output_type": "execute_result"
    }
   ],
   "source": [
    "crts_qso_names_radec[0]"
   ]
  },
  {
   "cell_type": "code",
   "execution_count": 45,
   "metadata": {
    "collapsed": false
   },
   "outputs": [
    {
     "data": {
      "text/plain": [
       "'out_001053.56+000642.9.txt'"
      ]
     },
     "execution_count": 45,
     "metadata": {},
     "output_type": "execute_result"
    }
   ],
   "source": [
    "crts_qso_names[0]"
   ]
  },
  {
   "cell_type": "code",
   "execution_count": 54,
   "metadata": {
    "collapsed": false
   },
   "outputs": [],
   "source": [
    "ind=SDSS_matching_rows"
   ]
  },
  {
   "cell_type": "code",
   "execution_count": 55,
   "metadata": {
    "collapsed": false
   },
   "outputs": [],
   "source": [
    "datatable=np.array([crts_qso_names_radec, avg_mag, avg_err, sdss_qso_data['z'][ind], \n",
    "                      sdss_qso_data['i'][ind], sdss_qso_data['r'][ind],\n",
    "                      sdss_qso_data['g'][ind], sdss_qso_data['u'][ind], \n",
    "                      sdss_qso_data['redshift'][ind], sdss_qso_data['ra'][ind], \n",
    "                      sdss_qso_data['dec'][ind], ra_deg_CRTS, dec_deg_CRTS,\n",
    "                      mjd_span, mjd_uniq_N, N_rows])\n",
    "colnames = ['CRTS_id','CRTS_avg_mag','CRTS_avg_err', 'z', 'i', 'r', 'g', 'u', \n",
    "                'redshift', 'ra_SDSS', 'dec_SDSS', 'ra_CRTS', 'dec_CRTS', \n",
    "                'mjd_span', 'mjd_uniq_N', 'N_rows']"
   ]
  },
  {
   "cell_type": "code",
   "execution_count": 56,
   "metadata": {
    "collapsed": false
   },
   "outputs": [
    {
     "name": "stdout",
     "output_type": "stream",
     "text": [
      "\n",
      "Zipping  quasars...\n"
     ]
    }
   ],
   "source": [
    "data_qso_SDSS_CRTS= {}\n",
    "print '\\nZipping  quasars...'\n",
    "\n",
    "for label, column in zip(colnames, datatable):\n",
    "    data_qso_SDSS_CRTS[label] = column"
   ]
  },
  {
   "cell_type": "code",
   "execution_count": 58,
   "metadata": {
    "collapsed": false
   },
   "outputs": [
    {
     "data": {
      "text/plain": [
       "'001053.56+000642.9'"
      ]
     },
     "execution_count": 58,
     "metadata": {},
     "output_type": "execute_result"
    }
   ],
   "source": [
    "data_qso_SDSS_CRTS['CRTS_id'][0]"
   ]
  },
  {
   "cell_type": "code",
   "execution_count": 62,
   "metadata": {
    "collapsed": false
   },
   "outputs": [
    {
     "data": {
      "text/plain": [
       "'19.4385698113'"
      ]
     },
     "execution_count": 62,
     "metadata": {},
     "output_type": "execute_result"
    }
   ],
   "source": [
    "data_qso_SDSS_CRTS['CRTS_avg_mag'][0]"
   ]
  },
  {
   "cell_type": "code",
   "execution_count": 67,
   "metadata": {
    "collapsed": false
   },
   "outputs": [],
   "source": [
    "keys = colnames\n",
    "DATA = np.column_stack((datatable))    \n",
    "\n",
    "header=''\n",
    "for key in keys : \n",
    "    header= header+'{:<10}'.format(key[:10])+' '\n",
    "\n",
    "catalog='DB_QSO'\n",
    "archive_SDSS_CRTS_qso = 'CRTS_SDSS_cross_matched_qso_'+catalog+'_catalog.txt'\n",
    "#fmt = ['%s', '%.4e', '%10.5f']\n",
    "# old fmt '%11.5f'*12+'%6.i'+'%5.i'*2\n",
    "np.savetxt(archive_SDSS_CRTS_qso, DATA, delimiter =' ', fmt='%s  '*16, header=header)\n",
    "\n"
   ]
  },
  {
   "cell_type": "code",
   "execution_count": null,
   "metadata": {
    "collapsed": true
   },
   "outputs": [],
   "source": []
  }
 ],
 "metadata": {
  "kernelspec": {
   "display_name": "Python 2",
   "language": "python",
   "name": "python2"
  },
  "language_info": {
   "codemirror_mode": {
    "name": "ipython",
    "version": 2
   },
   "file_extension": ".py",
   "mimetype": "text/x-python",
   "name": "python",
   "nbconvert_exporter": "python",
   "pygments_lexer": "ipython2",
   "version": "2.7.11"
  }
 },
 "nbformat": 4,
 "nbformat_minor": 0
}
