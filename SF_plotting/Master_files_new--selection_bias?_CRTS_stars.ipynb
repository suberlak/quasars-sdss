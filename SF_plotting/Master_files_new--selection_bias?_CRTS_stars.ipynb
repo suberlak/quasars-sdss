{
 "cells": [
  {
   "cell_type": "code",
   "execution_count": 1,
   "metadata": {
    "collapsed": true
   },
   "outputs": [],
   "source": [
    "import os\n",
    "import numpy as np\n",
    "import matplotlib.pyplot as plt"
   ]
  },
  {
   "cell_type": "code",
   "execution_count": null,
   "metadata": {
    "collapsed": true
   },
   "outputs": [],
   "source": [
    "# Read catalogs for QSO and Stars.  \n",
    "# Select QSO \n",
    "# Select Stars\n",
    "# Sample 1 : using all stars\n",
    "# Sample 2 : using the same number of stars as QSO \n",
    "\n",
    "# Compare the distribution of mag and CRTS err from the catalog for those two samples "
   ]
  },
  {
   "cell_type": "code",
   "execution_count": 5,
   "metadata": {
    "collapsed": false
   },
   "outputs": [
    {
     "name": "stdout",
     "output_type": "stream",
     "text": [
      "zipping CRTS-SDSS stars catalog...\n",
      "Zipping CRTS-SDSS quasars catalog from  CRTS_SDSS_cross_matched_qso_DB_QSO_catalog.txt  ...\n",
      "Read in  7601 , quasars from CRTS\n"
     ]
    }
   ],
   "source": [
    "def get_stars_catalog():\n",
    "    File = 'CRTS_SDSS_cross_matched_stars_catalog.txt'\n",
    "    colnames = open(File,'r').read().splitlines()[0][1:].split()\n",
    "    datatable = np.genfromtxt(File)\n",
    "    stars_catalog = {}\n",
    "    print 'zipping CRTS-SDSS stars catalog...'\n",
    "    for label, column in zip(colnames, datatable.T):\n",
    "        stars_catalog[label] = column\n",
    "        \n",
    "    return  colnames, stars_catalog\n",
    "\n",
    "cols2 , star_cat= get_stars_catalog()\n",
    "\n",
    "\n",
    "def get_qso_catalog(catalog):\n",
    "    if catalog == 's82drw':\n",
    "        File = 'CRTS_SDSS_cross_matched_qso_s82drw_catalog.txt'\n",
    "    if catalog == 'DB_QSO':\n",
    "        File = 'CRTS_SDSS_cross_matched_qso_DB_QSO_catalog.txt'\n",
    "    colnames = open(File,'r').read().splitlines()[0][1:].split()\n",
    "    datatable = np.genfromtxt(File)\n",
    "    qso_catalog = {}\n",
    "    print 'Zipping CRTS-SDSS quasars catalog from ', File, ' ...'\n",
    "    for label, column in zip(colnames, datatable.T):\n",
    "        qso_catalog[label] = column\n",
    "    \n",
    "    qso_names = np.genfromtxt('CRTS_SDSS_cross_matched_qso_names.txt', dtype=str)    \n",
    "    for i in range(len(qso_names)):\n",
    "        qso_names[i] = qso_names[i][4:-4]\n",
    "    print 'Read in ', len(qso_catalog['redshift']), ', quasars from CRTS'\n",
    "    return  colnames, qso_catalog, qso_names\n",
    "\n",
    "cols1, qso_cat, qso_names = get_qso_catalog(catalog='DB_QSO') \n",
    "\n"
   ]
  },
  {
   "cell_type": "code",
   "execution_count": 6,
   "metadata": {
    "collapsed": true
   },
   "outputs": [],
   "source": [
    "def cut_stars(star_cat=star_cat, mMin=-9, mMax=19, mErrMin = -9, \n",
    "              mErrMax = 0.3, gi_Min = -1, gi_Max=1  ):\n",
    "\n",
    "    mask_mag = (star_cat['r_mMed'] > mMin) * (star_cat['r_mMed'] < mMax) \n",
    "    mask_err = (star_cat['CRTS_Merr'] > mErrMin) * (star_cat['CRTS_Merr'] < mErrMax)\n",
    "    SDSS_gi = star_cat['g_mMed'] - star_cat['i_mMed']\n",
    "    mask_color = (SDSS_gi > gi_Min ) * (SDSS_gi < gi_Max)\n",
    "    mask = mask_mag * mask_err * mask_color\n",
    "    star_id = star_cat['crts_id'][mask]\n",
    "   \n",
    "    print '\\n These cuts reduced the number of stars  in the sample from', \\\n",
    "          len(star_cat['CRTS_M']), ' to ', len(star_id)\n",
    "    return  star_id\n",
    "\n",
    "\n",
    "def cut_qso(qso_cat=qso_cat, qso_names=qso_names, mMin=-9, mMax=19, \n",
    "            mErrMin = -9, mErrMax = 0.3):\n",
    "\n",
    "    mask_mag = (qso_cat['r'] > mMin) * (qso_cat['r'] < mMax) \n",
    "    mask_err = (qso_cat['CRTS_avg_e'] > mErrMin) * (qso_cat['CRTS_avg_e'] < mErrMax)\n",
    "    mask = mask_mag * mask_err \n",
    "    qso_id = qso_names[mask]\n",
    "    print '\\n These cuts reduced the number of qso  in the sample from', \\\n",
    "          len(qso_cat['redshift']), ' to ', len(qso_id)\n",
    "    return  qso_id, mask \n",
    "\n"
   ]
  },
  {
   "cell_type": "code",
   "execution_count": 11,
   "metadata": {
    "collapsed": false
   },
   "outputs": [
    {
     "name": "stdout",
     "output_type": "stream",
     "text": [
      "\n",
      " These cuts reduced the number of stars  in the sample from 47787  to  5698\n",
      "\n",
      " These cuts reduced the number of stars  in the sample from 47787  to  13845\n",
      "\n",
      " These cuts reduced the number of qso  in the sample from 7601  to  1270\n",
      "\n",
      " These cuts reduced the number of qso  in the sample from 7601  to  4770\n"
     ]
    }
   ],
   "source": [
    "# Make 17-19 and 0-20 cuts for blue stars , both with err<0.3 \n",
    "\n",
    "id_1 = cut_stars(mMin=17, mMax=19)\n",
    "id_2 = cut_stars(mMin=0, mMax=20)\n",
    "\n",
    "# Make 17-19 and 0-20 cuts for QSO , both with err<0.3 \n",
    "good_ids_QSO1, mask_qso = cut_qso(mMin = 17, mMax=19, mErrMax = 0.3)\n",
    "good_ids_QSO2, mask_qso = cut_qso(mMin = 0, mMax=20, mErrMax = 0.3)\n",
    "\n"
   ]
  },
  {
   "cell_type": "code",
   "execution_count": 12,
   "metadata": {
    "collapsed": true
   },
   "outputs": [],
   "source": [
    "# Figure out how many qso are in the cut\n",
    "Nqso1 = len(good_ids_QSO1)\n",
    "Nqso2 = len(good_ids_QSO2)"
   ]
  },
  {
   "cell_type": "code",
   "execution_count": 16,
   "metadata": {
    "collapsed": true
   },
   "outputs": [],
   "source": [
    "# Read in the master file list \n",
    "masterFiles_S = os.listdir('sf_file_per_LC/star/')\n",
    "masterFilesS = [name[3:-4] for name in masterFiles_S]\n"
   ]
  },
  {
   "cell_type": "code",
   "execution_count": 32,
   "metadata": {
    "collapsed": false
   },
   "outputs": [],
   "source": [
    "# 17-19 : compare using all master files for stars, as opposed to choosing as many as qso only. \n",
    "\n",
    "# Use all master files\n",
    "m1 = np.in1d(star_cat['crts_id'], id_1)\n",
    "\n",
    "# Peg the number of master files for stars to QSO \n",
    "\n",
    "stars_masters = np.array(masterFilesS[:Nqso1]).astype(float)\n",
    "stars_selected = stars_masters[np.in1d(stars_masters, id_1)]\n",
    "mp1 = np.in1d(star_cat['crts_id'], stars_selected)\n"
   ]
  },
  {
   "cell_type": "code",
   "execution_count": 39,
   "metadata": {
    "collapsed": false
   },
   "outputs": [
    {
     "data": {
      "text/plain": [
       "<matplotlib.text.Text at 0x7fb3a641aed0>"
      ]
     },
     "execution_count": 39,
     "metadata": {},
     "output_type": "execute_result"
    },
    {
     "data": {
      "image/png": "[encoded data removed]",
      "text/plain": [
       "<matplotlib.figure.Figure at 0x7fb3a8d0ca50>"
      ]
     },
     "metadata": {},
     "output_type": "display_data"
    }
   ],
   "source": [
    "# Plot 17-19 stars comparing two available catalogs of stars \n",
    "\n",
    "%matplotlib inline \n",
    "fig, ax = plt.subplots(2, 2, figsize=(15, 5))\n",
    "\n",
    "ax[0,0].hist(star_cat['r_mMed'][m1])\n",
    "ax[0,0].set(title='47787 master files, 47787 stars' , xlabel=' SDSS r magnitude ', \n",
    "             ylabel='count'  )\n",
    "\n",
    "ax[0,1].hist(star_cat['r_mMed'][mp1])\n",
    "ax[0,1].set(title='1270 master files, 1270 stars' , xlabel=' SDSS r magnitude ', \n",
    "             ylabel='count'  )\n",
    "\n",
    "da=star_cat['CRTS_Merr'][m1]\n",
    "ax[1,0].hist(da)\n",
    "ax[1,0].set( xlabel=' CRTS average LC error ', ylabel='count'  )\n",
    "ax[1,0].text(0.45, 0.65, 'Median CRTS Error=%.5f'%np.median(da) ,transform=ax[1,0].transAxes)\n",
    "\n",
    "db=star_cat['CRTS_Merr'][mp1]\n",
    "ax[1,1].hist(db)\n",
    "ax[1,1].set( xlabel=' CRTS average LC error ', ylabel='count'  )\n",
    "ax[1,1].text(0.45, 0.65, 'Median CRTS Error=%.5f'%np.median(db) ,transform=ax[1,1].transAxes)\n",
    "\n",
    "fig.subplots_adjust(hspace=0.3)\n",
    "fig.suptitle('17-19 mag', fontsize=17)"
   ]
  },
  {
   "cell_type": "code",
   "execution_count": 35,
   "metadata": {
    "collapsed": true
   },
   "outputs": [],
   "source": [
    "# 0-20 : compare using all master files for stars, as opposed to choosing as many as qso only. \n",
    "\n",
    "# Use all master files\n",
    "m2 = np.in1d(star_cat['crts_id'], id_2)\n",
    "\n",
    "# Peg the number of master files for stars to QSO \n",
    "\n",
    "stars_masters = np.array(masterFilesS[:Nqso2]).astype(float)\n",
    "stars_selected = stars_masters[np.in1d(stars_masters, id_2)]\n",
    "mp2 = np.in1d(star_cat['crts_id'], stars_selected)"
   ]
  },
  {
   "cell_type": "code",
   "execution_count": 40,
   "metadata": {
    "collapsed": false
   },
   "outputs": [
    {
     "data": {
      "text/plain": [
       "<matplotlib.text.Text at 0x7fb3a6265bd0>"
      ]
     },
     "execution_count": 40,
     "metadata": {},
     "output_type": "execute_result"
    },
    {
     "data": {
      "image/png": "[encoded data removed]",
      "text/plain": [
       "<matplotlib.figure.Figure at 0x7fb3a91e0b90>"
      ]
     },
     "metadata": {},
     "output_type": "display_data"
    }
   ],
   "source": [
    "# Plot 0-20 stars comparing two available catalogs of stars \n",
    "\n",
    "%matplotlib inline \n",
    "fig, ax = plt.subplots(2, 2, figsize=(15, 5))\n",
    "\n",
    "ax[0,0].hist(star_cat['r_mMed'][m2])\n",
    "ax[0,0].set(title='47787 master files, 47787 stars' , xlabel=' SDSS r magnitude ', \n",
    "             ylabel='count'  )\n",
    "\n",
    "ax[0,1].hist(star_cat['r_mMed'][mp2])\n",
    "ax[0,1].set(title='1270 master files, 1270 stars' , xlabel=' SDSS r magnitude ', \n",
    "             ylabel='count'  )\n",
    "\n",
    "da=star_cat['CRTS_Merr'][m2]\n",
    "ax[1,0].hist(da)\n",
    "ax[1,0].set( xlabel=' CRTS average LC error ', ylabel='count'  )\n",
    "ax[1,0].text(0.45, 0.65, 'Median CRTS Error=%.5f'%np.median(da) ,transform=ax[1,0].transAxes)\n",
    "\n",
    "db=star_cat['CRTS_Merr'][mp2]\n",
    "ax[1,1].hist(db)\n",
    "ax[1,1].set( xlabel=' CRTS average LC error ', ylabel='count'  )\n",
    "ax[1,1].text(0.45, 0.65, 'Median CRTS Error=%.5f'%np.median(db) ,transform=ax[1,1].transAxes)\n",
    "\n",
    "fig.subplots_adjust(hspace=0.3)\n",
    "fig.suptitle('0-20 mag', fontsize=17)"
   ]
  },
  {
   "cell_type": "code",
   "execution_count": null,
   "metadata": {
    "collapsed": true
   },
   "outputs": [],
   "source": []
  }
 ],
 "metadata": {
  "kernelspec": {
   "display_name": "Python 2",
   "language": "python",
   "name": "python2"
  },
  "language_info": {
   "codemirror_mode": {
    "name": "ipython",
    "version": 2
   },
   "file_extension": ".py",
   "mimetype": "text/x-python",
   "name": "python",
   "nbconvert_exporter": "python",
   "pygments_lexer": "ipython2",
   "version": "2.7.10"
  }
 },
 "nbformat": 4,
 "nbformat_minor": 0
}
