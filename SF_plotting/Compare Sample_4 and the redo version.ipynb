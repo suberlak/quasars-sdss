{
 "cells": [
  {
   "cell_type": "markdown",
   "metadata": {},
   "source": [
    "# Sample_4"
   ]
  },
  {
   "cell_type": "code",
   "execution_count": 1,
   "metadata": {
    "collapsed": true
   },
   "outputs": [],
   "source": [
    "import numpy as np\n",
    "import matplotlib.pyplot as plt\n",
    "\n",
    "data = np.genfromtxt('Sample_4_Stars_blue_314248_lines.txt')\n",
    "\n",
    "xi = data[:,0]\n",
    "ei = data[:,1]\n",
    "n = data[:,2]\n",
    "maybe_rmag = data[:,3]\n",
    "\n",
    "starb_n = np.unique(n)"
   ]
  },
  {
   "cell_type": "code",
   "execution_count": 9,
   "metadata": {
    "collapsed": false
   },
   "outputs": [
    {
     "data": {
      "text/plain": [
       "1963"
      ]
     },
     "execution_count": 9,
     "metadata": {},
     "output_type": "execute_result"
    }
   ],
   "source": [
    "len(starb_n)"
   ]
  },
  {
   "cell_type": "code",
   "execution_count": 3,
   "metadata": {
    "collapsed": false
   },
   "outputs": [],
   "source": [
    "\n",
    "\n",
    "\n",
    "\n",
    "data_qso = np.genfromtxt('Sample_4_QSO_721283_lines.txt', dtype=str)\n",
    "nq = data_qso[:,2]\n",
    "qso_uniq = np.unique(nq)"
   ]
  },
  {
   "cell_type": "code",
   "execution_count": 4,
   "metadata": {
    "collapsed": false
   },
   "outputs": [
    {
     "data": {
      "text/plain": [
       "4652"
      ]
     },
     "execution_count": 4,
     "metadata": {},
     "output_type": "execute_result"
    }
   ],
   "source": [
    "len(qso_uniq)"
   ]
  },
  {
   "cell_type": "markdown",
   "metadata": {},
   "source": [
    "# Redo version, using exactly the same StarB, StarR, QSO names "
   ]
  },
  {
   "cell_type": "code",
   "execution_count": null,
   "metadata": {
    "collapsed": true
   },
   "outputs": [],
   "source": []
  },
  {
   "cell_type": "code",
   "execution_count": 6,
   "metadata": {
    "collapsed": false
   },
   "outputs": [],
   "source": [
    "data_new = np.genfromtxt('/astro/store/scratch/tmp/suberlak/SF_Samples/Sample_4_redo/Sample_starB_tau_0-1.7_280344_lines_1760_objects.txt')"
   ]
  },
  {
   "cell_type": "code",
   "execution_count": 7,
   "metadata": {
    "collapsed": true
   },
   "outputs": [],
   "source": [
    "starb1_n = np.unique(data_new[:,3])"
   ]
  },
  {
   "cell_type": "code",
   "execution_count": 8,
   "metadata": {
    "collapsed": false
   },
   "outputs": [
    {
     "data": {
      "text/plain": [
       "1760"
      ]
     },
     "execution_count": 8,
     "metadata": {},
     "output_type": "execute_result"
    }
   ],
   "source": [
    "len(starb1_n)"
   ]
  },
  {
   "cell_type": "code",
   "execution_count": 12,
   "metadata": {
    "collapsed": false
   },
   "outputs": [
    {
     "data": {
      "text/plain": [
       "394"
      ]
     },
     "execution_count": 12,
     "metadata": {},
     "output_type": "execute_result"
    }
   ],
   "source": [
    "np.sum(np.in1d(starb_n, starb1_n))"
   ]
  },
  {
   "cell_type": "markdown",
   "metadata": {},
   "source": [
    "# Make a sample with exactly the same red, blue stars as well as qso as Sample_4... "
   ]
  },
  {
   "cell_type": "code",
   "execution_count": 71,
   "metadata": {
    "collapsed": true
   },
   "outputs": [],
   "source": [
    "datab = np.genfromtxt('Sample_4_Stars_blue_314248_lines.txt')\n",
    "nb = datab[:,2]\n",
    "starsb_uniq = np.unique(nb)\n",
    "\n",
    "datar = np.genfromtxt('Sample_4_Stars_red_373306_lines.txt')\n",
    "nr = datar[:,2]\n",
    "starsr_uniq = np.unique(nr)\n",
    "\n",
    "data_qso = np.genfromtxt('Sample_4_QSO_721283_lines.txt', dtype=str)\n",
    "nq = data_qso[:,2]\n",
    "qso_uniq = np.unique(nq)\n",
    "\n"
   ]
  },
  {
   "cell_type": "code",
   "execution_count": 109,
   "metadata": {
    "collapsed": false
   },
   "outputs": [],
   "source": [
    "np.savetxt('Sample_4_stars_b_unique_names.txt',starsb_uniq.astype(str), fmt = \"%s\")\n",
    "np.savetxt('Sample_4_stars_r_unique_names.txt', starsr_uniq.astype(str), fmt=\"%s\")\n",
    "np.savetxt('Sample_4_qso_unique_names.txt', qso_uniq.astype(str), fmt=\"%s\")\n",
    "\n"
   ]
  },
  {
   "cell_type": "code",
   "execution_count": 24,
   "metadata": {
    "collapsed": false
   },
   "outputs": [
    {
     "data": {
      "text/plain": [
       "1963"
      ]
     },
     "execution_count": 24,
     "metadata": {},
     "output_type": "execute_result"
    }
   ],
   "source": [
    "# how many objects is there in this sample ? \n",
    "\n",
    "len(starsb_uniq)"
   ]
  },
  {
   "cell_type": "code",
   "execution_count": 25,
   "metadata": {
    "collapsed": false
   },
   "outputs": [
    {
     "data": {
      "text/plain": [
       "2266"
      ]
     },
     "execution_count": 25,
     "metadata": {},
     "output_type": "execute_result"
    }
   ],
   "source": [
    "len(starsr_uniq)"
   ]
  },
  {
   "cell_type": "code",
   "execution_count": 40,
   "metadata": {
    "collapsed": false
   },
   "outputs": [
    {
     "data": {
      "text/plain": [
       "4652"
      ]
     },
     "execution_count": 40,
     "metadata": {},
     "output_type": "execute_result"
    }
   ],
   "source": [
    "len(qso_uniq)"
   ]
  },
  {
   "cell_type": "code",
   "execution_count": 52,
   "metadata": {
    "collapsed": false
   },
   "outputs": [
    {
     "data": {
      "text/plain": [
       "array([ 17.923,  17.923,  17.923, ...,  18.466,  18.466,  18.466])"
      ]
     },
     "execution_count": 52,
     "metadata": {},
     "output_type": "execute_result"
    }
   ],
   "source": [
    "datab[:,3]"
   ]
  },
  {
   "cell_type": "code",
   "execution_count": 38,
   "metadata": {
    "collapsed": false
   },
   "outputs": [
    {
     "data": {
      "text/plain": [
       "array([ 18.025,  18.025,  18.025, ...,  19.932,  19.932,  19.932])"
      ]
     },
     "execution_count": 38,
     "metadata": {},
     "output_type": "execute_result"
    }
   ],
   "source": [
    "qso[:,3]"
   ]
  },
  {
   "cell_type": "code",
   "execution_count": 45,
   "metadata": {
    "collapsed": false
   },
   "outputs": [
    {
     "name": "stdout",
     "output_type": "stream",
     "text": [
      "Zipping CRTS-SDSS quasars catalog from  CRTS_SDSS_cross_matched_qso_DB_QSO_catalog.txt  ...\n",
      "Read in  7601 , quasars from CRTS\n",
      "zipping CRTS-SDSS stars catalog...\n"
     ]
    }
   ],
   "source": [
    "def get_qso_catalog(catalog):\n",
    "    if catalog == 's82drw':\n",
    "        File = 'CRTS_SDSS_cross_matched_qso_s82drw_catalog.txt'\n",
    "    if catalog == 'DB_QSO':\n",
    "        File = 'CRTS_SDSS_cross_matched_qso_DB_QSO_catalog.txt'\n",
    "    colnames = open(File,'r').read().splitlines()[0][1:].split()\n",
    "    datatable = np.genfromtxt(File)\n",
    "    qso_catalog = {}\n",
    "    print 'Zipping CRTS-SDSS quasars catalog from ', File, ' ...'\n",
    "    for label, column in zip(colnames, datatable.T):\n",
    "        qso_catalog[label] = column\n",
    "    \n",
    "    qso_names = np.genfromtxt('CRTS_SDSS_cross_matched_qso_names.txt', dtype=str)    \n",
    "    for i in range(len(qso_names)):\n",
    "        qso_names[i] = qso_names[i][4:-4]\n",
    "    print 'Read in ', len(qso_catalog['redshift']), ', quasars from CRTS'\n",
    "    return  colnames, qso_catalog, qso_names\n",
    "    \n",
    "def get_stars_catalog():\n",
    "    File = 'CRTS_SDSS_cross_matched_stars_catalog.txt'\n",
    "    colnames = open(File,'r').read().splitlines()[0][1:].split()\n",
    "    datatable = np.genfromtxt(File)\n",
    "    stars_catalog = {}\n",
    "    print 'zipping CRTS-SDSS stars catalog...'\n",
    "    for label, column in zip(colnames, datatable.T):\n",
    "        stars_catalog[label] = column\n",
    "        \n",
    "    return  colnames, stars_catalog\n",
    "\n",
    "cols1, qso_cat, qso_names = get_qso_catalog(catalog='DB_QSO') \n",
    "cols2 , star_cat= get_stars_catalog()"
   ]
  },
  {
   "cell_type": "code",
   "execution_count": 46,
   "metadata": {
    "collapsed": false
   },
   "outputs": [
    {
     "data": {
      "text/plain": [
       "{'CRTS_M': array([ 20.62613,  18.58793,  19.61459, ...,  14.78404,  18.37912,\n",
       "         19.60277]),\n",
       " 'CRTS_Merr': array([ 0.40859,  0.07427,  0.21857, ...,  0.03049,  0.06774,  0.1417 ]),\n",
       " 'N_rows': array([  20.,   82.,   37., ...,  101.,   77.,   39.]),\n",
       " 'crts_id': array([ 807805.,  212429.,  473621., ...,  705958.,  188223.,  348807.]),\n",
       " 'dec_CRTS': array([ 0.04909,  0.59888,  0.91459, ...,  1.0105 ,  1.08605, -0.89175]),\n",
       " 'dec_SDSS': array([ 0.04909,  0.59888,  0.91459, ...,  1.0105 ,  1.08605, -0.89175]),\n",
       " 'g_Nobs': array([  6.,  13.,   5., ...,   8.,  13.,   7.]),\n",
       " 'g_mMed': array([ 21.896,  20.064,  22.467, ...,  15.241,  20.312,  21.165]),\n",
       " 'i_mMed': array([ 20.214,  18.116,  19.887, ...,  14.623,  17.681,  18.682]),\n",
       " 'mjd_N': array([  20.,   82.,   37., ...,  101.,   77.,   39.]),\n",
       " 'mjd_span': array([ 2969.,  2937.,  3065., ...,  3083.,  2937.,  3034.]),\n",
       " 'r_mMed': array([ 20.72 ,  18.714,  20.977, ...,  14.789,  18.97 ,  19.688]),\n",
       " 'ra_CRTS': array([ 333.8186 ,   41.31015,  313.93396, ...,  326.14151,   37.06192,\n",
       "         309.4437 ]),\n",
       " 'ra_SDSS': array([ 333.8186 ,   41.31015,  313.93396, ...,  326.14151,   37.06192,\n",
       "         309.4437 ])}"
      ]
     },
     "execution_count": 46,
     "metadata": {},
     "output_type": "execute_result"
    }
   ],
   "source": [
    "star_cat[]"
   ]
  },
  {
   "cell_type": "code",
   "execution_count": 56,
   "metadata": {
    "collapsed": true
   },
   "outputs": [],
   "source": [
    "cat_starb_gmags = [star_cat['g_mMed'][star_cat['crts_id'] == star][0]  for star in starsb_uniq ]"
   ]
  },
  {
   "cell_type": "code",
   "execution_count": 53,
   "metadata": {
    "collapsed": false
   },
   "outputs": [],
   "source": [
    "sample4_starb_gmags =  [datab[:,3][datab[:,2] == star][0] for star in starsb_uniq]"
   ]
  },
  {
   "cell_type": "code",
   "execution_count": 59,
   "metadata": {
    "collapsed": false
   },
   "outputs": [
    {
     "data": {
      "text/plain": [
       "0.0"
      ]
     },
     "execution_count": 59,
     "metadata": {},
     "output_type": "execute_result"
    }
   ],
   "source": [
    "# I can confirm : for each star, the magnitude reported in Sample 4 is exactly the same as \n",
    "# the catalog gmag entry for a star of that same name  \n",
    "\n",
    "# Thus I can use the magnitudes from Sample_4  as the reported magnitudes,\n",
    "# or I can pull out magnitudes from the catalog - doesn't make a difference for Blue Stars  \n",
    "\n",
    "np.sum(np.array(sample4_starb_gmags) - np.array(cat_starb_gmags))"
   ]
  },
  {
   "cell_type": "code",
   "execution_count": 60,
   "metadata": {
    "collapsed": true
   },
   "outputs": [],
   "source": [
    "# Check that the same holds for Red Stars \n",
    "cat_starr_gmags = [star_cat['g_mMed'][star_cat['crts_id'] == star][0]  for star in starsr_uniq ]\n",
    "sample4_starr_gmags =  [datar[:,3][datar[:,2] == star][0] for star in starsr_uniq]"
   ]
  },
  {
   "cell_type": "code",
   "execution_count": 62,
   "metadata": {
    "collapsed": false
   },
   "outputs": [
    {
     "data": {
      "text/plain": [
       "0.0"
      ]
     },
     "execution_count": 62,
     "metadata": {},
     "output_type": "execute_result"
    }
   ],
   "source": [
    "np.sum(np.array(sample4_starr_gmags) - np.array(cat_starr_gmags))\n",
    "#Indeed , it does hold for red stars - check quasars now ! "
   ]
  },
  {
   "cell_type": "code",
   "execution_count": null,
   "metadata": {
    "collapsed": true
   },
   "outputs": [],
   "source": [
    "# Check QSO : are the magnitudes reported in the file the same as  the catalog gmag entires \n",
    "# for quasars of that name  ? \n",
    "\n",
    "cat_qso_gmags = [star_cat['g_mMed'][star_cat['crts_id'] == qso][0]  for qso in qso_uniq ]"
   ]
  },
  {
   "cell_type": "code",
   "execution_count": 63,
   "metadata": {
    "collapsed": false
   },
   "outputs": [
    {
     "data": {
      "text/plain": [
       "['N_rows',\n",
       " 'g',\n",
       " 'redshift',\n",
       " 'i',\n",
       " 'ra_SDSS',\n",
       " 'dec_CRTS',\n",
       " 'mjd_uniq_N',\n",
       " 'r',\n",
       " 'u',\n",
       " 'ra_CRTS',\n",
       " 'CRTS_avg_m',\n",
       " 'dec_SDSS',\n",
       " 'z',\n",
       " 'mjd_span',\n",
       " 'CRTS_avg_e']"
      ]
     },
     "execution_count": 63,
     "metadata": {},
     "output_type": "execute_result"
    }
   ],
   "source": [
    "qso_cat.keys()"
   ]
  },
  {
   "cell_type": "code",
   "execution_count": 95,
   "metadata": {
    "collapsed": false
   },
   "outputs": [],
   "source": [
    "qso_mag = data_qso[:,3].astype(float)\n",
    "cat_qso_gmags = [qso_cat['r'][qso_names == qso][0] for qso in qso_uniq]"
   ]
  },
  {
   "cell_type": "code",
   "execution_count": 89,
   "metadata": {
    "collapsed": false
   },
   "outputs": [],
   "source": [
    "sample4_qso_gmags =  [qso_mag[data_qso[:,2] == qso][0] for qso in qso_uniq]"
   ]
  },
  {
   "cell_type": "code",
   "execution_count": 97,
   "metadata": {
    "collapsed": false
   },
   "outputs": [
    {
     "data": {
      "text/plain": [
       "0.0"
      ]
     },
     "execution_count": 97,
     "metadata": {},
     "output_type": "execute_result"
    }
   ],
   "source": [
    "# The thing : the mags reported for QSO  are SDSS r_mags   instead of SDSS g_mags    !  \n",
    "np.sum(np.array(sample4_qso_gmags) - np.array(cat_qso_gmags))"
   ]
  },
  {
   "cell_type": "code",
   "execution_count": 101,
   "metadata": {
    "collapsed": false
   },
   "outputs": [],
   "source": [
    "a =np.loadtxt('Sample_4_qso_unique_names.txt', dtype=str)"
   ]
  },
  {
   "cell_type": "code",
   "execution_count": 105,
   "metadata": {
    "collapsed": false
   },
   "outputs": [],
   "source": [
    "b = np.loadtxt('Sample_4_stars_b_unique_names.txt')"
   ]
  },
  {
   "cell_type": "code",
   "execution_count": 106,
   "metadata": {
    "collapsed": false
   },
   "outputs": [
    {
     "data": {
      "text/plain": [
       "array([  2.51000000e+02,   3.36600000e+03,   3.98900000e+03, ...,\n",
       "         1.00528900e+06,   1.00621400e+06,   1.00672300e+06])"
      ]
     },
     "execution_count": 106,
     "metadata": {},
     "output_type": "execute_result"
    }
   ],
   "source": [
    "b"
   ]
  },
  {
   "cell_type": "code",
   "execution_count": null,
   "metadata": {
    "collapsed": true
   },
   "outputs": [],
   "source": []
  }
 ],
 "metadata": {
  "kernelspec": {
   "display_name": "Python 2",
   "language": "python",
   "name": "python2"
  },
  "language_info": {
   "codemirror_mode": {
    "name": "ipython",
    "version": 2
   },
   "file_extension": ".py",
   "mimetype": "text/x-python",
   "name": "python",
   "nbconvert_exporter": "python",
   "pygments_lexer": "ipython2",
   "version": "2.7.10"
  }
 },
 "nbformat": 4,
 "nbformat_minor": 0
}
