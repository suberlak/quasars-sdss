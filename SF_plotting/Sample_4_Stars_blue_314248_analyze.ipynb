{
 "cells": [
  {
   "cell_type": "markdown",
   "metadata": {},
   "source": [
    "# Executive Summary"
   ]
  },
  {
   "cell_type": "markdown",
   "metadata": {},
   "source": [
    "\n",
    "\n",
    "1) Purpose\n",
    "    - below I analyze Sample_4_Stars_blue_314248_lines.txt \n",
    "    - for 17-18 mag stars the median error is 0.0602  \n",
    "    - the sample was made using  SDSS_g_mag < 20 , CRTS_avg_err < 0.3\n",
    "    - it was thought that the selection used SDSS_r_mag, which is incorrect - in fact it used SDSS_g_mag, which is why it has different properties than a sample made using SDSS_r_mag \n",
    "\n",
    "2) Method: \n",
    "    - I make sure that each star has exactly the same magnitude reported for each xi, ei row\n",
    "    - I compare the magnitudes for each star  to the catalog SDSS_r_mag and SDSS_g_mag\n",
    "    - I show how the SDSS distributions for g and r magnitudes differ, and how they affect the magnitude selection\n",
    "    \n",
    "3) Results:\n",
    "    - The magnitudes in Sample_4_Stars_blue_314248_lines.txt  are identical to SDSS_g_mag\n",
    "    - Selecting 17-18 magnitudes with r or g magnitudes  leaves 5804 or 4163 stars from the catalog \n",
    "    - The overlap between such samples includes only 1432 stars \n",
    "    - Using SDSS_g_mag instead of SDSS_r_mag for selection of stars  is responsible for the  median(ei) bias on the 0.01 level\n"
   ]
  },
  {
   "cell_type": "markdown",
   "metadata": {},
   "source": [
    "# Analysis"
   ]
  },
  {
   "cell_type": "code",
   "execution_count": 1,
   "metadata": {
    "collapsed": true
   },
   "outputs": [],
   "source": [
    "import numpy as np\n",
    "import matplotlib.pyplot as plt\n",
    "\n",
    "data = np.genfromtxt('Sample_4_Stars_blue_314248_lines.txt')\n",
    "\n",
    "xi = data[:,0]\n",
    "ei = data[:,1]\n",
    "n = data[:,2]\n",
    "maybe_rmag = data[:,3]"
   ]
  },
  {
   "cell_type": "code",
   "execution_count": 3,
   "metadata": {
    "collapsed": false
   },
   "outputs": [
    {
     "data": {
      "text/plain": [
       "array([  2.51000000e+02,   3.36600000e+03,   3.98900000e+03, ...,\n",
       "         1.00528900e+06,   1.00621400e+06,   1.00672300e+06])"
      ]
     },
     "execution_count": 3,
     "metadata": {},
     "output_type": "execute_result"
    }
   ],
   "source": [
    "np.savetxt('Sample_4_Stars_blue_314248_lines.txt'np.unique(n)"
   ]
  },
  {
   "cell_type": "code",
   "execution_count": 112,
   "metadata": {
    "collapsed": false
   },
   "outputs": [
    {
     "data": {
      "text/plain": [
       "0.060207972893999998"
      ]
     },
     "execution_count": 112,
     "metadata": {},
     "output_type": "execute_result"
    }
   ],
   "source": [
    "# Reproduce the median error \n",
    "\n",
    "np.median(ei[(maybe_rmag<18)*(maybe_rmag>17)])"
   ]
  },
  {
   "cell_type": "code",
   "execution_count": 4,
   "metadata": {
    "collapsed": false
   },
   "outputs": [
    {
     "name": "stdout",
     "output_type": "stream",
     "text": [
      "zipping CRTS-SDSS stars catalog...\n"
     ]
    }
   ],
   "source": [
    "# Suppose it is the r-mag, although I think it is the g-mag : \n",
    "# See whether the plot of maybe_r-mag from this file is the same as the plot \n",
    "# of the r-mag for stars in this file from the catalog \n",
    "\n",
    "def get_stars_catalog():\n",
    "    File = 'CRTS_SDSS_cross_matched_stars_catalog.txt'\n",
    "    colnames = open(File,'r').read().splitlines()[0][1:].split()\n",
    "    datatable = np.genfromtxt(File)\n",
    "    stars_catalog = {}\n",
    "    print 'zipping CRTS-SDSS stars catalog...'\n",
    "    for label, column in zip(colnames, datatable.T):\n",
    "        stars_catalog[label] = column\n",
    "        \n",
    "    return  colnames, stars_catalog\n",
    "\n",
    "cols2 , star_cat= get_stars_catalog()"
   ]
  },
  {
   "cell_type": "code",
   "execution_count": 13,
   "metadata": {
    "collapsed": false
   },
   "outputs": [
    {
     "data": {
      "text/plain": [
       "['CRTS_M',\n",
       " 'CRTS_Merr',\n",
       " 'dec_SDSS',\n",
       " 'ra_SDSS',\n",
       " 'dec_CRTS',\n",
       " 'ra_CRTS',\n",
       " 'g_Nobs',\n",
       " 'g_mMed',\n",
       " 'r_mMed',\n",
       " 'i_mMed',\n",
       " 'crts_id',\n",
       " 'mjd_span',\n",
       " 'mjd_N',\n",
       " 'N_rows']"
      ]
     },
     "execution_count": 13,
     "metadata": {},
     "output_type": "execute_result"
    }
   ],
   "source": [
    "cols2"
   ]
  },
  {
   "cell_type": "code",
   "execution_count": 16,
   "metadata": {
    "collapsed": false
   },
   "outputs": [],
   "source": [
    "# Grab how many individual stars we have, and how many xi, ei points per star  \n",
    "stars = np.unique(n)\n",
    "a = [ np.sum(n == star)  for star in stars ]"
   ]
  },
  {
   "cell_type": "code",
   "execution_count": 26,
   "metadata": {
    "collapsed": false
   },
   "outputs": [
    {
     "name": "stdout",
     "output_type": "stream",
     "text": [
      "(array([], dtype=int64),)\n"
     ]
    }
   ],
   "source": [
    "# Make sure that all the reported magnitudes per star are the same \n",
    "b = [ (maybe_rmag[n == star] == maybe_rmag[n == star][0]).all() for star in stars]\n",
    "print np.where(b == False)"
   ]
  },
  {
   "cell_type": "code",
   "execution_count": 27,
   "metadata": {
    "collapsed": false
   },
   "outputs": [],
   "source": [
    "# So I can just grab one of the magnitude measurements per star\n",
    "stars_mag = [maybe_rmag[n == star][0] for star in stars]\n"
   ]
  },
  {
   "cell_type": "code",
   "execution_count": 19,
   "metadata": {
    "collapsed": false
   },
   "outputs": [
    {
     "data": {
      "text/plain": [
       "(array([ 227.,  136.,   65.,  264.,  478.,  549.,  175.,   19.,   32.,   18.]),\n",
       " array([   1. ,   38.6,   76.2,  113.8,  151.4,  189. ,  226.6,  264.2,\n",
       "         301.8,  339.4,  377. ]),\n",
       " <a list of 10 Patch objects>)"
      ]
     },
     "execution_count": 19,
     "metadata": {},
     "output_type": "execute_result"
    },
    {
     "data": {
      "image/png": "[encoded data removed]",
      "text/plain": [
       "<matplotlib.figure.Figure at 0x7fb05334cb90>"
      ]
     },
     "metadata": {},
     "output_type": "display_data"
    }
   ],
   "source": [
    "# How many measurements do we have per star ? \n",
    "%matplotlib inline\n",
    "plt.hist(a)"
   ]
  },
  {
   "cell_type": "code",
   "execution_count": 33,
   "metadata": {
    "collapsed": false
   },
   "outputs": [],
   "source": [
    "m1 = np.in1d(star_cat['crts_id'], stars)"
   ]
  },
  {
   "cell_type": "code",
   "execution_count": 53,
   "metadata": {
    "collapsed": false
   },
   "outputs": [],
   "source": [
    "cat_rmags = [star_cat['r_mMed'][star_cat['crts_id'] == star][0]  for star in stars ]"
   ]
  },
  {
   "cell_type": "code",
   "execution_count": 54,
   "metadata": {
    "collapsed": false
   },
   "outputs": [],
   "source": [
    "cat_gmags = [star_cat['g_mMed'][star_cat['crts_id'] == star][0]  for star in stars ]"
   ]
  },
  {
   "cell_type": "code",
   "execution_count": 62,
   "metadata": {
    "collapsed": false
   },
   "outputs": [
    {
     "data": {
      "text/plain": [
       "(array([], dtype=int64),)"
      ]
     },
     "execution_count": 62,
     "metadata": {},
     "output_type": "execute_result"
    }
   ],
   "source": [
    "# The g-magnitudes are identical ! \n",
    "# That's where the devil lies - the values reported in sample 4 were SDSS g magnitudes, not SDSS r magnitudes! \n",
    "np.where((np.array(cat_gmags) - np.array(stars_mag)) != 0 )\n"
   ]
  },
  {
   "cell_type": "code",
   "execution_count": 78,
   "metadata": {
    "collapsed": false
   },
   "outputs": [
    {
     "data": {
      "text/plain": [
       "<matplotlib.text.Text at 0x7fb0507f1f50>"
      ]
     },
     "execution_count": 78,
     "metadata": {},
     "output_type": "execute_result"
    },
    {
     "data": {
      "image/png": "[encoded data removed]",
      "text/plain": [
       "<matplotlib.figure.Figure at 0x7fb050826550>"
      ]
     },
     "metadata": {},
     "output_type": "display_data"
    }
   ],
   "source": [
    "# The distributions of r mags and g mags for these same stars are very different \n",
    "from matplotlib import gridspec\n",
    "fig = plt.figure(figsize=(8,4))\n",
    "gs = gridspec.GridSpec(1, 1) \n",
    "ax = plt.subplot(gs[0])\n",
    "\n",
    "\n",
    "ax.set_ylabel('N')\n",
    "ax.set_xlabel('magnitude')\n",
    "nbins = 50\n",
    "hist1, bin_edges = np.histogram(cat_gmags, bins = nbins, density=False)\n",
    "bin_cen1 = (bin_edges[:-1] + bin_edges[1:])/2\n",
    "\n",
    "# exclude those 17 objects that don't have SDSS r mag \n",
    "#hist2, bin_edges = np.histogram(qso_catalog['r'][qso_catalog['r'] != 0], bins=nbins, density=True)\n",
    "\n",
    "hist2, bin_edges = np.histogram(cat_rmags, bins=nbins, density=False)\n",
    "bin_cen2 = (bin_edges[:-1] + bin_edges[1:])/2\n",
    "\n",
    "ax.plot(bin_cen1, hist1, color = 'green', ls='steps', label='SDSS g mag')\n",
    "ax.plot(bin_cen2, hist2, color = 'red', ls='steps', label='SDSS r mag')\n",
    "ax.legend(loc='upper left')\n",
    "ax.set_title('SDSS Catalog  properties of Sample_4_Stars_blue_314248 \\n', fontsize=15)\n"
   ]
  },
  {
   "cell_type": "code",
   "execution_count": 88,
   "metadata": {
    "collapsed": false
   },
   "outputs": [
    {
     "name": "stdout",
     "output_type": "stream",
     "text": [
      "367 stars from the g-mag cut using the catalog\n"
     ]
    }
   ],
   "source": [
    "# Reproduce the cuts : Select 17-18 according to r-mag and calculate median ei \n",
    "\n",
    "cat_gmags = np.array(cat_gmags)\n",
    "m=(cat_gmags < 18 )*(cat_gmags>17)\n",
    "print('%d stars from the g-mag cut using the catalog'%np.sum(m))\n"
   ]
  },
  {
   "cell_type": "code",
   "execution_count": 91,
   "metadata": {
    "collapsed": false
   },
   "outputs": [
    {
     "data": {
      "text/plain": [
       "0.060207972893999998"
      ]
     },
     "execution_count": 91,
     "metadata": {},
     "output_type": "execute_result"
    }
   ],
   "source": [
    "# I reproduce the median error from Zeljko's email\n",
    "np.median(ei[np.in1d(n,stars[m])])"
   ]
  },
  {
   "cell_type": "code",
   "execution_count": 92,
   "metadata": {
    "collapsed": false
   },
   "outputs": [
    {
     "name": "stdout",
     "output_type": "stream",
     "text": [
      "393 stars from the g-mag cut using the catalog\n"
     ]
    }
   ],
   "source": [
    "# Now if I cut according to r-mags from the catalog...\n",
    "cat_rmags = np.array(cat_rmags)\n",
    "m1=(cat_rmags < 18 )*(cat_rmags>17)\n",
    "print('%d stars from the g-mag cut using the catalog'%np.sum(m1))\n",
    "\n"
   ]
  },
  {
   "cell_type": "code",
   "execution_count": 93,
   "metadata": {
    "collapsed": false
   },
   "outputs": [
    {
     "data": {
      "text/plain": [
       "0.068089720222700004"
      ]
     },
     "execution_count": 93,
     "metadata": {},
     "output_type": "execute_result"
    }
   ],
   "source": [
    "# And I get a significantly different mean \n",
    "np.median(ei[np.in1d(n,stars[m1])])"
   ]
  },
  {
   "cell_type": "code",
   "execution_count": 95,
   "metadata": {
    "collapsed": false
   },
   "outputs": [
    {
     "data": {
      "text/plain": [
       "<matplotlib.text.Text at 0x7fb05074e590>"
      ]
     },
     "execution_count": 95,
     "metadata": {},
     "output_type": "execute_result"
    },
    {
     "data": {
      "image/png": "[encoded data removed]",
      "text/plain": [
       "<matplotlib.figure.Figure at 0x7fb050758ed0>"
      ]
     },
     "metadata": {},
     "output_type": "display_data"
    }
   ],
   "source": [
    "# Show how catalog g and r magnitude cuts give very different stars \n",
    "from matplotlib import gridspec\n",
    "fig = plt.figure(figsize=(8,4))\n",
    "gs = gridspec.GridSpec(1, 1) \n",
    "ax = plt.subplot(gs[0])\n",
    "\n",
    "\n",
    "ax.set_ylabel('N')\n",
    "ax.set_xlabel('magnitude')\n",
    "nbins = 50\n",
    "hist1, bin_edges = np.histogram(star_cat['g_mMed'], bins = nbins, density=False)\n",
    "bin_cen1 = (bin_edges[:-1] + bin_edges[1:])/2\n",
    "\n",
    "# exclude those 17 objects that don't have SDSS r mag \n",
    "#hist2, bin_edges = np.histogram(qso_catalog['r'][qso_catalog['r'] != 0], bins=nbins, density=True)\n",
    "\n",
    "hist2, bin_edges = np.histogram(star_cat['r_mMed'], bins=nbins, density=False)\n",
    "bin_cen2 = (bin_edges[:-1] + bin_edges[1:])/2\n",
    "\n",
    "ax.plot(bin_cen1, hist1, color = 'green', ls='steps', label='SDSS g mag')\n",
    "ax.plot(bin_cen2, hist2, color = 'red', ls='steps', label='SDSS r mag')\n",
    "ax.legend(loc='upper left')\n",
    "ax.set_title('SDSS Catalog  properties of Sample_4_Stars_blue_314248 \\n', fontsize=15)\n"
   ]
  },
  {
   "cell_type": "code",
   "execution_count": 97,
   "metadata": {
    "collapsed": false
   },
   "outputs": [
    {
     "data": {
      "text/plain": [
       "30541"
      ]
     },
     "execution_count": 97,
     "metadata": {},
     "output_type": "execute_result"
    }
   ],
   "source": [
    "# Number of stars in 0-20 mag cut \n",
    "m = star_cat['r_mMed'] < 20\n",
    "len(star_cat['r_mMed'][m])"
   ]
  },
  {
   "cell_type": "code",
   "execution_count": 99,
   "metadata": {
    "collapsed": false
   },
   "outputs": [
    {
     "data": {
      "text/plain": [
       "21708"
      ]
     },
     "execution_count": 99,
     "metadata": {},
     "output_type": "execute_result"
    }
   ],
   "source": [
    "# Number of stars in 0-20 mag cut\n",
    "m = star_cat['g_mMed'] < 20\n",
    "len(star_cat['g_mMed'][m])"
   ]
  },
  {
   "cell_type": "code",
   "execution_count": 115,
   "metadata": {
    "collapsed": false
   },
   "outputs": [
    {
     "data": {
      "text/plain": [
       "5804"
      ]
     },
     "execution_count": 115,
     "metadata": {},
     "output_type": "execute_result"
    }
   ],
   "source": [
    "# Number of stars in 17-18 mag cut , r mag \n",
    "mr = (star_cat['r_mMed'] < 18 )*(star_cat['r_mMed'] > 17)\n",
    "len(star_cat['r_mMed'][mr])"
   ]
  },
  {
   "cell_type": "code",
   "execution_count": 116,
   "metadata": {
    "collapsed": false
   },
   "outputs": [
    {
     "data": {
      "text/plain": [
       "4163"
      ]
     },
     "execution_count": 116,
     "metadata": {},
     "output_type": "execute_result"
    }
   ],
   "source": [
    "# Number of stars in 17-18 mag cut , g mag \n",
    "mg = (star_cat['g_mMed'] < 18 )*(star_cat['g_mMed'] > 17)\n",
    "len(star_cat['g_mMed'][mg])"
   ]
  },
  {
   "cell_type": "code",
   "execution_count": 108,
   "metadata": {
    "collapsed": false
   },
   "outputs": [
    {
     "data": {
      "text/plain": [
       "1432"
      ]
     },
     "execution_count": 108,
     "metadata": {},
     "output_type": "execute_result"
    }
   ],
   "source": [
    "# What is the overlap ?\n",
    "\n",
    "np.sum(np.in1d(star_cat['crts_id'][mr],star_cat['crts_id'][mg]))"
   ]
  },
  {
   "cell_type": "code",
   "execution_count": 109,
   "metadata": {
    "collapsed": false
   },
   "outputs": [
    {
     "data": {
      "text/plain": [
       "1432"
      ]
     },
     "execution_count": 109,
     "metadata": {},
     "output_type": "execute_result"
    }
   ],
   "source": [
    "np.sum(np.in1d(star_cat['crts_id'][mg],star_cat['crts_id'][mr]))"
   ]
  },
  {
   "cell_type": "markdown",
   "metadata": {},
   "source": [
    "Conclusion: \n",
    "    Only 1432 stars!  This means that performing the selection with SDSS g mag vs  SDSS r mag brings very different stars!  "
   ]
  },
  {
   "cell_type": "markdown",
   "metadata": {},
   "source": [
    "# Sample_6_Stars_blue_314248.txt : same stars (selected by g-mag) but reporting r_mag "
   ]
  },
  {
   "cell_type": "code",
   "execution_count": 118,
   "metadata": {
    "collapsed": true
   },
   "outputs": [],
   "source": [
    "import numpy as np\n",
    "import matplotlib.pyplot as plt\n",
    "\n",
    "data = np.genfromtxt('Sample_6_Stars_blue_314248_lines.txt')\n",
    "\n",
    "xi = data[:,0]\n",
    "ei = data[:,1]\n",
    "n = data[:,2]\n",
    "rmag = data[:,3]"
   ]
  },
  {
   "cell_type": "code",
   "execution_count": 122,
   "metadata": {
    "collapsed": false
   },
   "outputs": [
    {
     "data": {
      "text/plain": [
       "True"
      ]
     },
     "execution_count": 122,
     "metadata": {},
     "output_type": "execute_result"
    }
   ],
   "source": [
    "# Now the stars are the same as in sample 4, but the reported magnitudes are SDSS_r\n",
    "\n",
    "# That's why the median error for 17-18 rmag cut is the same as for stars selected according to catalog rmag \n",
    "# in Sample 4 \n",
    "np.median(ei[np.in1d(n,stars[m1])]) == np.median(ei[(rmag<18)*(rmag>17)])"
   ]
  },
  {
   "cell_type": "code",
   "execution_count": null,
   "metadata": {
    "collapsed": true
   },
   "outputs": [],
   "source": []
  }
 ],
 "metadata": {
  "kernelspec": {
   "display_name": "Python 2",
   "language": "python",
   "name": "python2"
  },
  "language_info": {
   "codemirror_mode": {
    "name": "ipython",
    "version": 2
   },
   "file_extension": ".py",
   "mimetype": "text/x-python",
   "name": "python",
   "nbconvert_exporter": "python",
   "pygments_lexer": "ipython2",
   "version": "2.7.11"
  }
 },
 "nbformat": 4,
 "nbformat_minor": 0
}
