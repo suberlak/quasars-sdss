{
 "cells": [
  {
   "cell_type": "code",
   "execution_count": 17,
   "metadata": {
    "collapsed": true
   },
   "outputs": [],
   "source": [
    "import os\n",
    "import numpy as np \n",
    "import matplotlib.pyplot as plt"
   ]
  },
  {
   "cell_type": "markdown",
   "metadata": {},
   "source": [
    "Introduce all necessary functions:\n",
    "    - reading the SDSS-CRTS cross-matched catalogue \n",
    "    - make cuts in the available objecs according to selection criteria "
   ]
  },
  {
   "cell_type": "code",
   "execution_count": 63,
   "metadata": {
    "collapsed": false
   },
   "outputs": [
    {
     "name": "stdout",
     "output_type": "stream",
     "text": [
      "Zipping CRTS-SDSS quasars catalog from  CRTS_SDSS_cross_matched_qso_DB_QSO_catalog.txt  ...\n",
      "Read in  7601 , quasars from CRTS\n",
      "zipping CRTS-SDSS stars catalog...\n"
     ]
    }
   ],
   "source": [
    "def get_qso_catalog(catalog):\n",
    "    if catalog == 's82drw':\n",
    "        File = 'CRTS_SDSS_cross_matched_qso_s82drw_catalog.txt'\n",
    "    if catalog == 'DB_QSO':\n",
    "        File = 'CRTS_SDSS_cross_matched_qso_DB_QSO_catalog.txt'\n",
    "    colnames = open(File,'r').read().splitlines()[0][1:].split()\n",
    "    datatable = np.genfromtxt(File, dtype=str)\n",
    "    qso_catalog = {}\n",
    "    print 'Zipping CRTS-SDSS quasars catalog from ', File, ' ...'\n",
    "    for label, column in zip(colnames, datatable.T):\n",
    "        qso_catalog[label] = column\n",
    "    \n",
    "    qso_names = np.genfromtxt('CRTS_SDSS_cross_matched_qso_names.txt', dtype=str)    \n",
    "    for i in range(len(qso_names)):\n",
    "        qso_names[i] = qso_names[i][4:-4]\n",
    "    print 'Read in ', len(qso_catalog['redshift']), ', quasars from CRTS'\n",
    "    return  colnames, qso_catalog, qso_names\n",
    "    \n",
    "def get_stars_catalog():\n",
    "    File = 'CRTS_SDSS_cross_matched_stars_catalog.txt'\n",
    "    colnames = open(File,'r').read().splitlines()[0][1:].split()\n",
    "    datatable = np.genfromtxt(File)\n",
    "    stars_catalog = {}\n",
    "    print 'zipping CRTS-SDSS stars catalog...'\n",
    "    for label, column in zip(colnames, datatable.T):\n",
    "        stars_catalog[label] = column\n",
    "        \n",
    "    return  colnames, stars_catalog\n",
    "\n",
    "cols1, qso_cat, qso_names = get_qso_catalog(catalog='DB_QSO') \n",
    "cols2 , star_cat= get_stars_catalog()\n",
    "\n",
    "# Perform cuts \n",
    "def cut_qso(qso_cat=qso_cat, qso_names=qso_names, mMin=-9, mMax=19, \n",
    "            mErrMin = -9, mErrMax = 0.3,cut_mag='r', report_mag = 'r'):\n",
    "\n",
    "    mask_mag = (qso_cat[cut_mag].astype(float) > mMin) * (qso_cat[cut_mag].astype(float) < mMax) \n",
    "    mask_err = (qso_cat['CRTS_avg_e'].astype(float) > mErrMin) * (qso_cat['CRTS_avg_e'].astype(float) < mErrMax)\n",
    "    mask = mask_mag * mask_err \n",
    "    qso_id = qso_names[mask]\n",
    "    qso_mags = qso_cat[report_mag][mask]\n",
    "    print '\\n These cuts reduced the number of qso  in the sample from', \\\n",
    "          len(qso_cat['redshift']), ' to ', len(qso_id)\n",
    "    return  qso_id, mask , qso_mags\n",
    "\n",
    "def cut_stars(star_cat=star_cat, mMin=-9, mMax=19, mErrMin = -9, \n",
    "              mErrMax = 0.3, gi_Min = -1, gi_Max=1 , cut_mag='r_mMed',\n",
    "              report_mag = 'r_mMed'):\n",
    "\n",
    "    mask_mag = (star_cat[cut_mag] > mMin) * (star_cat[cut_mag] < mMax) \n",
    "    mask_err = (star_cat['CRTS_Merr'] > mErrMin) * (star_cat['CRTS_Merr'] < mErrMax)\n",
    "    SDSS_gi = star_cat['g_mMed'] - star_cat['i_mMed']\n",
    "    mask_color = (SDSS_gi > gi_Min ) * (SDSS_gi < gi_Max)\n",
    "    mask = mask_mag * mask_err * mask_color\n",
    "    star_id_f = star_cat['crts_id'][mask]\n",
    "    star_mags = star_cat[report_mag][mask]\n",
    "    # convert floats to strings without comma and zeros\n",
    "    star_id = np.array([\"{:.0f}\".format(name) for name in star_id_f])\n",
    "    print '\\n These cuts reduced the number of stars  in the sample from', \\\n",
    "          len(star_cat['CRTS_M']), ' to ', len(star_id)\n",
    "    return  star_id, star_mags\n"
   ]
  },
  {
   "cell_type": "markdown",
   "metadata": {},
   "source": [
    "Introduce xi, ei reading functions"
   ]
  },
  {
   "cell_type": "code",
   "execution_count": 62,
   "metadata": {
    "collapsed": false
   },
   "outputs": [
    {
     "data": {
      "text/plain": [
       "array(['001053.56+000642.9', '001050.95-003133.2', '001047.99-001830.1',\n",
       "       ..., '235738.83+000329.8', '235737.96+003227.8',\n",
       "       '235736.27+003056.4'], \n",
       "      dtype='|S18')"
      ]
     },
     "execution_count": 62,
     "metadata": {},
     "output_type": "execute_result"
    }
   ],
   "source": [
    "qso_cat['CRTS_id']"
   ]
  },
  {
   "cell_type": "markdown",
   "metadata": {},
   "source": [
    "1) Use SDSS g-mag, read 18-18.5 files only "
   ]
  },
  {
   "cell_type": "code",
   "execution_count": 64,
   "metadata": {
    "collapsed": false
   },
   "outputs": [
    {
     "name": "stdout",
     "output_type": "stream",
     "text": [
      "\n",
      "Using now only lightcurves with SDSS  18.000000< g < 18.500000\n",
      "\n",
      " Reporting SDSS g  \n",
      "\n",
      " These cuts reduced the number of stars  in the sample from 47787  to  1463\n",
      "\n",
      " These cuts reduced the number of stars  in the sample from 47787  to  1136\n",
      "\n",
      " These cuts reduced the number of qso  in the sample from 7601  to  239\n"
     ]
    }
   ],
   "source": [
    "Min = 18\n",
    "Max = 18.5 \n",
    "cut_mag = 'g'\n",
    "report_mag = 'g'\n",
    "\n",
    "print('\\nUsing now only lightcurves with SDSS  %f< %s < %f' % (Min, cut_mag, Max))\n",
    "print('\\n Reporting SDSS %s  '% report_mag)\n",
    "\n",
    "\n",
    "good_ids_S_blue, S_blue_mags  = cut_stars(mMin = Min, mMax=Max, mErrMax = 0.3, gi_Min = -1, gi_Max=1, \n",
    "                                          cut_mag=cut_mag + '_mMed', report_mag=report_mag + '_mMed')\n",
    "good_ids_S_red, S_red_mags = cut_stars(mMin = Min, mMax=Max, mErrMax = 0.3, gi_Min = 1, gi_Max=3,\n",
    "                                        cut_mag=cut_mag + '_mMed', report_mag=report_mag + '_mMed')\n",
    "good_ids_QSO, mask_qso, qso_mags = cut_qso(mMin = Min, mMax=Max, mErrMax = 0.3, cut_mag=cut_mag,report_mag=report_mag)"
   ]
  },
  {
   "cell_type": "markdown",
   "metadata": {},
   "source": [
    "2) Save names of stars, qso \n",
    "- pattern for name, SDSS_mag, CRTS_avg_err, CRTS_avg_mag\n",
    "\n",
    "18-18.5_g-sel_starsB_name_SDSS-mag_CRTS-avg-err_CRTS-avg-mag\n",
    "\n",
    "18-18.5_g-sel_starsR_name_SDSS-mag_CRTS-avg-err_CRTS-avg-mag\n",
    "\n",
    "18-18.5_g-sel_QSO_name_SDSS-mag_CRTS-avg-err_CRTS-avg-mag"
   ]
  },
  {
   "cell_type": "code",
   "execution_count": 81,
   "metadata": {
    "collapsed": false
   },
   "outputs": [],
   "source": [
    "# Grab CRTS_avg_err, CRTS_avg_mag\n",
    "\n",
    "cat_starB_CRTS_Merr = [star_cat['CRTS_Merr'][star_cat['crts_id']==star][0] for star in good_ids_S_blue.astype(float)]\n",
    "cat_starB_CRTS_M = [star_cat['CRTS_M'][star_cat['crts_id']==star][0] for star in good_ids_S_blue.astype(float)]\n",
    "\n",
    "cat_starR_CRTS_Merr = [star_cat['CRTS_Merr'][star_cat['crts_id']==star][0] for star in good_ids_S_red.astype(float)]\n",
    "cat_starR_CRTS_M = [star_cat['CRTS_M'][star_cat['crts_id']==star][0] for star in good_ids_S_red.astype(float)]\n",
    "\n",
    "cat_qso_CRTS_Merr = [qso_cat['CRTS_avg_e'][qso_cat['CRTS_id']==qso][0].astype(float) for qso in good_ids_QSO]\n",
    "cat_qso_CRTS_M = [qso_cat['CRTS_avg_m'][qso_cat['CRTS_id']==qso][0].astype(float) for qso in good_ids_QSO]"
   ]
  },
  {
   "cell_type": "code",
   "execution_count": 86,
   "metadata": {
    "collapsed": false
   },
   "outputs": [
    {
     "name": "stdout",
     "output_type": "stream",
     "text": [
      "18-18.5_gstarsB_name_SDSS-mag_CRTS-avg-err_CRTS-avg-mag.txt\n",
      "18-18.5_gstarsR_name_SDSS-mag_CRTS-avg-err_CRTS-avg-mag.txt\n",
      "18-18.5_gqso_name_SDSS-mag_CRTS-avg-err_CRTS-avg-mag.txt\n"
     ]
    }
   ],
   "source": [
    "data = np.column_stack((good_ids_S_blue,S_blue_mags, cat_starB_CRTS_Merr, cat_starB_CRTS_M ))\n",
    "fname=str(Min)+'-'+str(Max)+'_'+cut_mag+'starsB_name_SDSS-mag_CRTS-avg-err_CRTS-avg-mag.txt'\n",
    "print fname\n",
    "np.savetxt(fname, data, fmt='%s  '*4)\n",
    "\n",
    "data = np.column_stack((good_ids_S_red,S_red_mags, cat_starR_CRTS_Merr, cat_starR_CRTS_M ))\n",
    "fname=str(Min)+'-'+str(Max)+'_'+cut_mag+'starsR_name_SDSS-mag_CRTS-avg-err_CRTS-avg-mag.txt'\n",
    "print fname\n",
    "np.savetxt(fname, data, fmt='%s  '*4)\n",
    "\n",
    "data = np.column_stack((good_ids_QSO,qso_mags, cat_qso_CRTS_Merr, cat_qso_CRTS_M ))\n",
    "fname=str(Min)+'-'+str(Max)+'_'+cut_mag+'qso_name_SDSS-mag_CRTS-avg-err_CRTS-avg-mag.txt'\n",
    "print fname\n",
    "np.savetxt(fname, data, fmt='%s  '*4)"
   ]
  },
  {
   "cell_type": "code",
   "execution_count": 87,
   "metadata": {
    "collapsed": false
   },
   "outputs": [
    {
     "data": {
      "text/plain": [
       "0.0"
      ]
     },
     "execution_count": 87,
     "metadata": {},
     "output_type": "execute_result"
    }
   ],
   "source": [
    "# Just a check : that the order in qso_names from a file is indeed the same as the catalog...\n",
    "cat_gmags_qso = [qso_cat['g'][qso_cat['CRTS_id'] == name][0].astype(float)  for name in good_ids_QSO]\n",
    "# Just to make sure  : all the mags extracted in the new way are exactly the same \n",
    "np.sum(np.array(cat_gmags_qso) - np.array(qso_mags).astype(float))"
   ]
  },
  {
   "cell_type": "code",
   "execution_count": null,
   "metadata": {
    "collapsed": true
   },
   "outputs": [],
   "source": [
    "3) Use SDSS r-mag, read 18-18.5 files only"
   ]
  },
  {
   "cell_type": "code",
   "execution_count": null,
   "metadata": {
    "collapsed": true
   },
   "outputs": [],
   "source": []
  },
  {
   "cell_type": "markdown",
   "metadata": {},
   "source": [
    " \n",
    "\n",
    "4) Save names of stars, qso\n",
    "- pattern for name, SDSS_mag, CRTS_avg_err, CRTS_avg_mag\n",
    "18-18.5_r-sel_starsB_name_SDSS-mag_CRTS-avg-err_CRTS-avg-mag\n",
    "18-18.5_r-sel_starsR_name_SDSS-mag_CRTS-avg-err_CRTS-avg-mag\n",
    "18-18.5_r-sel_QSO_name_SDSS-mag_CRTS-avg-err_CRTS-avg-mag\n",
    "\n",
    "\n",
    "5) Make three bins : \n",
    "- stars_B that are in both g and r , those only in g, and those only in  r   (similarly for stars_R, QSO)\n",
    "--> get lists of names of objects in each bin\n",
    "18-18.5_binr_starsB_name_SDSS-mag_CRTS-avg-err_CRTS-avg-mag\n",
    "18-18.5_bing_starsB_name_SDSS-mag_CRTS-avg-err_CRTS-avg-mag\n",
    "18-18.5_bingr_starsB_name_SDSS-mag_CRTS-avg-err_CRTS-avg-mag\n",
    "\n",
    "18-18.5_binr_starsR_name_SDSS-mag_CRTS-avg-err_CRTS-avg-mag\n",
    "18-18.5_bing_starsR_name_SDSS-mag_CRTS-avg-err_CRTS-avg-mag\n",
    "18-18.5_bingr_starsR_name_SDSS-mag_CRTS-avg-err_CRTS-avg-mag\n",
    "\n",
    "18-18.5_binr_QSO_name_SDSS-mag_CRTS-avg-err_CRTS-avg-mag\n",
    "18-18.5_bing_QSO_name_SDSS-mag_CRTS-avg-err_CRTS-avg-mag\n",
    "18-18.5_bingr_QSO_name_SDSS-mag_CRTS-avg-err_CRTS-avg-mag\n",
    "\n",
    "--> for each object, get the CRTS_avg_err,  etc. from the catalogue \n",
    "--> using this data, calculate median CRTS mag for each bin, and median CRTS_avg_err \n",
    "\n",
    "         binr    bing    bingr   \n",
    "starR\n",
    "starB    median_CRTS_mag\n",
    "QSO\n",
    "\n",
    "\n",
    "         binr    bing    bingr   \n",
    "starR\n",
    "starB    median_CRTS_avg_err\n",
    "QSO\n",
    "\n",
    "\n",
    "6) Read in xi, ei for stars_B in each bin  (similar for Stars_R and QSO), select log(tau)<1.7 , save as files per bin:\n",
    "\n",
    "18-18.5_bin_g_starsB_logt_1.7_xi_ei_name\n",
    "18-18.5_bin_r_starsB_logt_1.7_xi_ei_name\n",
    "18-18.5_bin_gr_starsB_logt_1.7_xi_ei_name\n",
    "\n",
    "18-18.5_bin_g_starsR_logt_1.7_xi_ei_name\n",
    "18-18.5_bin_r_starsR_logt_1.7_xi_ei_name\n",
    "18-18.5_bin_gr_starsR_logt_1.7_xi_ei_name\n",
    "\n",
    "18-18.5_bin_g_QSO_logt_1.7_xi_ei_name\n",
    "18-18.5_bin_r_QSO_logt_1.7_xi_ei_name\n",
    "18-18.5_bin_gr_QSO_logt_1.7_xi_ei_name\n",
    "\n",
    "7) Calculate median ei per bin \n",
    "\n",
    "         binr    bing    bingr   \n",
    "starR\n",
    "starB    median_CRTS_err\n",
    "QSO\n",
    "\n"
   ]
  },
  {
   "cell_type": "code",
   "execution_count": 1,
   "metadata": {
    "collapsed": true
   },
   "outputs": [],
   "source": [
    "import numpy as np"
   ]
  },
  {
   "cell_type": "code",
   "execution_count": 5,
   "metadata": {
    "collapsed": false
   },
   "outputs": [],
   "source": [
    "a=np.array([1,2,3])\n",
    "b = np.array([2,3,4])"
   ]
  },
  {
   "cell_type": "code",
   "execution_count": 6,
   "metadata": {
    "collapsed": false
   },
   "outputs": [
    {
     "data": {
      "text/plain": [
       "array([2, 3])"
      ]
     },
     "execution_count": 6,
     "metadata": {},
     "output_type": "execute_result"
    }
   ],
   "source": [
    "intersection = np.intersect1d(a,b)\n",
    "intersection"
   ]
  },
  {
   "cell_type": "code",
   "execution_count": 7,
   "metadata": {
    "collapsed": false
   },
   "outputs": [
    {
     "data": {
      "text/plain": [
       "array([1])"
      ]
     },
     "execution_count": 7,
     "metadata": {},
     "output_type": "execute_result"
    }
   ],
   "source": [
    "left = np.setdiff1d(a,b)\n",
    "left"
   ]
  },
  {
   "cell_type": "code",
   "execution_count": 9,
   "metadata": {
    "collapsed": false
   },
   "outputs": [
    {
     "data": {
      "text/plain": [
       "array([4])"
      ]
     },
     "execution_count": 9,
     "metadata": {},
     "output_type": "execute_result"
    }
   ],
   "source": [
    "right = np.setdiff1d(b,a)\n",
    "right\n"
   ]
  },
  {
   "cell_type": "code",
   "execution_count": 12,
   "metadata": {
    "collapsed": false
   },
   "outputs": [],
   "source": [
    "import matplotlib.pyplot as plt \n",
    "from matplotlib_venn import venn2"
   ]
  },
  {
   "cell_type": "code",
   "execution_count": 14,
   "metadata": {
    "collapsed": false
   },
   "outputs": [
    {
     "data": {
      "text/plain": [
       "<matplotlib_venn._common.VennDiagram instance at 0x7fce45a76bd8>"
      ]
     },
     "execution_count": 14,
     "metadata": {},
     "output_type": "execute_result"
    },
    {
     "data": {
      "image/png": "[encoded data removed]",
      "text/plain": [
       "<matplotlib.figure.Figure at 0x7fce45be3b50>"
      ]
     },
     "metadata": {},
     "output_type": "display_data"
    }
   ],
   "source": [
    "%matplotlib inline\n",
    "venn2(subsets=(3,2,1))"
   ]
  },
  {
   "cell_type": "code",
   "execution_count": 16,
   "metadata": {
    "collapsed": false
   },
   "outputs": [
    {
     "data": {
      "text/plain": [
       "<matplotlib_venn._common.VennDiagram instance at 0x7fce4599def0>"
      ]
     },
     "execution_count": 16,
     "metadata": {},
     "output_type": "execute_result"
    },
    {
     "data": {
      "image/png": "[encoded data removed]",
      "text/plain": [
       "<matplotlib.figure.Figure at 0x7fce45b510d0>"
      ]
     },
     "metadata": {},
     "output_type": "display_data"
    }
   ],
   "source": [
    "# This shows the number of objeccts in each category \n",
    "venn2([set(a),set(b)], ('Set A', 'Set B') )\n"
   ]
  },
  {
   "cell_type": "code",
   "execution_count": 29,
   "metadata": {
    "collapsed": true
   },
   "outputs": [],
   "source": [
    "# inside the main loop : get tau, delflx from a master file, either qso or star\n",
    "def add_tau_delflx(File, inDir, data, fc):\n",
    "    # read in storage arrays\n",
    "    delflx = data[0]  \n",
    "    tau = data[1]\n",
    "    err = data[2]\n",
    "    master_acc_list = data[3]   \n",
    "    \n",
    "    # grab the object name \n",
    "    master_name = File[3:-4]\n",
    "    \n",
    "    # read in the i-th master file \n",
    "    master =  np.genfromtxt(inDir+File, dtype=str)\n",
    "    \n",
    "    # read in tau,  del_mag,  del_mag_err for quasars on the list \n",
    "    delflx = np.append(delflx, master[:,0].astype(float))\n",
    "    tau = np.append(tau, master[:,1].astype(float))\n",
    "    \n",
    "    if fc is not None :  # correct new master rows only if  asked for \n",
    "        err = np.append(err, master[:,2].astype(float)*fc)\n",
    "    else:                # otherwise read in without any correction\n",
    "        err = np.append(err, master[:,2].astype(float))\n",
    "    master_names  = np.append(master_acc_list, np.array(len(master[:,0])*[master_name]))\n",
    "    \n",
    "    return delflx, tau, err, master_names\n",
    "    \n",
    "def read_xi_ei(inDirStars, good_ids_S_blue, good_ids_S_red, inDirQSO,\n",
    "                 good_ids_QSO, xi_ei_data=None, fc=None):\n",
    "                     \n",
    "    inDir_S       = inDirStars\n",
    "    good_ids_S_blue    = good_ids_S_blue\n",
    "    good_ids_S_red    = good_ids_S_red\n",
    "    inDir_Q       = inDirQSO\n",
    "      \n",
    "    \n",
    "    # Read the Stellar Master file names \n",
    "    masterFiles_S = os.listdir(inDir_S)\n",
    "    masterFilesS1 = [name[3:-4] for name in masterFiles_S]\n",
    "    \n",
    "    good_masterSB = np.array(masterFiles_S)[np.in1d(masterFilesS1, good_ids_S_blue)]\n",
    "    good_masterSR = np.array(masterFiles_S)[np.in1d(masterFilesS1, good_ids_S_red)]\n",
    "    \n",
    "    # Read the QSO Master file names \n",
    "    masterFiles_Q = os.listdir(inDir_Q)\n",
    "    masterFilesQ1 = [name[3:-4] for name in masterFiles_Q]\n",
    "    good_masterQ = np.array(masterFiles_Q)[np.in1d(masterFilesQ1, good_ids_QSO)]\n",
    "    \n",
    "\n",
    "  \n",
    "    # If no previous read-in xi, ei exists, initialize arrays    \n",
    "    if xi_ei_data is None : \n",
    "        print 'making new delflx, tau, xi arrays'\n",
    "        delflx_S      = np.empty(0,dtype=float)\n",
    "        tau_S         = np.empty(0,dtype=float)\n",
    "        err_S         = np.empty(0,dtype=float)\n",
    "        master_acc_list_S = np.empty(0, dtype=str)\n",
    "    \n",
    "        \n",
    "       \n",
    "        delflx_Q      = np.empty(0,dtype=float)\n",
    "        tau_Q         = np.empty(0,dtype=float)\n",
    "        err_Q         = np.empty(0,dtype=float)\n",
    "        master_acc_list_Q = np.empty(0, dtype=str)\n",
    "        \n",
    "        # Initialize the data structures to which more and more delta_t and delta_mag\n",
    "        # are addded from each consecutive master file \n",
    "        qso_data = [delflx_Q, tau_Q, err_Q, master_acc_list_Q] \n",
    "        star_data_blue = [delflx_S, tau_S, err_S, master_acc_list_S]\n",
    "        star_data_red  = [delflx_S, tau_S, err_S, master_acc_list_S]\n",
    "        \n",
    "    else:\n",
    "        print 'using existing xi ei arrays'\n",
    "        qso_data = xi_ei_data[0]\n",
    "        star_data_blue = xi_ei_data[1]\n",
    "        star_data_red = xi_ei_data[2]\n",
    "        \n",
    "    print('\\n')\n",
    "    c = 0\n",
    "    for File in good_masterQ: #  len(masterFiles_Q)\n",
    "        #print 'Reading in ', File\n",
    "        \n",
    "        qso_data = add_tau_delflx(File,inDir_Q, qso_data, fc)\n",
    "        c += 1 \n",
    "        if c % 5 == 0:\n",
    "            pers = (100.0*c) / float(len(good_masterQ))\n",
    "            print('\\r----- Already read %d%% of qso'%pers),\n",
    "    \n",
    "    print('\\n')\n",
    "    c = 0                   \n",
    "    for File in good_masterSB:    # [:len(good_masterQ)]\n",
    "        #print 'Reading in ', File\n",
    "        star_data_blue = add_tau_delflx(File, inDir_S,star_data_blue, fc)\n",
    "        c += 1 \n",
    "        if c % 5 == 0:\n",
    "            pers = (100.0*c) / float(len(good_masterQ))\n",
    "            print('\\r----- Already read %d%% of Blue Stars'%pers),  \n",
    "    print('\\n')\n",
    "    c = 0                         \n",
    "    for File in good_masterSR:   # [:len(good_masterQ)]\n",
    "        #print 'Reading in ', File\n",
    "        star_data_red = add_tau_delflx(File, inDir_S, star_data_red, fc)      \n",
    "        c += 1               \n",
    "        if c % 5 == 0:\n",
    "            pers = (100.0*c) / float(len(good_masterQ))\n",
    "            print('\\r----- Already read %d%% of Red Stars'%pers),          \n",
    "                     \n",
    "    print('returning xi, ei for ... %d objects'%len(good_masterQ))\n",
    "                            \n",
    "    return  qso_data, star_data_blue, star_data_red"
   ]
  },
  {
   "cell_type": "code",
   "execution_count": null,
   "metadata": {
    "collapsed": true
   },
   "outputs": [],
   "source": []
  }
 ],
 "metadata": {
  "kernelspec": {
   "display_name": "Python 2",
   "language": "python",
   "name": "python2"
  },
  "language_info": {
   "codemirror_mode": {
    "name": "ipython",
    "version": 2
   },
   "file_extension": ".py",
   "mimetype": "text/x-python",
   "name": "python",
   "nbconvert_exporter": "python",
   "pygments_lexer": "ipython2",
   "version": "2.7.10"
  }
 },
 "nbformat": 4,
 "nbformat_minor": 0
}
