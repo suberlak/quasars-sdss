{
 "cells": [
  {
   "cell_type": "markdown",
   "metadata": {},
   "source": [
    "1) Use SDSS g-mag, read 18-18.5 files only \n",
    "\n",
    "Min = 18\n",
    "Max = 18.5 \n",
    "cut_mag = 'g_mMed'\n",
    "report_mag = 'g_mMed'\n",
    "    \n",
    "print('\\nUsing now only lightcurves with SDSS  %f< %s < %f' % (Min, cut_mag, Max))\n",
    "print('\\n Reporting SDSS %s  '% report_mag)\n",
    "\n",
    "good_ids_S_blue, S_blue_mags  = cut_stars(mMin = Min, mMax=Max, mErrMax = 0.3, gi_Min = -1, gi_Max=1,\n",
    "                                           cut_mag=cut_mag, report_mag=report_mag)\n",
    "good_ids_S_red, S_red_mags = cut_stars(mMin = Min, mMax=Max, mErrMax = 0.3, gi_Min = 1, gi_Max=3,\n",
    "                                        cut_mag=cut_mag, report_mag=report_mag)\n",
    "good_ids_QSO, mask_qso, qso_rmags = cut_qso(mMin = Min, mMax=Max, mErrMax = 0.3)\n",
    "\n",
    "\n",
    "              \n",
    "2) Save names of stars, qso \n",
    "- pattern for name, SDSS_mag, CRTS_avg_err, CRTS_avg_mag\n",
    "18-18.5_g-sel_starsB_name_SDSS-mag_CRTS-avg-err_CRTS-avg-mag\n",
    "18-18.5_g-sel_starsR_name_SDSS-mag_CRTS-avg-err_CRTS-avg-mag\n",
    "18-18.5_g-sel_QSO_name_SDSS-mag_CRTS-avg-err_CRTS-avg-mag\n",
    "\n",
    "3) Use SDSS r-mag, read 18-18.5 files only \n",
    "\n",
    "4) Save names of stars, qso\n",
    "- pattern for name, SDSS_mag, CRTS_avg_err, CRTS_avg_mag\n",
    "18-18.5_r-sel_starsB_name_SDSS-mag_CRTS-avg-err_CRTS-avg-mag\n",
    "18-18.5_r-sel_starsR_name_SDSS-mag_CRTS-avg-err_CRTS-avg-mag\n",
    "18-18.5_r-sel_QSO_name_SDSS-mag_CRTS-avg-err_CRTS-avg-mag\n",
    "\n",
    "\n",
    "5) Make three bins : \n",
    "- stars_B that are in both g and r , those only in g, and those only in  r   (similarly for stars_R, QSO)\n",
    "--> get lists of names of objects in each bin\n",
    "18-18.5_binr_starsB_name_SDSS-mag_CRTS-avg-err_CRTS-avg-mag\n",
    "18-18.5_bing_starsB_name_SDSS-mag_CRTS-avg-err_CRTS-avg-mag\n",
    "18-18.5_bingr_starsB_name_SDSS-mag_CRTS-avg-err_CRTS-avg-mag\n",
    "\n",
    "18-18.5_binr_starsR_name_SDSS-mag_CRTS-avg-err_CRTS-avg-mag\n",
    "18-18.5_bing_starsR_name_SDSS-mag_CRTS-avg-err_CRTS-avg-mag\n",
    "18-18.5_bingr_starsR_name_SDSS-mag_CRTS-avg-err_CRTS-avg-mag\n",
    "\n",
    "18-18.5_binr_QSO_name_SDSS-mag_CRTS-avg-err_CRTS-avg-mag\n",
    "18-18.5_bing_QSO_name_SDSS-mag_CRTS-avg-err_CRTS-avg-mag\n",
    "18-18.5_bingr_QSO_name_SDSS-mag_CRTS-avg-err_CRTS-avg-mag\n",
    "\n",
    "--> for each object, get the CRTS_avg_err,  etc. from the catalogue \n",
    "--> using this data, calculate median CRTS mag for each bin, and median CRTS_avg_err \n",
    "\n",
    "         binr    bing    bingr   \n",
    "starR\n",
    "starB    median_CRTS_mag\n",
    "QSO\n",
    "\n",
    "\n",
    "         binr    bing    bingr   \n",
    "starR\n",
    "starB    median_CRTS_avg_err\n",
    "QSO\n",
    "\n",
    "\n",
    "6) Read in xi, ei for stars_B in each bin  (similar for Stars_R and QSO), select log(tau)<1.7 , save as files per bin:\n",
    "\n",
    "18-18.5_bin_g_starsB_logt_1.7_xi_ei_name\n",
    "18-18.5_bin_r_starsB_logt_1.7_xi_ei_name\n",
    "18-18.5_bin_gr_starsB_logt_1.7_xi_ei_name\n",
    "\n",
    "18-18.5_bin_g_starsR_logt_1.7_xi_ei_name\n",
    "18-18.5_bin_r_starsR_logt_1.7_xi_ei_name\n",
    "18-18.5_bin_gr_starsR_logt_1.7_xi_ei_name\n",
    "\n",
    "18-18.5_bin_g_QSO_logt_1.7_xi_ei_name\n",
    "18-18.5_bin_r_QSO_logt_1.7_xi_ei_name\n",
    "18-18.5_bin_gr_QSO_logt_1.7_xi_ei_name\n",
    "\n",
    "7) Calculate median ei per bin \n",
    "\n",
    "         binr    bing    bingr   \n",
    "starR\n",
    "starB    median_CRTS_err\n",
    "QSO\n",
    "\n"
   ]
  },
  {
   "cell_type": "code",
   "execution_count": 1,
   "metadata": {
    "collapsed": true
   },
   "outputs": [],
   "source": [
    "import numpy as np"
   ]
  },
  {
   "cell_type": "code",
   "execution_count": 5,
   "metadata": {
    "collapsed": false
   },
   "outputs": [],
   "source": [
    "a=np.array([1,2,3])\n",
    "b = np.array([2,3,4])"
   ]
  },
  {
   "cell_type": "code",
   "execution_count": 6,
   "metadata": {
    "collapsed": false
   },
   "outputs": [
    {
     "data": {
      "text/plain": [
       "array([2, 3])"
      ]
     },
     "execution_count": 6,
     "metadata": {},
     "output_type": "execute_result"
    }
   ],
   "source": [
    "intersection = np.intersect1d(a,b)\n",
    "intersection"
   ]
  },
  {
   "cell_type": "code",
   "execution_count": 7,
   "metadata": {
    "collapsed": false
   },
   "outputs": [
    {
     "data": {
      "text/plain": [
       "array([1])"
      ]
     },
     "execution_count": 7,
     "metadata": {},
     "output_type": "execute_result"
    }
   ],
   "source": [
    "left = np.setdiff1d(a,b)\n",
    "left"
   ]
  },
  {
   "cell_type": "code",
   "execution_count": 9,
   "metadata": {
    "collapsed": false
   },
   "outputs": [
    {
     "data": {
      "text/plain": [
       "array([4])"
      ]
     },
     "execution_count": 9,
     "metadata": {},
     "output_type": "execute_result"
    }
   ],
   "source": [
    "right = np.setdiff1d(b,a)\n",
    "right\n"
   ]
  },
  {
   "cell_type": "code",
   "execution_count": 12,
   "metadata": {
    "collapsed": false
   },
   "outputs": [],
   "source": [
    "import matplotlib.pyplot as plt \n",
    "from matplotlib_venn import venn2"
   ]
  },
  {
   "cell_type": "code",
   "execution_count": 14,
   "metadata": {
    "collapsed": false
   },
   "outputs": [
    {
     "data": {
      "text/plain": [
       "<matplotlib_venn._common.VennDiagram instance at 0x7fce45a76bd8>"
      ]
     },
     "execution_count": 14,
     "metadata": {},
     "output_type": "execute_result"
    },
    {
     "data": {
      "image/png": "[encoded data removed]",
      "text/plain": [
       "<matplotlib.figure.Figure at 0x7fce45be3b50>"
      ]
     },
     "metadata": {},
     "output_type": "display_data"
    }
   ],
   "source": [
    "%matplotlib inline\n",
    "venn2(subsets=(3,2,1))"
   ]
  },
  {
   "cell_type": "code",
   "execution_count": null,
   "metadata": {
    "collapsed": true
   },
   "outputs": [],
   "source": [
    "venn2(set(a),set(b), )"
   ]
  }
 ],
 "metadata": {
  "kernelspec": {
   "display_name": "Python 2",
   "language": "python",
   "name": "python2"
  },
  "language_info": {
   "codemirror_mode": {
    "name": "ipython",
    "version": 2
   },
   "file_extension": ".py",
   "mimetype": "text/x-python",
   "name": "python",
   "nbconvert_exporter": "python",
   "pygments_lexer": "ipython2",
   "version": "2.7.10"
  }
 },
 "nbformat": 4,
 "nbformat_minor": 0
}
