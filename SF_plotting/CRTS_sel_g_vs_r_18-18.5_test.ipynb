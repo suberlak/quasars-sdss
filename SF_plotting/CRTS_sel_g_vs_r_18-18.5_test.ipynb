{
 "cells": [
  {
   "cell_type": "code",
   "execution_count": 17,
   "metadata": {
    "collapsed": true
   },
   "outputs": [],
   "source": [
    "import os\n",
    "import numpy as np \n",
    "import matplotlib.pyplot as plt"
   ]
  },
  {
   "cell_type": "markdown",
   "metadata": {},
   "source": [
    "Introduce all necessary functions:\n",
    "    - reading the SDSS-CRTS cross-matched catalogue \n",
    "    - make cuts in the available objecs according to selection criteria "
   ]
  },
  {
   "cell_type": "code",
   "execution_count": 63,
   "metadata": {
    "collapsed": false
   },
   "outputs": [
    {
     "name": "stdout",
     "output_type": "stream",
     "text": [
      "Zipping CRTS-SDSS quasars catalog from  CRTS_SDSS_cross_matched_qso_DB_QSO_catalog.txt  ...\n",
      "Read in  7601 , quasars from CRTS\n",
      "zipping CRTS-SDSS stars catalog...\n"
     ]
    }
   ],
   "source": [
    "def get_qso_catalog(catalog):\n",
    "    if catalog == 's82drw':\n",
    "        File = 'CRTS_SDSS_cross_matched_qso_s82drw_catalog.txt'\n",
    "    if catalog == 'DB_QSO':\n",
    "        File = 'CRTS_SDSS_cross_matched_qso_DB_QSO_catalog.txt'\n",
    "    colnames = open(File,'r').read().splitlines()[0][1:].split()\n",
    "    datatable = np.genfromtxt(File, dtype=str)\n",
    "    qso_catalog = {}\n",
    "    print 'Zipping CRTS-SDSS quasars catalog from ', File, ' ...'\n",
    "    for label, column in zip(colnames, datatable.T):\n",
    "        qso_catalog[label] = column\n",
    "    \n",
    "    qso_names = np.genfromtxt('CRTS_SDSS_cross_matched_qso_names.txt', dtype=str)    \n",
    "    for i in range(len(qso_names)):\n",
    "        qso_names[i] = qso_names[i][4:-4]\n",
    "    print 'Read in ', len(qso_catalog['redshift']), ', quasars from CRTS'\n",
    "    return  colnames, qso_catalog, qso_names\n",
    "    \n",
    "def get_stars_catalog():\n",
    "    File = 'CRTS_SDSS_cross_matched_stars_catalog.txt'\n",
    "    colnames = open(File,'r').read().splitlines()[0][1:].split()\n",
    "    datatable = np.genfromtxt(File)\n",
    "    stars_catalog = {}\n",
    "    print 'zipping CRTS-SDSS stars catalog...'\n",
    "    for label, column in zip(colnames, datatable.T):\n",
    "        stars_catalog[label] = column\n",
    "        \n",
    "    return  colnames, stars_catalog\n",
    "\n",
    "cols1, qso_cat, qso_names = get_qso_catalog(catalog='DB_QSO') \n",
    "cols2 , star_cat= get_stars_catalog()\n",
    "\n",
    "# Perform cuts \n",
    "def cut_qso(qso_cat=qso_cat, qso_names=qso_names, mMin=-9, mMax=19, \n",
    "            mErrMin = -9, mErrMax = 0.3,cut_mag='r', report_mag = 'r'):\n",
    "\n",
    "    mask_mag = (qso_cat[cut_mag].astype(float) > mMin) * (qso_cat[cut_mag].astype(float) < mMax) \n",
    "    mask_err = (qso_cat['CRTS_avg_e'].astype(float) > mErrMin) * (qso_cat['CRTS_avg_e'].astype(float) < mErrMax)\n",
    "    mask = mask_mag * mask_err \n",
    "    qso_id = qso_names[mask]\n",
    "    qso_mags = qso_cat[report_mag][mask]\n",
    "    print '\\n These cuts reduced the number of qso  in the sample from', \\\n",
    "          len(qso_cat['redshift']), ' to ', len(qso_id)\n",
    "    return  qso_id, mask , qso_mags\n",
    "\n",
    "def cut_stars(star_cat=star_cat, mMin=-9, mMax=19, mErrMin = -9, \n",
    "              mErrMax = 0.3, gi_Min = -1, gi_Max=1 , cut_mag='r_mMed',\n",
    "              report_mag = 'r_mMed'):\n",
    "\n",
    "    mask_mag = (star_cat[cut_mag] > mMin) * (star_cat[cut_mag] < mMax) \n",
    "    mask_err = (star_cat['CRTS_Merr'] > mErrMin) * (star_cat['CRTS_Merr'] < mErrMax)\n",
    "    SDSS_gi = star_cat['g_mMed'] - star_cat['i_mMed']\n",
    "    mask_color = (SDSS_gi > gi_Min ) * (SDSS_gi < gi_Max)\n",
    "    mask = mask_mag * mask_err * mask_color\n",
    "    star_id_f = star_cat['crts_id'][mask]\n",
    "    star_mags = star_cat[report_mag][mask]\n",
    "    # convert floats to strings without comma and zeros\n",
    "    star_id = np.array([\"{:.0f}\".format(name) for name in star_id_f])\n",
    "    print '\\n These cuts reduced the number of stars  in the sample from', \\\n",
    "          len(star_cat['CRTS_M']), ' to ', len(star_id)\n",
    "    return  star_id, star_mags\n"
   ]
  },
  {
   "cell_type": "markdown",
   "metadata": {},
   "source": [
    "Introduce xi, ei reading functions"
   ]
  },
  {
   "cell_type": "code",
   "execution_count": 62,
   "metadata": {
    "collapsed": false
   },
   "outputs": [
    {
     "data": {
      "text/plain": [
       "array(['001053.56+000642.9', '001050.95-003133.2', '001047.99-001830.1',\n",
       "       ..., '235738.83+000329.8', '235737.96+003227.8',\n",
       "       '235736.27+003056.4'], \n",
       "      dtype='|S18')"
      ]
     },
     "execution_count": 62,
     "metadata": {},
     "output_type": "execute_result"
    }
   ],
   "source": [
    "qso_cat['CRTS_id']"
   ]
  },
  {
   "cell_type": "markdown",
   "metadata": {},
   "source": [
    "1) Use SDSS g-mag, read 18-18.5 files only "
   ]
  },
  {
   "cell_type": "code",
   "execution_count": 64,
   "metadata": {
    "collapsed": false
   },
   "outputs": [
    {
     "name": "stdout",
     "output_type": "stream",
     "text": [
      "\n",
      "Using now only lightcurves with SDSS  18.000000< g < 18.500000\n",
      "\n",
      " Reporting SDSS g  \n",
      "\n",
      " These cuts reduced the number of stars  in the sample from 47787  to  1463\n",
      "\n",
      " These cuts reduced the number of stars  in the sample from 47787  to  1136\n",
      "\n",
      " These cuts reduced the number of qso  in the sample from 7601  to  239\n"
     ]
    }
   ],
   "source": [
    "Min = 18\n",
    "Max = 18.5 \n",
    "cut_mag = 'g'\n",
    "report_mag = 'g'\n",
    "\n",
    "print('\\nUsing now only lightcurves with SDSS  %f< %s < %f' % (Min, cut_mag, Max))\n",
    "print('\\n Reporting SDSS %s  '% report_mag)\n",
    "\n",
    "\n",
    "good_ids_S_blue, S_blue_mags  = cut_stars(mMin = Min, mMax=Max, mErrMax = 0.3, gi_Min = -1, gi_Max=1, \n",
    "                                          cut_mag=cut_mag + '_mMed', report_mag=report_mag + '_mMed')\n",
    "good_ids_S_red, S_red_mags = cut_stars(mMin = Min, mMax=Max, mErrMax = 0.3, gi_Min = 1, gi_Max=3,\n",
    "                                        cut_mag=cut_mag + '_mMed', report_mag=report_mag + '_mMed')\n",
    "good_ids_QSO, mask_qso, qso_mags = cut_qso(mMin = Min, mMax=Max, mErrMax = 0.3, cut_mag=cut_mag,report_mag=report_mag)"
   ]
  },
  {
   "cell_type": "markdown",
   "metadata": {},
   "source": [
    "2) Save names of stars, qso \n",
    "- pattern for name, SDSS_mag, CRTS_avg_err, CRTS_avg_mag\n",
    "\n",
    "18-18.5_g-sel_starsB_name_SDSS-mag_CRTS-avg-err_CRTS-avg-mag\n",
    "\n",
    "18-18.5_g-sel_starsR_name_SDSS-mag_CRTS-avg-err_CRTS-avg-mag\n",
    "\n",
    "18-18.5_g-sel_QSO_name_SDSS-mag_CRTS-avg-err_CRTS-avg-mag"
   ]
  },
  {
   "cell_type": "code",
   "execution_count": 81,
   "metadata": {
    "collapsed": false
   },
   "outputs": [],
   "source": [
    "# Grab CRTS_avg_err, CRTS_avg_mag\n",
    "\n",
    "cat_starB_CRTS_Merr = [star_cat['CRTS_Merr'][star_cat['crts_id']==star][0] for star in good_ids_S_blue.astype(float)]\n",
    "cat_starB_CRTS_M = [star_cat['CRTS_M'][star_cat['crts_id']==star][0] for star in good_ids_S_blue.astype(float)]\n",
    "\n",
    "cat_starR_CRTS_Merr = [star_cat['CRTS_Merr'][star_cat['crts_id']==star][0] for star in good_ids_S_red.astype(float)]\n",
    "cat_starR_CRTS_M = [star_cat['CRTS_M'][star_cat['crts_id']==star][0] for star in good_ids_S_red.astype(float)]\n",
    "\n",
    "cat_qso_CRTS_Merr = [qso_cat['CRTS_avg_e'][qso_cat['CRTS_id']==qso][0].astype(float) for qso in good_ids_QSO]\n",
    "cat_qso_CRTS_M = [qso_cat['CRTS_avg_m'][qso_cat['CRTS_id']==qso][0].astype(float) for qso in good_ids_QSO]"
   ]
  },
  {
   "cell_type": "code",
   "execution_count": 86,
   "metadata": {
    "collapsed": false
   },
   "outputs": [
    {
     "name": "stdout",
     "output_type": "stream",
     "text": [
      "18-18.5_gstarsB_name_SDSS-mag_CRTS-avg-err_CRTS-avg-mag.txt\n",
      "18-18.5_gstarsR_name_SDSS-mag_CRTS-avg-err_CRTS-avg-mag.txt\n",
      "18-18.5_gqso_name_SDSS-mag_CRTS-avg-err_CRTS-avg-mag.txt\n"
     ]
    }
   ],
   "source": [
    "data = np.column_stack((good_ids_S_blue,S_blue_mags, cat_starB_CRTS_Merr, cat_starB_CRTS_M ))\n",
    "fname=str(Min)+'-'+str(Max)+'_'+cut_mag+'starsB_name_SDSS-mag_CRTS-avg-err_CRTS-avg-mag.txt'\n",
    "print fname\n",
    "np.savetxt(fname, data, fmt='%s  '*4)\n",
    "\n",
    "data = np.column_stack((good_ids_S_red,S_red_mags, cat_starR_CRTS_Merr, cat_starR_CRTS_M ))\n",
    "fname=str(Min)+'-'+str(Max)+'_'+cut_mag+'starsR_name_SDSS-mag_CRTS-avg-err_CRTS-avg-mag.txt'\n",
    "print fname\n",
    "np.savetxt(fname, data, fmt='%s  '*4)\n",
    "\n",
    "data = np.column_stack((good_ids_QSO,qso_mags, cat_qso_CRTS_Merr, cat_qso_CRTS_M ))\n",
    "fname=str(Min)+'-'+str(Max)+'_'+cut_mag+'qso_name_SDSS-mag_CRTS-avg-err_CRTS-avg-mag.txt'\n",
    "print fname\n",
    "np.savetxt(fname, data, fmt='%s  '*4)"
   ]
  },
  {
   "cell_type": "code",
   "execution_count": 87,
   "metadata": {
    "collapsed": false
   },
   "outputs": [
    {
     "data": {
      "text/plain": [
       "0.0"
      ]
     },
     "execution_count": 87,
     "metadata": {},
     "output_type": "execute_result"
    }
   ],
   "source": [
    "# Just a check : that the order in qso_names from a file is indeed the same as the catalog...\n",
    "cat_gmags_qso = [qso_cat['g'][qso_cat['CRTS_id'] == name][0].astype(float)  for name in good_ids_QSO]\n",
    "# Just to make sure  : all the mags extracted in the new way are exactly the same \n",
    "np.sum(np.array(cat_gmags_qso) - np.array(qso_mags).astype(float))"
   ]
  },
  {
   "cell_type": "code",
   "execution_count": null,
   "metadata": {
    "collapsed": true
   },
   "outputs": [],
   "source": [
    "3) Use SDSS r-mag, read 18-18.5 files only"
   ]
  },
  {
   "cell_type": "code",
   "execution_count": 88,
   "metadata": {
    "collapsed": false
   },
   "outputs": [
    {
     "name": "stdout",
     "output_type": "stream",
     "text": [
      "\n",
      "Using now only lightcurves with SDSS  18.000000< r < 18.500000\n",
      "\n",
      " Reporting SDSS r  \n",
      "\n",
      " These cuts reduced the number of stars  in the sample from 47787  to  1400\n",
      "\n",
      " These cuts reduced the number of stars  in the sample from 47787  to  2087\n",
      "\n",
      " These cuts reduced the number of qso  in the sample from 7601  to  333\n"
     ]
    }
   ],
   "source": [
    "Min = 18\n",
    "Max = 18.5 \n",
    "cut_mag = 'r'\n",
    "report_mag = 'r'\n",
    "\n",
    "print('\\nUsing now only lightcurves with SDSS  %f< %s < %f' % (Min, cut_mag, Max))\n",
    "print('\\n Reporting SDSS %s  '% report_mag)\n",
    "\n",
    "\n",
    "good_ids_S_blue, S_blue_mags  = cut_stars(mMin = Min, mMax=Max, mErrMax = 0.3, gi_Min = -1, gi_Max=1, \n",
    "                                          cut_mag=cut_mag + '_mMed', report_mag=report_mag + '_mMed')\n",
    "good_ids_S_red, S_red_mags = cut_stars(mMin = Min, mMax=Max, mErrMax = 0.3, gi_Min = 1, gi_Max=3,\n",
    "                                        cut_mag=cut_mag + '_mMed', report_mag=report_mag + '_mMed')\n",
    "good_ids_QSO, mask_qso, qso_mags = cut_qso(mMin = Min, mMax=Max, mErrMax = 0.3, cut_mag=cut_mag,report_mag=report_mag)\n",
    "\n",
    "# Grab CRTS_avg_err, CRTS_avg_mag\n",
    "\n",
    "cat_starB_CRTS_Merr = [star_cat['CRTS_Merr'][star_cat['crts_id']==star][0] for star in good_ids_S_blue.astype(float)]\n",
    "cat_starB_CRTS_M = [star_cat['CRTS_M'][star_cat['crts_id']==star][0] for star in good_ids_S_blue.astype(float)]\n",
    "\n",
    "cat_starR_CRTS_Merr = [star_cat['CRTS_Merr'][star_cat['crts_id']==star][0] for star in good_ids_S_red.astype(float)]\n",
    "cat_starR_CRTS_M = [star_cat['CRTS_M'][star_cat['crts_id']==star][0] for star in good_ids_S_red.astype(float)]\n",
    "\n",
    "cat_qso_CRTS_Merr = [qso_cat['CRTS_avg_e'][qso_cat['CRTS_id']==qso][0].astype(float) for qso in good_ids_QSO]\n",
    "cat_qso_CRTS_M = [qso_cat['CRTS_avg_m'][qso_cat['CRTS_id']==qso][0].astype(float) for qso in good_ids_QSO]\n"
   ]
  },
  {
   "cell_type": "markdown",
   "metadata": {},
   "source": [
    "\n",
    "4) Save names of stars, qso\n",
    "- pattern for name, SDSS_mag, CRTS_avg_err, CRTS_avg_mag\n",
    "18-18.5_r-sel_starsB_name_SDSS-mag_CRTS-avg-err_CRTS-avg-mag\n",
    "18-18.5_r-sel_starsR_name_SDSS-mag_CRTS-avg-err_CRTS-avg-mag\n",
    "18-18.5_r-sel_QSO_name_SDSS-mag_CRTS-avg-err_CRTS-avg-mag"
   ]
  },
  {
   "cell_type": "code",
   "execution_count": 89,
   "metadata": {
    "collapsed": false
   },
   "outputs": [
    {
     "name": "stdout",
     "output_type": "stream",
     "text": [
      "18-18.5_rstarsB_name_SDSS-mag_CRTS-avg-err_CRTS-avg-mag.txt\n",
      "18-18.5_rstarsR_name_SDSS-mag_CRTS-avg-err_CRTS-avg-mag.txt\n",
      "18-18.5_rqso_name_SDSS-mag_CRTS-avg-err_CRTS-avg-mag.txt\n"
     ]
    }
   ],
   "source": [
    "data = np.column_stack((good_ids_S_blue,S_blue_mags, cat_starB_CRTS_Merr, cat_starB_CRTS_M ))\n",
    "fname=str(Min)+'-'+str(Max)+'_'+cut_mag+'starsB_name_SDSS-mag_CRTS-avg-err_CRTS-avg-mag.txt'\n",
    "print fname\n",
    "np.savetxt(fname, data, fmt='%s  '*4)\n",
    "\n",
    "data = np.column_stack((good_ids_S_red,S_red_mags, cat_starR_CRTS_Merr, cat_starR_CRTS_M ))\n",
    "fname=str(Min)+'-'+str(Max)+'_'+cut_mag+'starsR_name_SDSS-mag_CRTS-avg-err_CRTS-avg-mag.txt'\n",
    "print fname\n",
    "np.savetxt(fname, data, fmt='%s  '*4)\n",
    "\n",
    "data = np.column_stack((good_ids_QSO,qso_mags, cat_qso_CRTS_Merr, cat_qso_CRTS_M ))\n",
    "fname=str(Min)+'-'+str(Max)+'_'+cut_mag+'qso_name_SDSS-mag_CRTS-avg-err_CRTS-avg-mag.txt'\n",
    "print fname\n",
    "np.savetxt(fname, data, fmt='%s  '*4)"
   ]
  },
  {
   "cell_type": "markdown",
   "metadata": {},
   "source": [
    "5) Make three bins : \n",
    "- stars_B that are in both g and r , those only in g, and those only in  r   (similarly for stars_R, QSO)\n"
   ]
  },
  {
   "cell_type": "code",
   "execution_count": 123,
   "metadata": {
    "collapsed": false
   },
   "outputs": [
    {
     "name": "stdout",
     "output_type": "stream",
     "text": [
      "Reading 18-18.5_gstarsB_name_SDSS-mag_CRTS-avg-err_CRTS-avg-mag.txt\n",
      "Reading 18-18.5_gstarsR_name_SDSS-mag_CRTS-avg-err_CRTS-avg-mag.txt\n",
      "Reading 18-18.5_gqso_name_SDSS-mag_CRTS-avg-err_CRTS-avg-mag.txt\n",
      "Reading 18-18.5_rstarsB_name_SDSS-mag_CRTS-avg-err_CRTS-avg-mag.txt\n",
      "Reading 18-18.5_rstarsR_name_SDSS-mag_CRTS-avg-err_CRTS-avg-mag.txt\n",
      "Reading 18-18.5_rqso_name_SDSS-mag_CRTS-avg-err_CRTS-avg-mag.txt\n"
     ]
    }
   ],
   "source": [
    "objects = ['starsB', 'starsR', 'qso']\n",
    "filters= ['g','r']\n",
    "props = {} #: a dict of dicts, where I store all values for all stars \n",
    "\n",
    "g_ids_dic={}\n",
    "for obj in objects:\n",
    "    cut_mag = filters[0]\n",
    "    fname=str(Min)+'-'+str(Max)+'_'+cut_mag+ obj+'_name_SDSS-mag_CRTS-avg-err_CRTS-avg-mag.txt'\n",
    "    print 'Reading', fname\n",
    "    data = np.genfromtxt(fname, dtype=str)\n",
    "    ids = data[:,0]\n",
    "    g_ids_dic[obj] = ids\n",
    "    \n",
    "    props[obj] = {'name':ids, 'CRTS_avg_err':data[:,2], 'CRTS_avg_mag':data[:,3]}\n",
    "    \n",
    "r_ids_dic={}\n",
    "for obj in objects:\n",
    "    cut_mag = filters[1]\n",
    "    fname=str(Min)+'-'+str(Max)+'_'+cut_mag+ obj+'_name_SDSS-mag_CRTS-avg-err_CRTS-avg-mag.txt'\n",
    "    print 'Reading', fname\n",
    "    data = np.genfromtxt(fname, dtype=str)\n",
    "    ids = data[:,0]\n",
    "    r_ids_dic[obj] = ids\n",
    "    \n",
    "    props[obj]['CRTS_avg_err'] = np.append(props[obj]['CRTS_avg_err'], data[:,2])\n",
    "    props[obj]['CRTS_avg_mag'] = np.append(props[obj]['CRTS_avg_mag'], data[:,3])\n",
    "    props[obj]['name'] = np.append(props[obj]['name'], ids)"
   ]
  },
  {
   "cell_type": "code",
   "execution_count": 119,
   "metadata": {
    "collapsed": false
   },
   "outputs": [
    {
     "data": {
      "text/plain": [
       "2863"
      ]
     },
     "execution_count": 119,
     "metadata": {},
     "output_type": "execute_result"
    }
   ],
   "source": [
    "len(props['starsB']['CRTS_avg_err'])"
   ]
  },
  {
   "cell_type": "code",
   "execution_count": 178,
   "metadata": {
    "collapsed": false
   },
   "outputs": [
    {
     "data": {
      "image/png": "[encoded data removed]",
      "text/plain": [
       "<matplotlib.figure.Figure at 0x7fce45500bd0>"
      ]
     },
     "metadata": {},
     "output_type": "display_data"
    }
   ],
   "source": [
    "# This shows the number of objects in each category \n",
    "f, ax = plt.subplots(2,2, figsize=(8,8))\n",
    "a = ax.ravel()\n",
    "for i in range(len(objects)):\n",
    "    a[i].set_title(objects[i])\n",
    "    venn2([set(g_ids_dic[objects[i]]),set(r_ids_dic[objects[i]])], ('g', 'r'), ax=a[i] )\n"
   ]
  },
  {
   "cell_type": "code",
   "execution_count": 96,
   "metadata": {
    "collapsed": false
   },
   "outputs": [],
   "source": [
    "g_bin={}\n",
    "r_bin = {}\n",
    "gr_bin = {}\n",
    "\n",
    "properties = {}\n",
    "for obj in objects:\n",
    "    g_bin[obj] = np.setdiff1d(g_ids_dic[obj],r_ids_dic[obj])\n",
    "    r_bin[obj] = np.setdiff1d(r_ids_dic[obj],g_ids_dic[obj])\n",
    "    gr_bin[obj] = np.intersect1d(g_ids_dic[obj], r_ids_dic[obj])\n",
    "    \n",
    "    "
   ]
  },
  {
   "cell_type": "code",
   "execution_count": 103,
   "metadata": {
    "collapsed": false
   },
   "outputs": [
    {
     "name": "stdout",
     "output_type": "stream",
     "text": [
      "\n",
      "For  starsB\n",
      "g  1463  r  1400\n",
      "g only 1326 r only 1263  g and r  137\n",
      "\n",
      "For  starsR\n",
      "g  1136  r  2087\n",
      "g only 1136 r only 2087  g and r  0\n",
      "\n",
      "For  qso\n",
      "g  239  r  333\n",
      "g only 72 r only 166  g and r  167\n"
     ]
    }
   ],
   "source": [
    "for obj in objects : \n",
    "    print '\\nFor ', obj\n",
    "    print 'g ', len(g_ids_dic[obj]),  ' r ', len(r_ids_dic[obj])\n",
    "    print 'g only', len(g_bin[obj]), 'r only', len(r_bin[obj]), ' g and r ', len(gr_bin[obj])"
   ]
  },
  {
   "cell_type": "code",
   "execution_count": 109,
   "metadata": {
    "collapsed": false
   },
   "outputs": [
    {
     "data": {
      "text/plain": [
       "0"
      ]
     },
     "execution_count": 109,
     "metadata": {},
     "output_type": "execute_result"
    }
   ],
   "source": [
    "# Indeed there is nothing in common for r stars selected by g vs r filter! \n",
    "np.sum(np.in1d(r_ids_dic['starsR'], g_ids_dic['starsR']))"
   ]
  },
  {
   "cell_type": "markdown",
   "metadata": {},
   "source": [
    "\n",
    "\n",
    "--> for each bin, calculate the median of the CRTS_avg_err, CRTS_avg_mag"
   ]
  },
  {
   "cell_type": "code",
   "execution_count": 143,
   "metadata": {
    "collapsed": false
   },
   "outputs": [
    {
     "data": {
      "text/plain": [
       "['qso', 'starsB', 'starsR']"
      ]
     },
     "execution_count": 143,
     "metadata": {},
     "output_type": "execute_result"
    }
   ],
   "source": [
    "props.keys()"
   ]
  },
  {
   "cell_type": "code",
   "execution_count": 155,
   "metadata": {
    "collapsed": false
   },
   "outputs": [
    {
     "data": {
      "text/plain": [
       "'0.039058490566'"
      ]
     },
     "execution_count": 155,
     "metadata": {},
     "output_type": "execute_result"
    }
   ],
   "source": [
    "qso = bin_list[0]['qso'][0]\n",
    "props['qso']['CRTS_avg_err'][props['qso']['name'] == qso][0]\n"
   ]
  },
  {
   "cell_type": "code",
   "execution_count": 168,
   "metadata": {
    "collapsed": false
   },
   "outputs": [],
   "source": [
    "bin_prop = {}\n",
    "bin_list = [r_bin, g_bin, gr_bin]\n",
    "\n",
    "bins = ['r','g','gr']\n",
    "for i in range(len(bins)):\n",
    "    bin_prop[bins[i]]={}\n",
    "    for obj in objects:\n",
    "        bin_prop[bins[i]][obj] = {}\n",
    "\n",
    "        a = [props[obj]['CRTS_avg_err'][props[obj]['name'] == star][0] for star in bin_list[i][obj]]\n",
    "        b = [props[obj]['CRTS_avg_mag'][props[obj]['name'] == star][0] for star in bin_list[i][obj]]\n",
    "        bin_prop[bins[i]][obj]['median_CRTS_avg_err'] = np.median(np.array(a).astype(float))\n",
    "        bin_prop[bins[i]][obj]['median_CRTS_avg_mag'] = np.median(np.array(b).astype(float))\n"
   ]
  },
  {
   "cell_type": "code",
   "execution_count": 171,
   "metadata": {
    "collapsed": false
   },
   "outputs": [
    {
     "data": {
      "text/plain": [
       "['r', 'gr', 'g']"
      ]
     },
     "execution_count": 171,
     "metadata": {},
     "output_type": "execute_result"
    }
   ],
   "source": [
    "bin_prop.keys()"
   ]
  },
  {
   "cell_type": "code",
   "execution_count": 172,
   "metadata": {
    "collapsed": false
   },
   "outputs": [
    {
     "data": {
      "text/plain": [
       "{'qso': {'median_CRTS_avg_err': 0.066213742690050009,\n",
       "  'median_CRTS_avg_mag': 18.2913607789},\n",
       " 'starsB': {'median_CRTS_avg_err': 0.065170000000000006,\n",
       "  'median_CRTS_avg_mag': 18.181750000000001},\n",
       " 'starsR': {'median_CRTS_avg_err': 0.06096, 'median_CRTS_avg_mag': 18.04111}}"
      ]
     },
     "execution_count": 172,
     "metadata": {},
     "output_type": "execute_result"
    }
   ],
   "source": [
    "bin_prop['r']"
   ]
  },
  {
   "cell_type": "raw",
   "metadata": {},
   "source": [
    "\n",
    "         binr    bing    bingr   \n",
    "starR\n",
    "starB    median_CRTS_mag\n",
    "QSO\n",
    "\n",
    "\n",
    "         binr    bing    bingr   \n",
    "starR\n",
    "starB    median_CRTS_avg_err\n",
    "QSO"
   ]
  },
  {
   "cell_type": "markdown",
   "metadata": {},
   "source": [
    "6) Read in xi, ei for stars_B in each bin  (similar for Stars_R and QSO), select log(tau)<1.7 , save as files per bin:\n"
   ]
  },
  {
   "cell_type": "code",
   "execution_count": 180,
   "metadata": {
    "collapsed": true
   },
   "outputs": [],
   "source": [
    "inDirStars   = 'sf_file_per_LC/star/'\n",
    "inDirQSO = 'sf_file_per_LC/qso/'\n",
    "\n",
    "# r_bin  \n",
    "good_ids_S_blue = bin_list[0]['starsB']\n",
    "good_ids_S_red = bin_list[0]['starsR']\n",
    "good_ids_QSO = bin_list[0]['qso']"
   ]
  },
  {
   "cell_type": "code",
   "execution_count": 181,
   "metadata": {
    "collapsed": false
   },
   "outputs": [
    {
     "name": "stdout",
     "output_type": "stream",
     "text": [
      "making new delflx, tau, xi arrays\n",
      "\n",
      "\n",
      "----- Already read 99% of qso \n",
      "\n",
      "----- Already read 759% of Blue Stars \n",
      "\n",
      "----- Already read 1256% of Red Stars returning xi, ei for ... 166 objects\n"
     ]
    }
   ],
   "source": [
    "qso, starB, starR = read_xi_ei(inDirStars, good_ids_S_blue, good_ids_S_red, inDirQSO,\n",
    "              good_ids_QSO,xi_ei_data=None, fc=None)\n",
    "          \n",
    "# put into a list to loop over... \n",
    "out = [ starB, starR, qso]"
   ]
  },
  {
   "cell_type": "markdown",
   "metadata": {},
   "source": [
    "Select log(t) < 1.7 "
   ]
  },
  {
   "cell_type": "code",
   "execution_count": 185,
   "metadata": {
    "collapsed": false
   },
   "outputs": [],
   "source": [
    "out = [ starB, starR, qso]"
   ]
  },
  {
   "cell_type": "code",
   "execution_count": 186,
   "metadata": {
    "collapsed": false
   },
   "outputs": [
    {
     "name": "stdout",
     "output_type": "stream",
     "text": [
      "\n",
      "For  starsB\n",
      "\n",
      "We are selecting a sample for 0.0 <log10(tau)< 1.7\n",
      "The median error before any selection is  0.0894427191\n",
      "Before any cut we have  1263 objects\n"
     ]
    },
    {
     "ename": "NameError",
     "evalue": "name 'hist_min' is not defined",
     "output_type": "error",
     "traceback": [
      "\u001b[1;31m---------------------------------------------------------------------------\u001b[0m",
      "\u001b[1;31mNameError\u001b[0m                                 Traceback (most recent call last)",
      "\u001b[1;32m<ipython-input-186-a4c516056868>\u001b[0m in \u001b[0;36m<module>\u001b[1;34m()\u001b[0m\n\u001b[0;32m     17\u001b[0m     \u001b[1;32mprint\u001b[0m\u001b[1;33m(\u001b[0m\u001b[1;34m'Before any cut we have  %d objects'\u001b[0m\u001b[1;33m%\u001b[0m \u001b[0mlen\u001b[0m\u001b[1;33m(\u001b[0m\u001b[0mnp\u001b[0m\u001b[1;33m.\u001b[0m\u001b[0munique\u001b[0m\u001b[1;33m(\u001b[0m\u001b[0mn\u001b[0m\u001b[1;33m)\u001b[0m\u001b[1;33m)\u001b[0m\u001b[1;33m)\u001b[0m\u001b[1;33m\u001b[0m\u001b[0m\n\u001b[0;32m     18\u001b[0m     \u001b[1;31m# make selection\u001b[0m\u001b[1;33m\u001b[0m\u001b[1;33m\u001b[0m\u001b[0m\n\u001b[1;32m---> 19\u001b[1;33m     \u001b[0mxmin\u001b[0m \u001b[1;33m=\u001b[0m \u001b[0mhist_min\u001b[0m\u001b[1;33m[\u001b[0m\u001b[0mi\u001b[0m\u001b[1;33m]\u001b[0m\u001b[1;33m\u001b[0m\u001b[0m\n\u001b[0m\u001b[0;32m     20\u001b[0m     \u001b[0mxmax\u001b[0m \u001b[1;33m=\u001b[0m \u001b[0mhist_max\u001b[0m\u001b[1;33m[\u001b[0m\u001b[0mi\u001b[0m\u001b[1;33m]\u001b[0m\u001b[1;33m\u001b[0m\u001b[0m\n\u001b[0;32m     21\u001b[0m \u001b[1;33m\u001b[0m\u001b[0m\n",
      "\u001b[1;31mNameError\u001b[0m: name 'hist_min' is not defined"
     ]
    }
   ],
   "source": [
    "\n",
    "\n",
    "for i in range(len(out)): # loop over qso, StarB, StarR \n",
    "    print '\\nFor ', objects[i]\n",
    "    \n",
    "    tau_min = 0\n",
    "    tau_max = 1.7\n",
    "    print('\\nWe are selecting a sample for %.1f <log10(tau)< %.1f'%(tau_min, tau_max))    \n",
    "\n",
    "    # take vectors from the given object type\n",
    "    xi  = out[i][0]\n",
    "    tau = out[i][1]\n",
    "    ei  = out[i][2]\n",
    "    n   = out[i][3]\n",
    "\n",
    "    print 'The median error before any selection is ', np.median(ei)\n",
    "    print('Before any cut we have  %d objects'% len(np.unique(n))) \n",
    "    # make selection\n",
    "    xmin = hist_min[i]\n",
    "    xmax = hist_max[i]\n",
    "\n",
    "    mask_delflx = (xi > xmin) * (xi < xmax)  \n",
    "\n",
    "    mask_tau =  (np.log10(tau) > tau_min) * (np.log10(tau)<tau_max)\n",
    "\n",
    "    print('After log(tau) cut we have %d objects'% len(np.unique(n[mask_tau])))        \n",
    "\n",
    "    mask = mask_tau * mask_delflx\n",
    "\n",
    "    print 'The median error after tau an outliers selection is ', np.median(ei[mask])        \n",
    "    print('After log(tau) cut and cutting outliers we have %d objects'% len(np.unique(n[mask])))\n",
    "    # grab names to get magnitudes \n",
    "    names_sample_uniq = np.unique(n[mask])\n",
    "\n",
    "    # grab r mags corresponding to names \n",
    "    mask_mags = np.in1d(ids[i], names_sample_uniq)\n",
    "    mags_sample = rep_mags[i][mask_mags]\n",
    "\n",
    "    keys = names_sample_uniq   #  unique names in the sample\n",
    "    values = mags_sample     # and corresponding rmags \n",
    "\n",
    "    d = dict(zip(keys,values))\n",
    "\n",
    "    # make an array of rmags corresponding to the original names \n",
    "    # using the dictionary : we know what mag corresponds to \n",
    "    # which object name, just need to make a new array, \n",
    "    # based on the full list of names \n",
    "\n",
    "    # map mags onto names \n",
    "    mags = [d[key] for key in n[mask]]\n",
    "\n",
    "    # save the sample ... \n",
    "\n",
    "    data = np.column_stack((xi[mask], ei[mask], tau[mask], n[mask], mags))\n",
    "    dir = '/astro/store/scratch/tmp/suberlak/SF_Samples/r_bin_test/'\n",
    "    fname = 'Sample_'+obj_type[i]+'_tau_'+str(tau_min)+'-'+str(tau_max)+'_'+ \\\n",
    "        str(len(mags))+'_lines_'+str(len(names_sample_uniq))+'_objects.txt'\n",
    "    print 'In directory', dir\n",
    "    if not os.path.exists(dir): #make the dir if it does not exist \n",
    "        os.makedirs(dir)\n",
    "    print 'Saving the Sample as ', fname    \n",
    "    np.savetxt(dir+fname, data, delimiter=' ', fmt = '%s')"
   ]
  },
  {
   "cell_type": "markdown",
   "metadata": {},
   "source": [
    "\n",
    "\n",
    "\n",
    "\n",
    "\n",
    "\n",
    "\n",
    "18-18.5_bin_g_starsB_logt_1.7_xi_ei_name\n",
    "18-18.5_bin_r_starsB_logt_1.7_xi_ei_name\n",
    "18-18.5_bin_gr_starsB_logt_1.7_xi_ei_name\n",
    "\n",
    "18-18.5_bin_g_starsR_logt_1.7_xi_ei_name\n",
    "18-18.5_bin_r_starsR_logt_1.7_xi_ei_name\n",
    "18-18.5_bin_gr_starsR_logt_1.7_xi_ei_name\n",
    "\n",
    "18-18.5_bin_g_QSO_logt_1.7_xi_ei_name\n",
    "18-18.5_bin_r_QSO_logt_1.7_xi_ei_name\n",
    "18-18.5_bin_gr_QSO_logt_1.7_xi_ei_name\n",
    "\n",
    "7) Calculate median ei per bin \n",
    "\n",
    "         binr    bing    bingr   \n",
    "starR\n",
    "starB    median_CRTS_err\n",
    "QSO\n",
    "\n"
   ]
  },
  {
   "cell_type": "code",
   "execution_count": null,
   "metadata": {
    "collapsed": true
   },
   "outputs": [],
   "source": []
  },
  {
   "cell_type": "code",
   "execution_count": 1,
   "metadata": {
    "collapsed": true
   },
   "outputs": [],
   "source": [
    "import numpy as np"
   ]
  },
  {
   "cell_type": "code",
   "execution_count": 5,
   "metadata": {
    "collapsed": false
   },
   "outputs": [],
   "source": [
    "a=np.array([1,2,3])\n",
    "b = np.array([2,3,4])"
   ]
  },
  {
   "cell_type": "code",
   "execution_count": 6,
   "metadata": {
    "collapsed": false
   },
   "outputs": [
    {
     "data": {
      "text/plain": [
       "array([2, 3])"
      ]
     },
     "execution_count": 6,
     "metadata": {},
     "output_type": "execute_result"
    }
   ],
   "source": [
    "intersection = np.intersect1d(a,b)\n",
    "intersection"
   ]
  },
  {
   "cell_type": "code",
   "execution_count": 7,
   "metadata": {
    "collapsed": false
   },
   "outputs": [
    {
     "data": {
      "text/plain": [
       "array([1])"
      ]
     },
     "execution_count": 7,
     "metadata": {},
     "output_type": "execute_result"
    }
   ],
   "source": [
    "left = np.setdiff1d(a,b)\n",
    "left"
   ]
  },
  {
   "cell_type": "code",
   "execution_count": 9,
   "metadata": {
    "collapsed": false
   },
   "outputs": [
    {
     "data": {
      "text/plain": [
       "array([4])"
      ]
     },
     "execution_count": 9,
     "metadata": {},
     "output_type": "execute_result"
    }
   ],
   "source": [
    "right = np.setdiff1d(b,a)\n",
    "right\n"
   ]
  },
  {
   "cell_type": "code",
   "execution_count": 12,
   "metadata": {
    "collapsed": false
   },
   "outputs": [],
   "source": [
    "import matplotlib.pyplot as plt \n",
    "from matplotlib_venn import venn2"
   ]
  },
  {
   "cell_type": "code",
   "execution_count": 14,
   "metadata": {
    "collapsed": false
   },
   "outputs": [
    {
     "data": {
      "text/plain": [
       "<matplotlib_venn._common.VennDiagram instance at 0x7fce45a76bd8>"
      ]
     },
     "execution_count": 14,
     "metadata": {},
     "output_type": "execute_result"
    },
    {
     "data": {
      "image/png": "[encoded data removed]",
      "text/plain": [
       "<matplotlib.figure.Figure at 0x7fce45be3b50>"
      ]
     },
     "metadata": {},
     "output_type": "display_data"
    }
   ],
   "source": [
    "%matplotlib inline\n",
    "venn2(subsets=(3,2,1))"
   ]
  },
  {
   "cell_type": "code",
   "execution_count": 16,
   "metadata": {
    "collapsed": false
   },
   "outputs": [
    {
     "data": {
      "text/plain": [
       "<matplotlib_venn._common.VennDiagram instance at 0x7fce4599def0>"
      ]
     },
     "execution_count": 16,
     "metadata": {},
     "output_type": "execute_result"
    },
    {
     "data": {
      "image/png": "[encoded data removed]",
      "text/plain": [
       "<matplotlib.figure.Figure at 0x7fce45b510d0>"
      ]
     },
     "metadata": {},
     "output_type": "display_data"
    }
   ],
   "source": [
    "\n"
   ]
  },
  {
   "cell_type": "code",
   "execution_count": 182,
   "metadata": {
    "collapsed": true
   },
   "outputs": [],
   "source": [
    "# inside the main loop : get tau, delflx from a master file, either qso or star\n",
    "def add_tau_delflx(File, inDir, data, fc):\n",
    "    # read in storage arrays\n",
    "    delflx = data[0]  \n",
    "    tau = data[1]\n",
    "    err = data[2]\n",
    "    master_acc_list = data[3]   \n",
    "    \n",
    "    # grab the object name \n",
    "    master_name = File[3:-4]\n",
    "    \n",
    "    # read in the i-th master file \n",
    "    master =  np.genfromtxt(inDir+File, dtype=str)\n",
    "    \n",
    "    # read in tau,  del_mag,  del_mag_err for quasars on the list \n",
    "    delflx = np.append(delflx, master[:,0].astype(float))\n",
    "    tau = np.append(tau, master[:,1].astype(float))\n",
    "    \n",
    "    if fc is not None :  # correct new master rows only if  asked for \n",
    "        err = np.append(err, master[:,2].astype(float)*fc)\n",
    "    else:                # otherwise read in without any correction\n",
    "        err = np.append(err, master[:,2].astype(float))\n",
    "    master_names  = np.append(master_acc_list, np.array(len(master[:,0])*[master_name]))\n",
    "    \n",
    "    return delflx, tau, err, master_names\n",
    "    \n",
    "def read_xi_ei(inDirStars, good_ids_S_blue, good_ids_S_red, inDirQSO,\n",
    "                 good_ids_QSO, xi_ei_data=None, fc=None):\n",
    "                     \n",
    "    inDir_S       = inDirStars\n",
    "    good_ids_S_blue    = good_ids_S_blue\n",
    "    good_ids_S_red    = good_ids_S_red\n",
    "    inDir_Q       = inDirQSO\n",
    "      \n",
    "    \n",
    "    # Read the Stellar Master file names \n",
    "    masterFiles_S = os.listdir(inDir_S)\n",
    "    masterFilesS1 = [name[3:-4] for name in masterFiles_S]\n",
    "    \n",
    "    good_masterSB = np.array(masterFiles_S)[np.in1d(masterFilesS1, good_ids_S_blue)]\n",
    "    good_masterSR = np.array(masterFiles_S)[np.in1d(masterFilesS1, good_ids_S_red)]\n",
    "    \n",
    "    # Read the QSO Master file names \n",
    "    masterFiles_Q = os.listdir(inDir_Q)\n",
    "    masterFilesQ1 = [name[3:-4] for name in masterFiles_Q]\n",
    "    good_masterQ = np.array(masterFiles_Q)[np.in1d(masterFilesQ1, good_ids_QSO)]\n",
    "    \n",
    "\n",
    "  \n",
    "    # If no previous read-in xi, ei exists, initialize arrays    \n",
    "    if xi_ei_data is None : \n",
    "        print 'making new delflx, tau, xi arrays'\n",
    "        delflx_S      = np.empty(0,dtype=float)\n",
    "        tau_S         = np.empty(0,dtype=float)\n",
    "        err_S         = np.empty(0,dtype=float)\n",
    "        master_acc_list_S = np.empty(0, dtype=str)\n",
    "    \n",
    "        \n",
    "       \n",
    "        delflx_Q      = np.empty(0,dtype=float)\n",
    "        tau_Q         = np.empty(0,dtype=float)\n",
    "        err_Q         = np.empty(0,dtype=float)\n",
    "        master_acc_list_Q = np.empty(0, dtype=str)\n",
    "        \n",
    "        # Initialize the data structures to which more and more delta_t and delta_mag\n",
    "        # are addded from each consecutive master file \n",
    "        qso_data = [delflx_Q, tau_Q, err_Q, master_acc_list_Q] \n",
    "        star_data_blue = [delflx_S, tau_S, err_S, master_acc_list_S]\n",
    "        star_data_red  = [delflx_S, tau_S, err_S, master_acc_list_S]\n",
    "        \n",
    "    else:\n",
    "        print 'using existing xi ei arrays'\n",
    "        qso_data = xi_ei_data[0]\n",
    "        star_data_blue = xi_ei_data[1]\n",
    "        star_data_red = xi_ei_data[2]\n",
    "        \n",
    "    print('\\n')\n",
    "    c = 0\n",
    "    for File in good_masterQ: #  len(masterFiles_Q)\n",
    "        #print 'Reading in ', File\n",
    "        \n",
    "        qso_data = add_tau_delflx(File,inDir_Q, qso_data, fc)\n",
    "        c += 1 \n",
    "        if c % 5 == 0:\n",
    "            pers = (100.0*c) / float(len(good_masterQ))\n",
    "            print('\\r----- Already read %d%% of qso'%pers),\n",
    "    \n",
    "    print('\\n')\n",
    "    c = 0                   \n",
    "    for File in good_masterSB:    # [:len(good_masterQ)]\n",
    "        #print 'Reading in ', File\n",
    "        star_data_blue = add_tau_delflx(File, inDir_S,star_data_blue, fc)\n",
    "        c += 1 \n",
    "        if c % 5 == 0:\n",
    "            pers = (100.0*c) / float(len(good_masterSB))\n",
    "            print('\\r----- Already read %d%% of Blue Stars'%pers),  \n",
    "    print('\\n')\n",
    "    c = 0                         \n",
    "    for File in good_masterSR:   # [:len(good_masterQ)]\n",
    "        #print 'Reading in ', File\n",
    "        star_data_red = add_tau_delflx(File, inDir_S, star_data_red, fc)      \n",
    "        c += 1               \n",
    "        if c % 5 == 0:\n",
    "            pers = (100.0*c) / float(len(good_masterSR))\n",
    "            print('\\r----- Already read %d%% of Red Stars'%pers),          \n",
    "                     \n",
    "    print('returning xi, ei for ... %d objects'%len(good_masterQ))\n",
    "                            \n",
    "    return  qso_data, star_data_blue, star_data_red"
   ]
  },
  {
   "cell_type": "code",
   "execution_count": null,
   "metadata": {
    "collapsed": true
   },
   "outputs": [],
   "source": []
  }
 ],
 "metadata": {
  "kernelspec": {
   "display_name": "Python 2",
   "language": "python",
   "name": "python2"
  },
  "language_info": {
   "codemirror_mode": {
    "name": "ipython",
    "version": 2
   },
   "file_extension": ".py",
   "mimetype": "text/x-python",
   "name": "python",
   "nbconvert_exporter": "python",
   "pygments_lexer": "ipython2",
   "version": "2.7.10"
  }
 },
 "nbformat": 4,
 "nbformat_minor": 0
}
