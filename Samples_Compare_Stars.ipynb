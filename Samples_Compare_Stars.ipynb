{
 "cells": [
  {
   "cell_type": "code",
   "execution_count": 4,
   "metadata": {
    "collapsed": false
   },
   "outputs": [],
   "source": [
    "#cd SF_plotting/\n",
    "\n",
    "import numpy as np\n",
    "import matplotlib.pyplot as plt\n",
    "\n",
    "data = np.genfromtxt('Sample_4_Stars_blue_314248_lines.txt')\n",
    "\n",
    "xi = data[:,0]\n",
    "ei = data[:,1]\n",
    "n = data[:,2]\n",
    "rmag = data[:,3]\n",
    "\n",
    "data1 = np.genfromtxt('Sample_starB_tau_0-1.7_204242_lines_1270_objects.txt')\n",
    "\n",
    "xi1 = data1[:,0]\n",
    "ei1= data1[:,1]\n",
    "tau = data1[:,2]\n",
    "n1 = data1[:,3]\n",
    "rmag1 = data1[:,4]\n"
   ]
  },
  {
   "cell_type": "markdown",
   "metadata": {},
   "source": [
    "How many of the new sample ( 17 - 19  ) stars was in the old sample ( 0- 20 ) ? "
   ]
  },
  {
   "cell_type": "code",
   "execution_count": 5,
   "metadata": {
    "collapsed": false
   },
   "outputs": [
    {
     "data": {
      "text/plain": [
       "29843"
      ]
     },
     "execution_count": 5,
     "metadata": {},
     "output_type": "execute_result"
    }
   ],
   "source": [
    "np.sum(np.in1d(n1,n))"
   ]
  },
  {
   "cell_type": "code",
   "execution_count": 6,
   "metadata": {
    "collapsed": false
   },
   "outputs": [
    {
     "data": {
      "text/plain": [
       "204242"
      ]
     },
     "execution_count": 6,
     "metadata": {},
     "output_type": "execute_result"
    }
   ],
   "source": [
    "len(n1)"
   ]
  },
  {
   "cell_type": "code",
   "execution_count": 7,
   "metadata": {
    "collapsed": false
   },
   "outputs": [
    {
     "data": {
      "text/plain": [
       "314248"
      ]
     },
     "execution_count": 7,
     "metadata": {},
     "output_type": "execute_result"
    }
   ],
   "source": [
    "len(n)"
   ]
  },
  {
   "cell_type": "markdown",
   "metadata": {},
   "source": [
    "So the overlap is about 10%....  Check whether the same points are present for those stars which were selected ? "
   ]
  },
  {
   "cell_type": "code",
   "execution_count": 11,
   "metadata": {
    "collapsed": false
   },
   "outputs": [],
   "source": [
    "star = n1[np.in1d(n1,n)][0]"
   ]
  },
  {
   "cell_type": "code",
   "execution_count": 14,
   "metadata": {
    "collapsed": true
   },
   "outputs": [],
   "source": [
    "# Make filters to pick out the right lines\n",
    "m = n == star\n",
    "m1 = n1 == star"
   ]
  },
  {
   "cell_type": "code",
   "execution_count": 18,
   "metadata": {
    "collapsed": false
   },
   "outputs": [
    {
     "data": {
      "text/plain": [
       "(array([  3.,   1.,   8.,  30.,  48.,  55.,  19.,   4.,   7.,   5.]),\n",
       " array([-0.5573 , -0.44057, -0.32384, -0.20711, -0.09038,  0.02635,\n",
       "         0.14308,  0.25981,  0.37654,  0.49327,  0.61   ]),\n",
       " <a list of 10 Patch objects>)"
      ]
     },
     "execution_count": 18,
     "metadata": {},
     "output_type": "execute_result"
    },
    {
     "data": {
      "image/png": "[encoded data removed]",
      "text/plain": [
       "<matplotlib.figure.Figure at 0x7ff00d972f50>"
      ]
     },
     "metadata": {},
     "output_type": "display_data"
    }
   ],
   "source": [
    "%matplotlib inline \n",
    "plt.hist(xi[m])"
   ]
  },
  {
   "cell_type": "code",
   "execution_count": 19,
   "metadata": {
    "collapsed": false
   },
   "outputs": [
    {
     "data": {
      "text/plain": [
       "(array([  3.,   1.,   8.,  30.,  48.,  54.,  19.,   4.,   7.,   5.]),\n",
       " array([-0.5573 , -0.44057, -0.32384, -0.20711, -0.09038,  0.02635,\n",
       "         0.14308,  0.25981,  0.37654,  0.49327,  0.61   ]),\n",
       " <a list of 10 Patch objects>)"
      ]
     },
     "execution_count": 19,
     "metadata": {},
     "output_type": "execute_result"
    },
    {
     "data": {
      "image/png": "[encoded data removed]",
      "text/plain": [
       "<matplotlib.figure.Figure at 0x7ff005266c10>"
      ]
     },
     "metadata": {},
     "output_type": "display_data"
    }
   ],
   "source": [
    "plt.hist(xi1[m1])"
   ]
  },
  {
   "cell_type": "code",
   "execution_count": 20,
   "metadata": {
    "collapsed": false
   },
   "outputs": [
    {
     "data": {
      "text/plain": [
       "180"
      ]
     },
     "execution_count": 20,
     "metadata": {},
     "output_type": "execute_result"
    }
   ],
   "source": [
    "len(xi[m])"
   ]
  },
  {
   "cell_type": "code",
   "execution_count": 22,
   "metadata": {
    "collapsed": false
   },
   "outputs": [
    {
     "data": {
      "text/plain": [
       "179"
      ]
     },
     "execution_count": 22,
     "metadata": {},
     "output_type": "execute_result"
    }
   ],
   "source": [
    "len(xi1[m1])"
   ]
  },
  {
   "cell_type": "code",
   "execution_count": 25,
   "metadata": {
    "collapsed": false
   },
   "outputs": [
    {
     "data": {
      "text/plain": [
       "True"
      ]
     },
     "execution_count": 25,
     "metadata": {},
     "output_type": "execute_result"
    }
   ],
   "source": [
    "# Check : all numbers in one are identical as in the other\n",
    "np.sum(np.in1d(xi1[m1],xi[m])) == len(xi1[m1])"
   ]
  },
  {
   "cell_type": "code",
   "execution_count": 28,
   "metadata": {
    "collapsed": false
   },
   "outputs": [
    {
     "data": {
      "text/plain": [
       "array([ 0.1008])"
      ]
     },
     "execution_count": 28,
     "metadata": {},
     "output_type": "execute_result"
    }
   ],
   "source": [
    "# What is the one datapoint that isn't ? \n",
    "xi[m][~np.in1d(xi[m], xi1[m1])]"
   ]
  },
  {
   "cell_type": "markdown",
   "metadata": {},
   "source": [
    "That's very much an outlier! It's surprising because I see no reason why it should be here and it wasn't there before.  \n",
    "Check  errors now : "
   ]
  },
  {
   "cell_type": "code",
   "execution_count": 29,
   "metadata": {
    "collapsed": false
   },
   "outputs": [
    {
     "data": {
      "text/plain": [
       "(array([ 11.,  40.,  59.,  29.,  11.,  11.,   9.,   4.,   4.,   2.]),\n",
       " array([ 0.08445176,  0.08833852,  0.09222527,  0.09611202,  0.09999878,\n",
       "         0.10388553,  0.10777229,  0.11165904,  0.11554579,  0.11943255,\n",
       "         0.1233193 ]),\n",
       " <a list of 10 Patch objects>)"
      ]
     },
     "execution_count": 29,
     "metadata": {},
     "output_type": "execute_result"
    },
    {
     "data": {
      "image/png": "[encoded data removed]",
      "text/plain": [
       "<matplotlib.figure.Figure at 0x7ff00da1ca50>"
      ]
     },
     "metadata": {},
     "output_type": "display_data"
    }
   ],
   "source": [
    "plt.hist(ei[m])"
   ]
  },
  {
   "cell_type": "code",
   "execution_count": 30,
   "metadata": {
    "collapsed": false
   },
   "outputs": [
    {
     "data": {
      "text/plain": [
       "(array([ 11.,  40.,  59.,  28.,  11.,  11.,   9.,   4.,   4.,   2.]),\n",
       " array([ 0.08445176,  0.08833852,  0.09222527,  0.09611202,  0.09999878,\n",
       "         0.10388553,  0.10777229,  0.11165904,  0.11554579,  0.11943255,\n",
       "         0.1233193 ]),\n",
       " <a list of 10 Patch objects>)"
      ]
     },
     "execution_count": 30,
     "metadata": {},
     "output_type": "execute_result"
    },
    {
     "data": {
      "image/png": "[encoded data removed]",
      "text/plain": [
       "<matplotlib.figure.Figure at 0x7ff009904550>"
      ]
     },
     "metadata": {},
     "output_type": "display_data"
    }
   ],
   "source": [
    "plt.hist(ei1[m1])"
   ]
  },
  {
   "cell_type": "code",
   "execution_count": 31,
   "metadata": {
    "collapsed": false
   },
   "outputs": [
    {
     "data": {
      "text/plain": [
       "True"
      ]
     },
     "execution_count": 31,
     "metadata": {},
     "output_type": "execute_result"
    }
   ],
   "source": [
    "# Check : all numbers in one are identical as in the other\n",
    "np.sum(np.in1d(ei1[m1],ei[m])) == len(ei1[m1])"
   ]
  },
  {
   "cell_type": "code",
   "execution_count": 32,
   "metadata": {
    "collapsed": false
   },
   "outputs": [
    {
     "data": {
      "text/plain": [
       "array([ 0.09672874])"
      ]
     },
     "execution_count": 32,
     "metadata": {},
     "output_type": "execute_result"
    }
   ],
   "source": [
    "# What is the one datapoint that isn't ? \n",
    "ei[m][~np.in1d(ei[m], ei1[m1])]"
   ]
  },
  {
   "cell_type": "markdown",
   "metadata": {},
   "source": [
    "A rather insignificant point... \n",
    "\n",
    "Perform this analysis for more stars : plot the overall new histogram. \n",
    "\n",
    "First make the mag cut 17-18\n",
    "\n"
   ]
  },
  {
   "cell_type": "code",
   "execution_count": 40,
   "metadata": {
    "collapsed": true
   },
   "outputs": [],
   "source": [
    "# mask the new dataset \n",
    "msk_mag = (rmag1 < 18) * (rmag1 > 17)\n",
    "msk_err = ei1 < 0.3 \n",
    "\n",
    "msk1 = msk_mag * msk_err\n",
    "\n",
    "# mask the old dataset \n",
    "msk_mag = (rmag < 18) * (rmag > 17)\n",
    "msk_err = ei < 0.3 \n",
    "\n",
    "msk = msk_mag * msk_err"
   ]
  },
  {
   "cell_type": "code",
   "execution_count": 41,
   "metadata": {
    "collapsed": false
   },
   "outputs": [
    {
     "data": {
      "text/plain": [
       "(array([  8127.,  47428.,  28326.,   9644.,   2220.,    784.,    417.,\n",
       "           257.,    135.,     90.]),\n",
       " array([ 0.03401191,  0.06054633,  0.08708076,  0.11361518,  0.1401496 ,\n",
       "         0.16668403,  0.19321845,  0.21975287,  0.2462873 ,  0.27282172,\n",
       "         0.29935614]),\n",
       " <a list of 10 Patch objects>)"
      ]
     },
     "execution_count": 41,
     "metadata": {},
     "output_type": "execute_result"
    },
    {
     "data": {
      "image/png": "[encoded data removed]",
      "text/plain": [
       "<matplotlib.figure.Figure at 0x7ff00953a590>"
      ]
     },
     "metadata": {},
     "output_type": "display_data"
    }
   ],
   "source": [
    "plt.hist(ei1[msk1])"
   ]
  },
  {
   "cell_type": "code",
   "execution_count": 42,
   "metadata": {
    "collapsed": false
   },
   "outputs": [
    {
     "data": {
      "text/plain": [
       "(array([  2.34900000e+03,   3.22830000e+04,   2.23800000e+04,\n",
       "          2.82000000e+03,   1.15100000e+03,   7.38000000e+02,\n",
       "          3.74000000e+02,   1.15000000e+02,   3.50000000e+01,\n",
       "          1.20000000e+01]),\n",
       " array([ 0.03267109,  0.04699825,  0.06132541,  0.07565258,  0.08997974,\n",
       "         0.1043069 ,  0.11863407,  0.13296123,  0.14728839,  0.16161555,\n",
       "         0.17594272]),\n",
       " <a list of 10 Patch objects>)"
      ]
     },
     "execution_count": 42,
     "metadata": {},
     "output_type": "execute_result"
    },
    {
     "data": {
      "image/png": "[encoded data removed]",
      "text/plain": [
       "<matplotlib.figure.Figure at 0x7ff009271a10>"
      ]
     },
     "metadata": {},
     "output_type": "display_data"
    }
   ],
   "source": [
    "plt.hist(ei[msk])"
   ]
  },
  {
   "cell_type": "markdown",
   "metadata": {},
   "source": [
    "They are clearly different, despite selecting the magnitudes! \n",
    "\n",
    "Check what objects are overlapping... "
   ]
  },
  {
   "cell_type": "code",
   "execution_count": 48,
   "metadata": {
    "collapsed": false
   },
   "outputs": [
    {
     "data": {
      "text/plain": [
       "15"
      ]
     },
     "execution_count": 48,
     "metadata": {},
     "output_type": "execute_result"
    }
   ],
   "source": [
    "len(np.unique(n1[msk1][np.in1d(n1[msk1],n[msk])]))"
   ]
  },
  {
   "cell_type": "code",
   "execution_count": 51,
   "metadata": {
    "collapsed": false
   },
   "outputs": [
    {
     "data": {
      "text/plain": [
       "175"
      ]
     },
     "execution_count": 51,
     "metadata": {},
     "output_type": "execute_result"
    }
   ],
   "source": [
    "# Loop over all stars that are in both samples and check whether xi, ei are the same... If not, report xi, ei \n",
    "\n",
    "len(np.unique(n1[np.in1d(n1,n)]))"
   ]
  },
  {
   "cell_type": "code",
   "execution_count": 90,
   "metadata": {
    "collapsed": false
   },
   "outputs": [],
   "source": [
    "diff = []\n",
    "n_diff = []\n",
    "c = 0\n",
    "unmatch = {}\n",
    "\n",
    "for star in np.unique(n1[np.in1d(n1,n)]) :\n",
    "    m = n == star\n",
    "    m1 = n1 == star\n",
    "    if len(xi1[m1]) == len(xi[m]) : \n",
    "        matchdiff = np.sum(np.in1d(xi1[m1],xi[m])) - len(xi1[m1])\n",
    "        if matchdiff != 0 :\n",
    "            unmatch[star] = [matchdiff]\n",
    "                             \n",
    "    else:\n",
    "        c += 1 \n",
    "        diff.append(len(xi1[m1]) -len(xi[m]))\n",
    "        n_diff.append(star)\n",
    "    "
   ]
  },
  {
   "cell_type": "code",
   "execution_count": 91,
   "metadata": {
    "collapsed": false
   },
   "outputs": [
    {
     "data": {
      "text/plain": [
       "{}"
      ]
     },
     "execution_count": 91,
     "metadata": {},
     "output_type": "execute_result"
    }
   ],
   "source": [
    "unmatch"
   ]
  },
  {
   "cell_type": "code",
   "execution_count": 68,
   "metadata": {
    "collapsed": false
   },
   "outputs": [
    {
     "data": {
      "text/plain": [
       "(array([ 40.,   9.,   4.,   9.,   2.]),\n",
       " array([ 1.,  2.,  3.,  4.,  5.,  6.]),\n",
       " <a list of 5 Patch objects>)"
      ]
     },
     "execution_count": 68,
     "metadata": {},
     "output_type": "execute_result"
    },
    {
     "data": {
      "image/png": "[encoded data removed]",
      "text/plain": [
       "<matplotlib.figure.Figure at 0x7ff008d95150>"
      ]
     },
     "metadata": {},
     "output_type": "display_data"
    }
   ],
   "source": [
    "plt.hist(abs(np.array(diff)), bins=5)"
   ]
  },
  {
   "cell_type": "code",
   "execution_count": 69,
   "metadata": {
    "collapsed": false
   },
   "outputs": [
    {
     "data": {
      "text/plain": [
       "64"
      ]
     },
     "execution_count": 69,
     "metadata": {},
     "output_type": "execute_result"
    }
   ],
   "source": [
    "c"
   ]
  },
  {
   "cell_type": "code",
   "execution_count": 70,
   "metadata": {
    "collapsed": false
   },
   "outputs": [
    {
     "data": {
      "text/plain": [
       "175"
      ]
     },
     "execution_count": 70,
     "metadata": {},
     "output_type": "execute_result"
    }
   ],
   "source": [
    "len(np.unique(n1[np.in1d(n1,n)]))"
   ]
  },
  {
   "cell_type": "code",
   "execution_count": 79,
   "metadata": {
    "collapsed": false
   },
   "outputs": [
    {
     "data": {
      "text/plain": [
       "(array([  5.,   4.,  12.,   9.,   5.,   9.,   5.,   4.,   6.,   3.]),\n",
       " array([ 17.437 ,  17.6498,  17.8626,  18.0754,  18.2882,  18.501 ,\n",
       "         18.7138,  18.9266,  19.1394,  19.3522,  19.565 ]),\n",
       " <a list of 10 Patch objects>)"
      ]
     },
     "execution_count": 79,
     "metadata": {},
     "output_type": "execute_result"
    },
    {
     "data": {
      "image/png": "[encoded data removed]",
      "text/plain": [
       "<matplotlib.figure.Figure at 0x7ff008fe1110>"
      ]
     },
     "metadata": {},
     "output_type": "display_data"
    }
   ],
   "source": [
    "# magnitude histogram for those stars that differ...\n",
    "plt.hist(np.unique(rmag[np.in1d(n, n_diff)]))"
   ]
  },
  {
   "cell_type": "code",
   "execution_count": 81,
   "metadata": {
    "collapsed": false
   },
   "outputs": [
    {
     "data": {
      "text/plain": [
       "{11190.0: 0,\n",
       " 17827.0: 0,\n",
       " 37069.0: 0,\n",
       " 41843.0: 0,\n",
       " 54775.0: 0,\n",
       " 70471.0: 0,\n",
       " 91078.0: 0,\n",
       " 94158.0: 0,\n",
       " 95878.0: 0,\n",
       " 96880.0: 0,\n",
       " 102027.0: 0,\n",
       " 104450.0: 0,\n",
       " 153358.0: 0,\n",
       " 180617.0: 0,\n",
       " 197700.0: 0,\n",
       " 198970.0: 0,\n",
       " 212252.0: 0,\n",
       " 215878.0: 0,\n",
       " 249314.0: 0,\n",
       " 253308.0: 0,\n",
       " 257598.0: 0,\n",
       " 329634.0: 0,\n",
       " 358921.0: 0,\n",
       " 359139.0: 0,\n",
       " 360681.0: 0,\n",
       " 372489.0: 0,\n",
       " 378260.0: 1,\n",
       " 385554.0: 0,\n",
       " 388778.0: 0,\n",
       " 396929.0: 1,\n",
       " 408637.0: 0,\n",
       " 418049.0: 0,\n",
       " 433128.0: 0,\n",
       " 439371.0: 0,\n",
       " 446353.0: 0,\n",
       " 453686.0: 0,\n",
       " 453861.0: 0,\n",
       " 460961.0: 0,\n",
       " 465561.0: 0,\n",
       " 468182.0: 0,\n",
       " 473120.0: 0,\n",
       " 473683.0: 0,\n",
       " 480043.0: 0,\n",
       " 482463.0: 0,\n",
       " 483852.0: 0,\n",
       " 484968.0: 0,\n",
       " 493041.0: 0,\n",
       " 496759.0: 0,\n",
       " 512000.0: 0,\n",
       " 518540.0: 0,\n",
       " 523102.0: 0,\n",
       " 523894.0: 0,\n",
       " 532659.0: 0,\n",
       " 534171.0: 0,\n",
       " 545865.0: 0,\n",
       " 546304.0: 0,\n",
       " 548906.0: 0,\n",
       " 556750.0: 0,\n",
       " 560922.0: 0,\n",
       " 562492.0: 0,\n",
       " 565276.0: 0,\n",
       " 566501.0: 0,\n",
       " 572828.0: 0,\n",
       " 573950.0: 0,\n",
       " 578430.0: 0,\n",
       " 579353.0: 0,\n",
       " 584927.0: 0,\n",
       " 591568.0: 0,\n",
       " 598004.0: 0,\n",
       " 604964.0: 0,\n",
       " 614402.0: 0,\n",
       " 615855.0: 0,\n",
       " 616982.0: 0,\n",
       " 641598.0: 0,\n",
       " 662736.0: 0,\n",
       " 669053.0: 0,\n",
       " 671289.0: 0,\n",
       " 677956.0: 0,\n",
       " 686599.0: 0,\n",
       " 686713.0: 0,\n",
       " 688022.0: 0,\n",
       " 688404.0: 0,\n",
       " 689883.0: 0,\n",
       " 694405.0: 0,\n",
       " 696483.0: 0,\n",
       " 697378.0: 0,\n",
       " 698469.0: 0,\n",
       " 699182.0: 0,\n",
       " 700375.0: 0,\n",
       " 709061.0: 0,\n",
       " 714280.0: 0,\n",
       " 728238.0: 0,\n",
       " 735434.0: 0,\n",
       " 735460.0: 0,\n",
       " 743263.0: 0,\n",
       " 745270.0: 0,\n",
       " 748166.0: 0,\n",
       " 750336.0: 0,\n",
       " 766849.0: 0,\n",
       " 766917.0: 0,\n",
       " 770287.0: 0,\n",
       " 770446.0: 0,\n",
       " 782420.0: 0,\n",
       " 792401.0: 0,\n",
       " 806942.0: 0,\n",
       " 810740.0: 0,\n",
       " 820457.0: 0,\n",
       " 824703.0: 0,\n",
       " 827765.0: 0,\n",
       " 834851.0: 0,\n",
       " 945789.0: 0}"
      ]
     },
     "execution_count": 81,
     "metadata": {},
     "output_type": "execute_result"
    }
   ],
   "source": [
    "match"
   ]
  },
  {
   "cell_type": "code",
   "execution_count": 74,
   "metadata": {
    "collapsed": false
   },
   "outputs": [
    {
     "data": {
      "text/plain": [
       "[45739.0,\n",
       " 67489.0,\n",
       " 144164.0,\n",
       " 164270.0,\n",
       " 241658.0,\n",
       " 273089.0,\n",
       " 282497.0,\n",
       " 290281.0,\n",
       " 293148.0,\n",
       " 299021.0,\n",
       " 302132.0,\n",
       " 305317.0,\n",
       " 306981.0,\n",
       " 327810.0,\n",
       " 367163.0,\n",
       " 606175.0,\n",
       " 611273.0,\n",
       " 621516.0,\n",
       " 622069.0,\n",
       " 634085.0,\n",
       " 655898.0,\n",
       " 665585.0,\n",
       " 675425.0,\n",
       " 676995.0,\n",
       " 710954.0,\n",
       " 743449.0,\n",
       " 759551.0,\n",
       " 817422.0,\n",
       " 833375.0,\n",
       " 846618.0,\n",
       " 852090.0,\n",
       " 852371.0,\n",
       " 858958.0,\n",
       " 867535.0,\n",
       " 869529.0,\n",
       " 870706.0,\n",
       " 871105.0,\n",
       " 889280.0,\n",
       " 900005.0,\n",
       " 902049.0,\n",
       " 905368.0,\n",
       " 910703.0,\n",
       " 918730.0,\n",
       " 926778.0,\n",
       " 927191.0,\n",
       " 927684.0,\n",
       " 932723.0,\n",
       " 934557.0,\n",
       " 938040.0,\n",
       " 951870.0,\n",
       " 952715.0,\n",
       " 962149.0,\n",
       " 962342.0,\n",
       " 962859.0,\n",
       " 967230.0,\n",
       " 973451.0,\n",
       " 973704.0,\n",
       " 976101.0,\n",
       " 976329.0,\n",
       " 976967.0,\n",
       " 977247.0,\n",
       " 981140.0,\n",
       " 985622.0,\n",
       " 994014.0]"
      ]
     },
     "execution_count": 74,
     "metadata": {},
     "output_type": "execute_result"
    }
   ],
   "source": [
    "n_diff"
   ]
  },
  {
   "cell_type": "code",
   "execution_count": 75,
   "metadata": {
    "collapsed": false
   },
   "outputs": [
    {
     "data": {
      "text/plain": [
       "array([ True,  True,  True, ..., False, False, False], dtype=bool)"
      ]
     },
     "execution_count": 75,
     "metadata": {},
     "output_type": "execute_result"
    }
   ],
   "source": [
    "np.in1d(n, n_diff)"
   ]
  },
  {
   "cell_type": "code",
   "execution_count": null,
   "metadata": {
    "collapsed": true
   },
   "outputs": [],
   "source": []
  }
 ],
 "metadata": {
  "kernelspec": {
   "display_name": "Python 2",
   "language": "python",
   "name": "python2"
  },
  "language_info": {
   "codemirror_mode": {
    "name": "ipython",
    "version": 2
   },
   "file_extension": ".py",
   "mimetype": "text/x-python",
   "name": "python",
   "nbconvert_exporter": "python",
   "pygments_lexer": "ipython2",
   "version": "2.7.10"
  }
 },
 "nbformat": 4,
 "nbformat_minor": 0
}
